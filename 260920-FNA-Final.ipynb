{
 "cells": [
  {
   "cell_type": "code",
   "execution_count": 1,
   "metadata": {},
   "outputs": [],
   "source": [
    "import pandas as pd\n",
    "import numpy as np\n",
    "\n",
    "import matplotlib.pyplot as plt\n",
    "import seaborn as sns\n",
    "import joblib\n",
    "import scikitplot as skplt\n",
    "\n",
    "%matplotlib inline"
   ]
  },
  {
   "cell_type": "code",
   "execution_count": 2,
   "metadata": {},
   "outputs": [],
   "source": [
    "from sklearn.model_selection import train_test_split\n",
    "from sklearn import metrics\n",
    "from sklearn.metrics import confusion_matrix, accuracy_score, roc_auc_score\n",
    "from sklearn.pipeline import Pipeline\n",
    "from sklearn.pipeline import make_pipeline, make_union\n",
    "from sklearn.decomposition import PCA\n",
    "#from statsmodels.multivariate.pca import PCA\n",
    "from sklearn.preprocessing import FunctionTransformer\n",
    "from copy import copy\n",
    "\n",
    "from sklearn.preprocessing import MinMaxScaler, StandardScaler\n",
    "from matplotlib import pyplot\n"
   ]
  },
  {
   "cell_type": "code",
   "execution_count": 3,
   "metadata": {},
   "outputs": [],
   "source": [
    "from numpy import mean\n",
    "from numpy import std\n",
    "from sklearn.datasets import make_classification\n",
    "from sklearn.linear_model import LogisticRegression\n",
    "from sklearn.svm import LinearSVC\n",
    "from sklearn.svm import SVC\n",
    "from sklearn.model_selection import cross_val_score\n",
    "from sklearn.model_selection import RepeatedStratifiedKFold\n",
    "from sklearn.ensemble import ExtraTreesClassifier\n",
    "from sklearn.ensemble import StackingClassifier\n",
    "from sklearn.ensemble import RandomForestClassifier\n",
    "from sklearn.neighbors import KNeighborsClassifier\n",
    "from sklearn.tree import DecisionTreeClassifier\n",
    "from sklearn.naive_bayes import GaussianNB\n",
    "import xgboost as xgb\n",
    "from sklearn.neural_network import MLPClassifier\n",
    "from xgboost import XGBClassifier"
   ]
  },
  {
   "cell_type": "code",
   "execution_count": 4,
   "metadata": {},
   "outputs": [],
   "source": [
    "# Create specificity scoring function\n",
    "from sklearn.metrics import make_scorer\n",
    "spec_score = make_scorer(metrics.recall_score,pos_label=0)"
   ]
  },
  {
   "cell_type": "code",
   "execution_count": 5,
   "metadata": {},
   "outputs": [],
   "source": [
    "data = pd.read_csv('data.csv')"
   ]
  },
  {
   "cell_type": "code",
   "execution_count": 6,
   "metadata": {},
   "outputs": [
    {
     "data": {
      "text/html": [
       "<div>\n",
       "<style scoped>\n",
       "    .dataframe tbody tr th:only-of-type {\n",
       "        vertical-align: middle;\n",
       "    }\n",
       "\n",
       "    .dataframe tbody tr th {\n",
       "        vertical-align: top;\n",
       "    }\n",
       "\n",
       "    .dataframe thead th {\n",
       "        text-align: right;\n",
       "    }\n",
       "</style>\n",
       "<table border=\"1\" class=\"dataframe\">\n",
       "  <thead>\n",
       "    <tr style=\"text-align: right;\">\n",
       "      <th></th>\n",
       "      <th>id</th>\n",
       "      <th>diagnosis</th>\n",
       "      <th>radius_mean</th>\n",
       "      <th>texture_mean</th>\n",
       "      <th>perimeter_mean</th>\n",
       "      <th>area_mean</th>\n",
       "      <th>smoothness_mean</th>\n",
       "      <th>compactness_mean</th>\n",
       "      <th>concavity_mean</th>\n",
       "      <th>concave points_mean</th>\n",
       "      <th>...</th>\n",
       "      <th>texture_worst</th>\n",
       "      <th>perimeter_worst</th>\n",
       "      <th>area_worst</th>\n",
       "      <th>smoothness_worst</th>\n",
       "      <th>compactness_worst</th>\n",
       "      <th>concavity_worst</th>\n",
       "      <th>concave points_worst</th>\n",
       "      <th>symmetry_worst</th>\n",
       "      <th>fractal_dimension_worst</th>\n",
       "      <th>Unnamed: 32</th>\n",
       "    </tr>\n",
       "  </thead>\n",
       "  <tbody>\n",
       "    <tr>\n",
       "      <th>0</th>\n",
       "      <td>842302</td>\n",
       "      <td>M</td>\n",
       "      <td>17.99</td>\n",
       "      <td>10.38</td>\n",
       "      <td>122.80</td>\n",
       "      <td>1001.0</td>\n",
       "      <td>0.11840</td>\n",
       "      <td>0.27760</td>\n",
       "      <td>0.3001</td>\n",
       "      <td>0.14710</td>\n",
       "      <td>...</td>\n",
       "      <td>17.33</td>\n",
       "      <td>184.60</td>\n",
       "      <td>2019.0</td>\n",
       "      <td>0.1622</td>\n",
       "      <td>0.6656</td>\n",
       "      <td>0.7119</td>\n",
       "      <td>0.2654</td>\n",
       "      <td>0.4601</td>\n",
       "      <td>0.11890</td>\n",
       "      <td>NaN</td>\n",
       "    </tr>\n",
       "    <tr>\n",
       "      <th>1</th>\n",
       "      <td>842517</td>\n",
       "      <td>M</td>\n",
       "      <td>20.57</td>\n",
       "      <td>17.77</td>\n",
       "      <td>132.90</td>\n",
       "      <td>1326.0</td>\n",
       "      <td>0.08474</td>\n",
       "      <td>0.07864</td>\n",
       "      <td>0.0869</td>\n",
       "      <td>0.07017</td>\n",
       "      <td>...</td>\n",
       "      <td>23.41</td>\n",
       "      <td>158.80</td>\n",
       "      <td>1956.0</td>\n",
       "      <td>0.1238</td>\n",
       "      <td>0.1866</td>\n",
       "      <td>0.2416</td>\n",
       "      <td>0.1860</td>\n",
       "      <td>0.2750</td>\n",
       "      <td>0.08902</td>\n",
       "      <td>NaN</td>\n",
       "    </tr>\n",
       "    <tr>\n",
       "      <th>2</th>\n",
       "      <td>84300903</td>\n",
       "      <td>M</td>\n",
       "      <td>19.69</td>\n",
       "      <td>21.25</td>\n",
       "      <td>130.00</td>\n",
       "      <td>1203.0</td>\n",
       "      <td>0.10960</td>\n",
       "      <td>0.15990</td>\n",
       "      <td>0.1974</td>\n",
       "      <td>0.12790</td>\n",
       "      <td>...</td>\n",
       "      <td>25.53</td>\n",
       "      <td>152.50</td>\n",
       "      <td>1709.0</td>\n",
       "      <td>0.1444</td>\n",
       "      <td>0.4245</td>\n",
       "      <td>0.4504</td>\n",
       "      <td>0.2430</td>\n",
       "      <td>0.3613</td>\n",
       "      <td>0.08758</td>\n",
       "      <td>NaN</td>\n",
       "    </tr>\n",
       "    <tr>\n",
       "      <th>3</th>\n",
       "      <td>84348301</td>\n",
       "      <td>M</td>\n",
       "      <td>11.42</td>\n",
       "      <td>20.38</td>\n",
       "      <td>77.58</td>\n",
       "      <td>386.1</td>\n",
       "      <td>0.14250</td>\n",
       "      <td>0.28390</td>\n",
       "      <td>0.2414</td>\n",
       "      <td>0.10520</td>\n",
       "      <td>...</td>\n",
       "      <td>26.50</td>\n",
       "      <td>98.87</td>\n",
       "      <td>567.7</td>\n",
       "      <td>0.2098</td>\n",
       "      <td>0.8663</td>\n",
       "      <td>0.6869</td>\n",
       "      <td>0.2575</td>\n",
       "      <td>0.6638</td>\n",
       "      <td>0.17300</td>\n",
       "      <td>NaN</td>\n",
       "    </tr>\n",
       "    <tr>\n",
       "      <th>4</th>\n",
       "      <td>84358402</td>\n",
       "      <td>M</td>\n",
       "      <td>20.29</td>\n",
       "      <td>14.34</td>\n",
       "      <td>135.10</td>\n",
       "      <td>1297.0</td>\n",
       "      <td>0.10030</td>\n",
       "      <td>0.13280</td>\n",
       "      <td>0.1980</td>\n",
       "      <td>0.10430</td>\n",
       "      <td>...</td>\n",
       "      <td>16.67</td>\n",
       "      <td>152.20</td>\n",
       "      <td>1575.0</td>\n",
       "      <td>0.1374</td>\n",
       "      <td>0.2050</td>\n",
       "      <td>0.4000</td>\n",
       "      <td>0.1625</td>\n",
       "      <td>0.2364</td>\n",
       "      <td>0.07678</td>\n",
       "      <td>NaN</td>\n",
       "    </tr>\n",
       "  </tbody>\n",
       "</table>\n",
       "<p>5 rows × 33 columns</p>\n",
       "</div>"
      ],
      "text/plain": [
       "         id diagnosis  radius_mean  texture_mean  perimeter_mean  area_mean  \\\n",
       "0    842302         M        17.99         10.38          122.80     1001.0   \n",
       "1    842517         M        20.57         17.77          132.90     1326.0   \n",
       "2  84300903         M        19.69         21.25          130.00     1203.0   \n",
       "3  84348301         M        11.42         20.38           77.58      386.1   \n",
       "4  84358402         M        20.29         14.34          135.10     1297.0   \n",
       "\n",
       "   smoothness_mean  compactness_mean  concavity_mean  concave points_mean  \\\n",
       "0          0.11840           0.27760          0.3001              0.14710   \n",
       "1          0.08474           0.07864          0.0869              0.07017   \n",
       "2          0.10960           0.15990          0.1974              0.12790   \n",
       "3          0.14250           0.28390          0.2414              0.10520   \n",
       "4          0.10030           0.13280          0.1980              0.10430   \n",
       "\n",
       "   ...  texture_worst  perimeter_worst  area_worst  smoothness_worst  \\\n",
       "0  ...          17.33           184.60      2019.0            0.1622   \n",
       "1  ...          23.41           158.80      1956.0            0.1238   \n",
       "2  ...          25.53           152.50      1709.0            0.1444   \n",
       "3  ...          26.50            98.87       567.7            0.2098   \n",
       "4  ...          16.67           152.20      1575.0            0.1374   \n",
       "\n",
       "   compactness_worst  concavity_worst  concave points_worst  symmetry_worst  \\\n",
       "0             0.6656           0.7119                0.2654          0.4601   \n",
       "1             0.1866           0.2416                0.1860          0.2750   \n",
       "2             0.4245           0.4504                0.2430          0.3613   \n",
       "3             0.8663           0.6869                0.2575          0.6638   \n",
       "4             0.2050           0.4000                0.1625          0.2364   \n",
       "\n",
       "   fractal_dimension_worst  Unnamed: 32  \n",
       "0                  0.11890          NaN  \n",
       "1                  0.08902          NaN  \n",
       "2                  0.08758          NaN  \n",
       "3                  0.17300          NaN  \n",
       "4                  0.07678          NaN  \n",
       "\n",
       "[5 rows x 33 columns]"
      ]
     },
     "execution_count": 6,
     "metadata": {},
     "output_type": "execute_result"
    }
   ],
   "source": [
    "data.head()"
   ]
  },
  {
   "cell_type": "code",
   "execution_count": 7,
   "metadata": {},
   "outputs": [
    {
     "data": {
      "text/plain": [
       "(569, 33)"
      ]
     },
     "execution_count": 7,
     "metadata": {},
     "output_type": "execute_result"
    }
   ],
   "source": [
    "data.shape"
   ]
  },
  {
   "cell_type": "code",
   "execution_count": 8,
   "metadata": {},
   "outputs": [
    {
     "data": {
      "text/plain": [
       "id                           0\n",
       "diagnosis                    0\n",
       "radius_mean                  0\n",
       "texture_mean                 0\n",
       "perimeter_mean               0\n",
       "area_mean                    0\n",
       "smoothness_mean              0\n",
       "compactness_mean             0\n",
       "concavity_mean               0\n",
       "concave points_mean          0\n",
       "symmetry_mean                0\n",
       "fractal_dimension_mean       0\n",
       "radius_se                    0\n",
       "texture_se                   0\n",
       "perimeter_se                 0\n",
       "area_se                      0\n",
       "smoothness_se                0\n",
       "compactness_se               0\n",
       "concavity_se                 0\n",
       "concave points_se            0\n",
       "symmetry_se                  0\n",
       "fractal_dimension_se         0\n",
       "radius_worst                 0\n",
       "texture_worst                0\n",
       "perimeter_worst              0\n",
       "area_worst                   0\n",
       "smoothness_worst             0\n",
       "compactness_worst            0\n",
       "concavity_worst              0\n",
       "concave points_worst         0\n",
       "symmetry_worst               0\n",
       "fractal_dimension_worst      0\n",
       "Unnamed: 32                569\n",
       "dtype: int64"
      ]
     },
     "execution_count": 8,
     "metadata": {},
     "output_type": "execute_result"
    }
   ],
   "source": [
    "data.isna().sum()"
   ]
  },
  {
   "cell_type": "code",
   "execution_count": 9,
   "metadata": {},
   "outputs": [],
   "source": [
    "data.drop(\"Unnamed: 32\", axis = 1, inplace = True)"
   ]
  },
  {
   "cell_type": "code",
   "execution_count": 10,
   "metadata": {},
   "outputs": [
    {
     "data": {
      "text/html": [
       "<div>\n",
       "<style scoped>\n",
       "    .dataframe tbody tr th:only-of-type {\n",
       "        vertical-align: middle;\n",
       "    }\n",
       "\n",
       "    .dataframe tbody tr th {\n",
       "        vertical-align: top;\n",
       "    }\n",
       "\n",
       "    .dataframe thead th {\n",
       "        text-align: right;\n",
       "    }\n",
       "</style>\n",
       "<table border=\"1\" class=\"dataframe\">\n",
       "  <thead>\n",
       "    <tr style=\"text-align: right;\">\n",
       "      <th></th>\n",
       "      <th>id</th>\n",
       "      <th>diagnosis</th>\n",
       "      <th>radius_mean</th>\n",
       "      <th>texture_mean</th>\n",
       "      <th>perimeter_mean</th>\n",
       "      <th>area_mean</th>\n",
       "      <th>smoothness_mean</th>\n",
       "      <th>compactness_mean</th>\n",
       "      <th>concavity_mean</th>\n",
       "      <th>concave points_mean</th>\n",
       "      <th>...</th>\n",
       "      <th>radius_worst</th>\n",
       "      <th>texture_worst</th>\n",
       "      <th>perimeter_worst</th>\n",
       "      <th>area_worst</th>\n",
       "      <th>smoothness_worst</th>\n",
       "      <th>compactness_worst</th>\n",
       "      <th>concavity_worst</th>\n",
       "      <th>concave points_worst</th>\n",
       "      <th>symmetry_worst</th>\n",
       "      <th>fractal_dimension_worst</th>\n",
       "    </tr>\n",
       "  </thead>\n",
       "  <tbody>\n",
       "    <tr>\n",
       "      <th>0</th>\n",
       "      <td>842302</td>\n",
       "      <td>M</td>\n",
       "      <td>17.99</td>\n",
       "      <td>10.38</td>\n",
       "      <td>122.80</td>\n",
       "      <td>1001.0</td>\n",
       "      <td>0.11840</td>\n",
       "      <td>0.27760</td>\n",
       "      <td>0.3001</td>\n",
       "      <td>0.14710</td>\n",
       "      <td>...</td>\n",
       "      <td>25.38</td>\n",
       "      <td>17.33</td>\n",
       "      <td>184.60</td>\n",
       "      <td>2019.0</td>\n",
       "      <td>0.1622</td>\n",
       "      <td>0.6656</td>\n",
       "      <td>0.7119</td>\n",
       "      <td>0.2654</td>\n",
       "      <td>0.4601</td>\n",
       "      <td>0.11890</td>\n",
       "    </tr>\n",
       "    <tr>\n",
       "      <th>1</th>\n",
       "      <td>842517</td>\n",
       "      <td>M</td>\n",
       "      <td>20.57</td>\n",
       "      <td>17.77</td>\n",
       "      <td>132.90</td>\n",
       "      <td>1326.0</td>\n",
       "      <td>0.08474</td>\n",
       "      <td>0.07864</td>\n",
       "      <td>0.0869</td>\n",
       "      <td>0.07017</td>\n",
       "      <td>...</td>\n",
       "      <td>24.99</td>\n",
       "      <td>23.41</td>\n",
       "      <td>158.80</td>\n",
       "      <td>1956.0</td>\n",
       "      <td>0.1238</td>\n",
       "      <td>0.1866</td>\n",
       "      <td>0.2416</td>\n",
       "      <td>0.1860</td>\n",
       "      <td>0.2750</td>\n",
       "      <td>0.08902</td>\n",
       "    </tr>\n",
       "    <tr>\n",
       "      <th>2</th>\n",
       "      <td>84300903</td>\n",
       "      <td>M</td>\n",
       "      <td>19.69</td>\n",
       "      <td>21.25</td>\n",
       "      <td>130.00</td>\n",
       "      <td>1203.0</td>\n",
       "      <td>0.10960</td>\n",
       "      <td>0.15990</td>\n",
       "      <td>0.1974</td>\n",
       "      <td>0.12790</td>\n",
       "      <td>...</td>\n",
       "      <td>23.57</td>\n",
       "      <td>25.53</td>\n",
       "      <td>152.50</td>\n",
       "      <td>1709.0</td>\n",
       "      <td>0.1444</td>\n",
       "      <td>0.4245</td>\n",
       "      <td>0.4504</td>\n",
       "      <td>0.2430</td>\n",
       "      <td>0.3613</td>\n",
       "      <td>0.08758</td>\n",
       "    </tr>\n",
       "    <tr>\n",
       "      <th>3</th>\n",
       "      <td>84348301</td>\n",
       "      <td>M</td>\n",
       "      <td>11.42</td>\n",
       "      <td>20.38</td>\n",
       "      <td>77.58</td>\n",
       "      <td>386.1</td>\n",
       "      <td>0.14250</td>\n",
       "      <td>0.28390</td>\n",
       "      <td>0.2414</td>\n",
       "      <td>0.10520</td>\n",
       "      <td>...</td>\n",
       "      <td>14.91</td>\n",
       "      <td>26.50</td>\n",
       "      <td>98.87</td>\n",
       "      <td>567.7</td>\n",
       "      <td>0.2098</td>\n",
       "      <td>0.8663</td>\n",
       "      <td>0.6869</td>\n",
       "      <td>0.2575</td>\n",
       "      <td>0.6638</td>\n",
       "      <td>0.17300</td>\n",
       "    </tr>\n",
       "    <tr>\n",
       "      <th>4</th>\n",
       "      <td>84358402</td>\n",
       "      <td>M</td>\n",
       "      <td>20.29</td>\n",
       "      <td>14.34</td>\n",
       "      <td>135.10</td>\n",
       "      <td>1297.0</td>\n",
       "      <td>0.10030</td>\n",
       "      <td>0.13280</td>\n",
       "      <td>0.1980</td>\n",
       "      <td>0.10430</td>\n",
       "      <td>...</td>\n",
       "      <td>22.54</td>\n",
       "      <td>16.67</td>\n",
       "      <td>152.20</td>\n",
       "      <td>1575.0</td>\n",
       "      <td>0.1374</td>\n",
       "      <td>0.2050</td>\n",
       "      <td>0.4000</td>\n",
       "      <td>0.1625</td>\n",
       "      <td>0.2364</td>\n",
       "      <td>0.07678</td>\n",
       "    </tr>\n",
       "  </tbody>\n",
       "</table>\n",
       "<p>5 rows × 32 columns</p>\n",
       "</div>"
      ],
      "text/plain": [
       "         id diagnosis  radius_mean  texture_mean  perimeter_mean  area_mean  \\\n",
       "0    842302         M        17.99         10.38          122.80     1001.0   \n",
       "1    842517         M        20.57         17.77          132.90     1326.0   \n",
       "2  84300903         M        19.69         21.25          130.00     1203.0   \n",
       "3  84348301         M        11.42         20.38           77.58      386.1   \n",
       "4  84358402         M        20.29         14.34          135.10     1297.0   \n",
       "\n",
       "   smoothness_mean  compactness_mean  concavity_mean  concave points_mean  \\\n",
       "0          0.11840           0.27760          0.3001              0.14710   \n",
       "1          0.08474           0.07864          0.0869              0.07017   \n",
       "2          0.10960           0.15990          0.1974              0.12790   \n",
       "3          0.14250           0.28390          0.2414              0.10520   \n",
       "4          0.10030           0.13280          0.1980              0.10430   \n",
       "\n",
       "   ...  radius_worst  texture_worst  perimeter_worst  area_worst  \\\n",
       "0  ...         25.38          17.33           184.60      2019.0   \n",
       "1  ...         24.99          23.41           158.80      1956.0   \n",
       "2  ...         23.57          25.53           152.50      1709.0   \n",
       "3  ...         14.91          26.50            98.87       567.7   \n",
       "4  ...         22.54          16.67           152.20      1575.0   \n",
       "\n",
       "   smoothness_worst  compactness_worst  concavity_worst  concave points_worst  \\\n",
       "0            0.1622             0.6656           0.7119                0.2654   \n",
       "1            0.1238             0.1866           0.2416                0.1860   \n",
       "2            0.1444             0.4245           0.4504                0.2430   \n",
       "3            0.2098             0.8663           0.6869                0.2575   \n",
       "4            0.1374             0.2050           0.4000                0.1625   \n",
       "\n",
       "   symmetry_worst  fractal_dimension_worst  \n",
       "0          0.4601                  0.11890  \n",
       "1          0.2750                  0.08902  \n",
       "2          0.3613                  0.08758  \n",
       "3          0.6638                  0.17300  \n",
       "4          0.2364                  0.07678  \n",
       "\n",
       "[5 rows x 32 columns]"
      ]
     },
     "execution_count": 10,
     "metadata": {},
     "output_type": "execute_result"
    }
   ],
   "source": [
    "data.head()"
   ]
  },
  {
   "cell_type": "code",
   "execution_count": 11,
   "metadata": {},
   "outputs": [
    {
     "data": {
      "text/plain": [
       "diagnosis\n",
       "B    357\n",
       "M    212\n",
       "dtype: int64"
      ]
     },
     "execution_count": 11,
     "metadata": {},
     "output_type": "execute_result"
    }
   ],
   "source": [
    "data.groupby('diagnosis').size()"
   ]
  },
  {
   "cell_type": "code",
   "execution_count": 12,
   "metadata": {},
   "outputs": [
    {
     "data": {
      "text/plain": [
       "(569, 32)"
      ]
     },
     "execution_count": 12,
     "metadata": {},
     "output_type": "execute_result"
    }
   ],
   "source": [
    "data.shape"
   ]
  },
  {
   "cell_type": "code",
   "execution_count": 13,
   "metadata": {},
   "outputs": [
    {
     "data": {
      "text/plain": [
       "array([[<AxesSubplot:title={'center':'id'}>,\n",
       "        <AxesSubplot:title={'center':'radius_mean'}>,\n",
       "        <AxesSubplot:title={'center':'texture_mean'}>,\n",
       "        <AxesSubplot:title={'center':'perimeter_mean'}>,\n",
       "        <AxesSubplot:title={'center':'area_mean'}>,\n",
       "        <AxesSubplot:title={'center':'smoothness_mean'}>],\n",
       "       [<AxesSubplot:title={'center':'compactness_mean'}>,\n",
       "        <AxesSubplot:title={'center':'concavity_mean'}>,\n",
       "        <AxesSubplot:title={'center':'concave points_mean'}>,\n",
       "        <AxesSubplot:title={'center':'symmetry_mean'}>,\n",
       "        <AxesSubplot:title={'center':'fractal_dimension_mean'}>,\n",
       "        <AxesSubplot:title={'center':'radius_se'}>],\n",
       "       [<AxesSubplot:title={'center':'texture_se'}>,\n",
       "        <AxesSubplot:title={'center':'perimeter_se'}>,\n",
       "        <AxesSubplot:title={'center':'area_se'}>,\n",
       "        <AxesSubplot:title={'center':'smoothness_se'}>,\n",
       "        <AxesSubplot:title={'center':'compactness_se'}>,\n",
       "        <AxesSubplot:title={'center':'concavity_se'}>],\n",
       "       [<AxesSubplot:title={'center':'concave points_se'}>,\n",
       "        <AxesSubplot:title={'center':'symmetry_se'}>,\n",
       "        <AxesSubplot:title={'center':'fractal_dimension_se'}>,\n",
       "        <AxesSubplot:title={'center':'radius_worst'}>,\n",
       "        <AxesSubplot:title={'center':'texture_worst'}>,\n",
       "        <AxesSubplot:title={'center':'perimeter_worst'}>],\n",
       "       [<AxesSubplot:title={'center':'area_worst'}>,\n",
       "        <AxesSubplot:title={'center':'smoothness_worst'}>,\n",
       "        <AxesSubplot:title={'center':'compactness_worst'}>,\n",
       "        <AxesSubplot:title={'center':'concavity_worst'}>,\n",
       "        <AxesSubplot:title={'center':'concave points_worst'}>,\n",
       "        <AxesSubplot:title={'center':'symmetry_worst'}>],\n",
       "       [<AxesSubplot:title={'center':'fractal_dimension_worst'}>,\n",
       "        <AxesSubplot:>, <AxesSubplot:>, <AxesSubplot:>, <AxesSubplot:>,\n",
       "        <AxesSubplot:>]], dtype=object)"
      ]
     },
     "execution_count": 13,
     "metadata": {},
     "output_type": "execute_result"
    },
    {
     "data": {
      "image/png": "[encoded data removed]",
      "text/plain": [
       "<Figure size 2160x1440 with 36 Axes>"
      ]
     },
     "metadata": {
      "needs_background": "light"
     },
     "output_type": "display_data"
    }
   ],
   "source": [
    "data.hist(bins=30, figsize=(30, 20))"
   ]
  },
  {
   "cell_type": "code",
   "execution_count": 14,
   "metadata": {},
   "outputs": [],
   "source": [
    "corr = data.corr()"
   ]
  },
  {
   "cell_type": "code",
   "execution_count": 15,
   "metadata": {},
   "outputs": [],
   "source": [
    "# Generate a custom diverging colormap\n",
    "cmap = sns.diverging_palette(230, 20, as_cmap=True)"
   ]
  },
  {
   "cell_type": "code",
   "execution_count": 16,
   "metadata": {},
   "outputs": [
    {
     "data": {
      "text/plain": [
       "<AxesSubplot:>"
      ]
     },
     "execution_count": 16,
     "metadata": {},
     "output_type": "execute_result"
    },
    {
     "data": {
      "image/png": "[encoded data removed]",
      "text/plain": [
       "<Figure size 792x648 with 2 Axes>"
      ]
     },
     "metadata": {
      "needs_background": "light"
     },
     "output_type": "display_data"
    }
   ],
   "source": [
    "# Generate a mask for the upper triangle\n",
    "mask = np.triu(np.ones_like(corr, dtype=bool))\n",
    "\n",
    "# Set up the matplotlib figure\n",
    "f, ax = plt.subplots(figsize=(11, 9))\n",
    "\n",
    "# plot the heatmap\n",
    "sns.heatmap(corr, cmap = cmap, mask = mask, vmax=.3, center=0,\n",
    "            square=True, linewidths=.5, cbar_kws={\"shrink\": .5})"
   ]
  },
  {
   "cell_type": "markdown",
   "metadata": {},
   "source": [
    "### Train Test Split"
   ]
  },
  {
   "cell_type": "code",
   "execution_count": 17,
   "metadata": {},
   "outputs": [],
   "source": [
    "# Set seed value\n",
    "random_seed= 123\n",
    "\n",
    "# 1. Set `PYTHONHASHSEED` environment variable at a fixed value\n",
    "import os\n",
    "os.environ['PYTHONHASHSEED']=str(random_seed)\n",
    "# 2. Set `python` built-in pseudo-random generator at a fixed value\n",
    "import random\n",
    "random.seed(random_seed)\n",
    "# 3. Set `numpy` pseudo-random generator at a fixed value\n",
    "import numpy as np\n",
    "np.random.seed(random_seed)"
   ]
  },
  {
   "cell_type": "code",
   "execution_count": 18,
   "metadata": {},
   "outputs": [],
   "source": [
    "# convert target to binary\n",
    "# creating a dict file  \n",
    "status = {'B': 0,'M': 1} \n",
    "  \n",
    "# traversing through dataframe \n",
    "# Gender column and writing `b\n",
    "# values where key matches \n",
    "data.diagnosis = [status[item] for item in data.diagnosis] "
   ]
  },
  {
   "cell_type": "code",
   "execution_count": 19,
   "metadata": {
    "scrolled": true
   },
   "outputs": [
    {
     "data": {
      "text/plain": [
       "diagnosis\n",
       "0    357\n",
       "1    212\n",
       "dtype: int64"
      ]
     },
     "execution_count": 19,
     "metadata": {},
     "output_type": "execute_result"
    }
   ],
   "source": [
    "data.groupby('diagnosis').size()"
   ]
  },
  {
   "cell_type": "code",
   "execution_count": 20,
   "metadata": {},
   "outputs": [],
   "source": [
    "X = data.drop(['id','diagnosis'], axis = 1)\n",
    "X_trans = pd.DataFrame(StandardScaler().fit_transform(X), columns =  X.columns, index = X.index)"
   ]
  },
  {
   "cell_type": "code",
   "execution_count": 21,
   "metadata": {},
   "outputs": [
    {
     "data": {
      "text/html": [
       "<div>\n",
       "<style scoped>\n",
       "    .dataframe tbody tr th:only-of-type {\n",
       "        vertical-align: middle;\n",
       "    }\n",
       "\n",
       "    .dataframe tbody tr th {\n",
       "        vertical-align: top;\n",
       "    }\n",
       "\n",
       "    .dataframe thead th {\n",
       "        text-align: right;\n",
       "    }\n",
       "</style>\n",
       "<table border=\"1\" class=\"dataframe\">\n",
       "  <thead>\n",
       "    <tr style=\"text-align: right;\">\n",
       "      <th></th>\n",
       "      <th>radius_mean</th>\n",
       "      <th>texture_mean</th>\n",
       "      <th>perimeter_mean</th>\n",
       "      <th>area_mean</th>\n",
       "      <th>smoothness_mean</th>\n",
       "      <th>compactness_mean</th>\n",
       "      <th>concavity_mean</th>\n",
       "      <th>concave points_mean</th>\n",
       "      <th>symmetry_mean</th>\n",
       "      <th>fractal_dimension_mean</th>\n",
       "      <th>...</th>\n",
       "      <th>radius_worst</th>\n",
       "      <th>texture_worst</th>\n",
       "      <th>perimeter_worst</th>\n",
       "      <th>area_worst</th>\n",
       "      <th>smoothness_worst</th>\n",
       "      <th>compactness_worst</th>\n",
       "      <th>concavity_worst</th>\n",
       "      <th>concave points_worst</th>\n",
       "      <th>symmetry_worst</th>\n",
       "      <th>fractal_dimension_worst</th>\n",
       "    </tr>\n",
       "  </thead>\n",
       "  <tbody>\n",
       "    <tr>\n",
       "      <th>0</th>\n",
       "      <td>1.097064</td>\n",
       "      <td>-2.073335</td>\n",
       "      <td>1.269934</td>\n",
       "      <td>0.984375</td>\n",
       "      <td>1.568466</td>\n",
       "      <td>3.283515</td>\n",
       "      <td>2.652874</td>\n",
       "      <td>2.532475</td>\n",
       "      <td>2.217515</td>\n",
       "      <td>2.255747</td>\n",
       "      <td>...</td>\n",
       "      <td>1.886690</td>\n",
       "      <td>-1.359293</td>\n",
       "      <td>2.303601</td>\n",
       "      <td>2.001237</td>\n",
       "      <td>1.307686</td>\n",
       "      <td>2.616665</td>\n",
       "      <td>2.109526</td>\n",
       "      <td>2.296076</td>\n",
       "      <td>2.750622</td>\n",
       "      <td>1.937015</td>\n",
       "    </tr>\n",
       "    <tr>\n",
       "      <th>1</th>\n",
       "      <td>1.829821</td>\n",
       "      <td>-0.353632</td>\n",
       "      <td>1.685955</td>\n",
       "      <td>1.908708</td>\n",
       "      <td>-0.826962</td>\n",
       "      <td>-0.487072</td>\n",
       "      <td>-0.023846</td>\n",
       "      <td>0.548144</td>\n",
       "      <td>0.001392</td>\n",
       "      <td>-0.868652</td>\n",
       "      <td>...</td>\n",
       "      <td>1.805927</td>\n",
       "      <td>-0.369203</td>\n",
       "      <td>1.535126</td>\n",
       "      <td>1.890489</td>\n",
       "      <td>-0.375612</td>\n",
       "      <td>-0.430444</td>\n",
       "      <td>-0.146749</td>\n",
       "      <td>1.087084</td>\n",
       "      <td>-0.243890</td>\n",
       "      <td>0.281190</td>\n",
       "    </tr>\n",
       "    <tr>\n",
       "      <th>2</th>\n",
       "      <td>1.579888</td>\n",
       "      <td>0.456187</td>\n",
       "      <td>1.566503</td>\n",
       "      <td>1.558884</td>\n",
       "      <td>0.942210</td>\n",
       "      <td>1.052926</td>\n",
       "      <td>1.363478</td>\n",
       "      <td>2.037231</td>\n",
       "      <td>0.939685</td>\n",
       "      <td>-0.398008</td>\n",
       "      <td>...</td>\n",
       "      <td>1.511870</td>\n",
       "      <td>-0.023974</td>\n",
       "      <td>1.347475</td>\n",
       "      <td>1.456285</td>\n",
       "      <td>0.527407</td>\n",
       "      <td>1.082932</td>\n",
       "      <td>0.854974</td>\n",
       "      <td>1.955000</td>\n",
       "      <td>1.152255</td>\n",
       "      <td>0.201391</td>\n",
       "    </tr>\n",
       "    <tr>\n",
       "      <th>3</th>\n",
       "      <td>-0.768909</td>\n",
       "      <td>0.253732</td>\n",
       "      <td>-0.592687</td>\n",
       "      <td>-0.764464</td>\n",
       "      <td>3.283553</td>\n",
       "      <td>3.402909</td>\n",
       "      <td>1.915897</td>\n",
       "      <td>1.451707</td>\n",
       "      <td>2.867383</td>\n",
       "      <td>4.910919</td>\n",
       "      <td>...</td>\n",
       "      <td>-0.281464</td>\n",
       "      <td>0.133984</td>\n",
       "      <td>-0.249939</td>\n",
       "      <td>-0.550021</td>\n",
       "      <td>3.394275</td>\n",
       "      <td>3.893397</td>\n",
       "      <td>1.989588</td>\n",
       "      <td>2.175786</td>\n",
       "      <td>6.046041</td>\n",
       "      <td>4.935010</td>\n",
       "    </tr>\n",
       "    <tr>\n",
       "      <th>4</th>\n",
       "      <td>1.750297</td>\n",
       "      <td>-1.151816</td>\n",
       "      <td>1.776573</td>\n",
       "      <td>1.826229</td>\n",
       "      <td>0.280372</td>\n",
       "      <td>0.539340</td>\n",
       "      <td>1.371011</td>\n",
       "      <td>1.428493</td>\n",
       "      <td>-0.009560</td>\n",
       "      <td>-0.562450</td>\n",
       "      <td>...</td>\n",
       "      <td>1.298575</td>\n",
       "      <td>-1.466770</td>\n",
       "      <td>1.338539</td>\n",
       "      <td>1.220724</td>\n",
       "      <td>0.220556</td>\n",
       "      <td>-0.313395</td>\n",
       "      <td>0.613179</td>\n",
       "      <td>0.729259</td>\n",
       "      <td>-0.868353</td>\n",
       "      <td>-0.397100</td>\n",
       "    </tr>\n",
       "    <tr>\n",
       "      <th>...</th>\n",
       "      <td>...</td>\n",
       "      <td>...</td>\n",
       "      <td>...</td>\n",
       "      <td>...</td>\n",
       "      <td>...</td>\n",
       "      <td>...</td>\n",
       "      <td>...</td>\n",
       "      <td>...</td>\n",
       "      <td>...</td>\n",
       "      <td>...</td>\n",
       "      <td>...</td>\n",
       "      <td>...</td>\n",
       "      <td>...</td>\n",
       "      <td>...</td>\n",
       "      <td>...</td>\n",
       "      <td>...</td>\n",
       "      <td>...</td>\n",
       "      <td>...</td>\n",
       "      <td>...</td>\n",
       "      <td>...</td>\n",
       "      <td>...</td>\n",
       "    </tr>\n",
       "    <tr>\n",
       "      <th>564</th>\n",
       "      <td>2.110995</td>\n",
       "      <td>0.721473</td>\n",
       "      <td>2.060786</td>\n",
       "      <td>2.343856</td>\n",
       "      <td>1.041842</td>\n",
       "      <td>0.219060</td>\n",
       "      <td>1.947285</td>\n",
       "      <td>2.320965</td>\n",
       "      <td>-0.312589</td>\n",
       "      <td>-0.931027</td>\n",
       "      <td>...</td>\n",
       "      <td>1.901185</td>\n",
       "      <td>0.117700</td>\n",
       "      <td>1.752563</td>\n",
       "      <td>2.015301</td>\n",
       "      <td>0.378365</td>\n",
       "      <td>-0.273318</td>\n",
       "      <td>0.664512</td>\n",
       "      <td>1.629151</td>\n",
       "      <td>-1.360158</td>\n",
       "      <td>-0.709091</td>\n",
       "    </tr>\n",
       "    <tr>\n",
       "      <th>565</th>\n",
       "      <td>1.704854</td>\n",
       "      <td>2.085134</td>\n",
       "      <td>1.615931</td>\n",
       "      <td>1.723842</td>\n",
       "      <td>0.102458</td>\n",
       "      <td>-0.017833</td>\n",
       "      <td>0.693043</td>\n",
       "      <td>1.263669</td>\n",
       "      <td>-0.217664</td>\n",
       "      <td>-1.058611</td>\n",
       "      <td>...</td>\n",
       "      <td>1.536720</td>\n",
       "      <td>2.047399</td>\n",
       "      <td>1.421940</td>\n",
       "      <td>1.494959</td>\n",
       "      <td>-0.691230</td>\n",
       "      <td>-0.394820</td>\n",
       "      <td>0.236573</td>\n",
       "      <td>0.733827</td>\n",
       "      <td>-0.531855</td>\n",
       "      <td>-0.973978</td>\n",
       "    </tr>\n",
       "    <tr>\n",
       "      <th>566</th>\n",
       "      <td>0.702284</td>\n",
       "      <td>2.045574</td>\n",
       "      <td>0.672676</td>\n",
       "      <td>0.577953</td>\n",
       "      <td>-0.840484</td>\n",
       "      <td>-0.038680</td>\n",
       "      <td>0.046588</td>\n",
       "      <td>0.105777</td>\n",
       "      <td>-0.809117</td>\n",
       "      <td>-0.895587</td>\n",
       "      <td>...</td>\n",
       "      <td>0.561361</td>\n",
       "      <td>1.374854</td>\n",
       "      <td>0.579001</td>\n",
       "      <td>0.427906</td>\n",
       "      <td>-0.809587</td>\n",
       "      <td>0.350735</td>\n",
       "      <td>0.326767</td>\n",
       "      <td>0.414069</td>\n",
       "      <td>-1.104549</td>\n",
       "      <td>-0.318409</td>\n",
       "    </tr>\n",
       "    <tr>\n",
       "      <th>567</th>\n",
       "      <td>1.838341</td>\n",
       "      <td>2.336457</td>\n",
       "      <td>1.982524</td>\n",
       "      <td>1.735218</td>\n",
       "      <td>1.525767</td>\n",
       "      <td>3.272144</td>\n",
       "      <td>3.296944</td>\n",
       "      <td>2.658866</td>\n",
       "      <td>2.137194</td>\n",
       "      <td>1.043695</td>\n",
       "      <td>...</td>\n",
       "      <td>1.961239</td>\n",
       "      <td>2.237926</td>\n",
       "      <td>2.303601</td>\n",
       "      <td>1.653171</td>\n",
       "      <td>1.430427</td>\n",
       "      <td>3.904848</td>\n",
       "      <td>3.197605</td>\n",
       "      <td>2.289985</td>\n",
       "      <td>1.919083</td>\n",
       "      <td>2.219635</td>\n",
       "    </tr>\n",
       "    <tr>\n",
       "      <th>568</th>\n",
       "      <td>-1.808401</td>\n",
       "      <td>1.221792</td>\n",
       "      <td>-1.814389</td>\n",
       "      <td>-1.347789</td>\n",
       "      <td>-3.112085</td>\n",
       "      <td>-1.150752</td>\n",
       "      <td>-1.114873</td>\n",
       "      <td>-1.261820</td>\n",
       "      <td>-0.820070</td>\n",
       "      <td>-0.561032</td>\n",
       "      <td>...</td>\n",
       "      <td>-1.410893</td>\n",
       "      <td>0.764190</td>\n",
       "      <td>-1.432735</td>\n",
       "      <td>-1.075813</td>\n",
       "      <td>-1.859019</td>\n",
       "      <td>-1.207552</td>\n",
       "      <td>-1.305831</td>\n",
       "      <td>-1.745063</td>\n",
       "      <td>-0.048138</td>\n",
       "      <td>-0.751207</td>\n",
       "    </tr>\n",
       "  </tbody>\n",
       "</table>\n",
       "<p>569 rows × 30 columns</p>\n",
       "</div>"
      ],
      "text/plain": [
       "     radius_mean  texture_mean  perimeter_mean  area_mean  smoothness_mean  \\\n",
       "0       1.097064     -2.073335        1.269934   0.984375         1.568466   \n",
       "1       1.829821     -0.353632        1.685955   1.908708        -0.826962   \n",
       "2       1.579888      0.456187        1.566503   1.558884         0.942210   \n",
       "3      -0.768909      0.253732       -0.592687  -0.764464         3.283553   \n",
       "4       1.750297     -1.151816        1.776573   1.826229         0.280372   \n",
       "..           ...           ...             ...        ...              ...   \n",
       "564     2.110995      0.721473        2.060786   2.343856         1.041842   \n",
       "565     1.704854      2.085134        1.615931   1.723842         0.102458   \n",
       "566     0.702284      2.045574        0.672676   0.577953        -0.840484   \n",
       "567     1.838341      2.336457        1.982524   1.735218         1.525767   \n",
       "568    -1.808401      1.221792       -1.814389  -1.347789        -3.112085   \n",
       "\n",
       "     compactness_mean  concavity_mean  concave points_mean  symmetry_mean  \\\n",
       "0            3.283515        2.652874             2.532475       2.217515   \n",
       "1           -0.487072       -0.023846             0.548144       0.001392   \n",
       "2            1.052926        1.363478             2.037231       0.939685   \n",
       "3            3.402909        1.915897             1.451707       2.867383   \n",
       "4            0.539340        1.371011             1.428493      -0.009560   \n",
       "..                ...             ...                  ...            ...   \n",
       "564          0.219060        1.947285             2.320965      -0.312589   \n",
       "565         -0.017833        0.693043             1.263669      -0.217664   \n",
       "566         -0.038680        0.046588             0.105777      -0.809117   \n",
       "567          3.272144        3.296944             2.658866       2.137194   \n",
       "568         -1.150752       -1.114873            -1.261820      -0.820070   \n",
       "\n",
       "     fractal_dimension_mean  ...  radius_worst  texture_worst  \\\n",
       "0                  2.255747  ...      1.886690      -1.359293   \n",
       "1                 -0.868652  ...      1.805927      -0.369203   \n",
       "2                 -0.398008  ...      1.511870      -0.023974   \n",
       "3                  4.910919  ...     -0.281464       0.133984   \n",
       "4                 -0.562450  ...      1.298575      -1.466770   \n",
       "..                      ...  ...           ...            ...   \n",
       "564               -0.931027  ...      1.901185       0.117700   \n",
       "565               -1.058611  ...      1.536720       2.047399   \n",
       "566               -0.895587  ...      0.561361       1.374854   \n",
       "567                1.043695  ...      1.961239       2.237926   \n",
       "568               -0.561032  ...     -1.410893       0.764190   \n",
       "\n",
       "     perimeter_worst  area_worst  smoothness_worst  compactness_worst  \\\n",
       "0           2.303601    2.001237          1.307686           2.616665   \n",
       "1           1.535126    1.890489         -0.375612          -0.430444   \n",
       "2           1.347475    1.456285          0.527407           1.082932   \n",
       "3          -0.249939   -0.550021          3.394275           3.893397   \n",
       "4           1.338539    1.220724          0.220556          -0.313395   \n",
       "..               ...         ...               ...                ...   \n",
       "564         1.752563    2.015301          0.378365          -0.273318   \n",
       "565         1.421940    1.494959         -0.691230          -0.394820   \n",
       "566         0.579001    0.427906         -0.809587           0.350735   \n",
       "567         2.303601    1.653171          1.430427           3.904848   \n",
       "568        -1.432735   -1.075813         -1.859019          -1.207552   \n",
       "\n",
       "     concavity_worst  concave points_worst  symmetry_worst  \\\n",
       "0           2.109526              2.296076        2.750622   \n",
       "1          -0.146749              1.087084       -0.243890   \n",
       "2           0.854974              1.955000        1.152255   \n",
       "3           1.989588              2.175786        6.046041   \n",
       "4           0.613179              0.729259       -0.868353   \n",
       "..               ...                   ...             ...   \n",
       "564         0.664512              1.629151       -1.360158   \n",
       "565         0.236573              0.733827       -0.531855   \n",
       "566         0.326767              0.414069       -1.104549   \n",
       "567         3.197605              2.289985        1.919083   \n",
       "568        -1.305831             -1.745063       -0.048138   \n",
       "\n",
       "     fractal_dimension_worst  \n",
       "0                   1.937015  \n",
       "1                   0.281190  \n",
       "2                   0.201391  \n",
       "3                   4.935010  \n",
       "4                  -0.397100  \n",
       "..                       ...  \n",
       "564                -0.709091  \n",
       "565                -0.973978  \n",
       "566                -0.318409  \n",
       "567                 2.219635  \n",
       "568                -0.751207  \n",
       "\n",
       "[569 rows x 30 columns]"
      ]
     },
     "execution_count": 21,
     "metadata": {},
     "output_type": "execute_result"
    }
   ],
   "source": [
    "X_trans"
   ]
  },
  {
   "cell_type": "code",
   "execution_count": 22,
   "metadata": {},
   "outputs": [],
   "source": [
    "y = data['diagnosis']"
   ]
  },
  {
   "cell_type": "code",
   "execution_count": 23,
   "metadata": {},
   "outputs": [],
   "source": [
    "train_class = data['diagnosis'].values"
   ]
  },
  {
   "cell_type": "code",
   "execution_count": 24,
   "metadata": {},
   "outputs": [],
   "source": [
    "X_train, X_test, y_train, y_test= train_test_split(X_trans, y,\n",
    "                                stratify = train_class,\n",
    "                                train_size=0.70, test_size=0.30, \n",
    "                                random_state = random_seed)"
   ]
  },
  {
   "cell_type": "code",
   "execution_count": 25,
   "metadata": {},
   "outputs": [
    {
     "data": {
      "text/plain": [
       "(398, 30)"
      ]
     },
     "execution_count": 25,
     "metadata": {},
     "output_type": "execute_result"
    }
   ],
   "source": [
    "X_train.shape"
   ]
  },
  {
   "cell_type": "markdown",
   "metadata": {},
   "source": [
    "# 1. Feature Selection"
   ]
  },
  {
   "cell_type": "markdown",
   "metadata": {},
   "source": [
    "## a) PCA DATA from R"
   ]
  },
  {
   "cell_type": "code",
   "execution_count": 26,
   "metadata": {},
   "outputs": [],
   "source": [
    "pc_X_test = pd.read_csv('pc_X_test.csv')\n",
    "pc_y_test = pd.read_csv('pc_y_test.csv')"
   ]
  },
  {
   "cell_type": "code",
   "execution_count": 27,
   "metadata": {},
   "outputs": [
    {
     "data": {
      "text/html": [
       "<div>\n",
       "<style scoped>\n",
       "    .dataframe tbody tr th:only-of-type {\n",
       "        vertical-align: middle;\n",
       "    }\n",
       "\n",
       "    .dataframe tbody tr th {\n",
       "        vertical-align: top;\n",
       "    }\n",
       "\n",
       "    .dataframe thead th {\n",
       "        text-align: right;\n",
       "    }\n",
       "</style>\n",
       "<table border=\"1\" class=\"dataframe\">\n",
       "  <thead>\n",
       "    <tr style=\"text-align: right;\">\n",
       "      <th></th>\n",
       "      <th>PC1</th>\n",
       "      <th>PC2</th>\n",
       "      <th>PC3</th>\n",
       "      <th>PC4</th>\n",
       "      <th>PC5</th>\n",
       "      <th>PC6</th>\n",
       "      <th>id</th>\n",
       "    </tr>\n",
       "  </thead>\n",
       "  <tbody>\n",
       "    <tr>\n",
       "      <th>0</th>\n",
       "      <td>-8.940998</td>\n",
       "      <td>-1.772884</td>\n",
       "      <td>0.378868</td>\n",
       "      <td>-3.597647</td>\n",
       "      <td>-1.882450</td>\n",
       "      <td>-1.530738</td>\n",
       "      <td>1</td>\n",
       "    </tr>\n",
       "    <tr>\n",
       "      <th>1</th>\n",
       "      <td>-3.724579</td>\n",
       "      <td>1.984048</td>\n",
       "      <td>-1.606399</td>\n",
       "      <td>-2.882106</td>\n",
       "      <td>-0.584680</td>\n",
       "      <td>1.355490</td>\n",
       "      <td>2</td>\n",
       "    </tr>\n",
       "    <tr>\n",
       "      <th>2</th>\n",
       "      <td>-2.328521</td>\n",
       "      <td>-3.871317</td>\n",
       "      <td>2.563675</td>\n",
       "      <td>-0.995599</td>\n",
       "      <td>-1.336860</td>\n",
       "      <td>0.155465</td>\n",
       "      <td>3</td>\n",
       "    </tr>\n",
       "    <tr>\n",
       "      <th>3</th>\n",
       "      <td>-2.193514</td>\n",
       "      <td>2.672962</td>\n",
       "      <td>1.589669</td>\n",
       "      <td>-0.243448</td>\n",
       "      <td>-0.017117</td>\n",
       "      <td>0.097959</td>\n",
       "      <td>4</td>\n",
       "    </tr>\n",
       "    <tr>\n",
       "      <th>4</th>\n",
       "      <td>-2.114900</td>\n",
       "      <td>-2.317467</td>\n",
       "      <td>0.664839</td>\n",
       "      <td>0.350623</td>\n",
       "      <td>-1.575664</td>\n",
       "      <td>0.944581</td>\n",
       "      <td>5</td>\n",
       "    </tr>\n",
       "  </tbody>\n",
       "</table>\n",
       "</div>"
      ],
      "text/plain": [
       "        PC1       PC2       PC3       PC4       PC5       PC6  id\n",
       "0 -8.940998 -1.772884  0.378868 -3.597647 -1.882450 -1.530738   1\n",
       "1 -3.724579  1.984048 -1.606399 -2.882106 -0.584680  1.355490   2\n",
       "2 -2.328521 -3.871317  2.563675 -0.995599 -1.336860  0.155465   3\n",
       "3 -2.193514  2.672962  1.589669 -0.243448 -0.017117  0.097959   4\n",
       "4 -2.114900 -2.317467  0.664839  0.350623 -1.575664  0.944581   5"
      ]
     },
     "execution_count": 27,
     "metadata": {},
     "output_type": "execute_result"
    }
   ],
   "source": [
    "pc_X_test.head()"
   ]
  },
  {
   "cell_type": "code",
   "execution_count": 28,
   "metadata": {},
   "outputs": [],
   "source": [
    "pc_X_test = pc_X_test.drop('id', axis = 1)"
   ]
  },
  {
   "cell_type": "code",
   "execution_count": 29,
   "metadata": {},
   "outputs": [],
   "source": [
    "pc_X_train = pd.read_csv('pc_X_train.csv')\n",
    "pc_y_train = pd.read_csv('pc_y_train.csv')"
   ]
  },
  {
   "cell_type": "markdown",
   "metadata": {},
   "source": [
    "## b) XGBoost Feature Selection using Feature Importances "
   ]
  },
  {
   "cell_type": "code",
   "execution_count": 30,
   "metadata": {},
   "outputs": [],
   "source": [
    "def feat_select(X_train, y_train): \n",
    "    \n",
    "    from sklearn.feature_selection import SelectFromModel\n",
    "    from numpy import sort\n",
    "\n",
    "    xgb = XGBClassifier()\n",
    "    xgb.fit(X_train, y_train)\n",
    "\n",
    "    thresholds = np.sort(xgb.feature_importances_)[::-1]\n",
    "\n",
    "    feature_thresh = pd.DataFrame(columns = ['Thresh', 'n', 'Accuracy'])\n",
    "    columns = list(feature_thresh)\n",
    "    data = []\n",
    "\n",
    "    thresh_limit = 1\n",
    "\n",
    "    for thresh in thresholds:\n",
    "\n",
    "        #to Stop the loop if the threshold no longer improves\n",
    "\n",
    "        if thresh >= thresh_limit:\n",
    "            break\n",
    "\n",
    "        #select features using threshold\n",
    "        selection =  SelectFromModel(xgb, threshold = thresh, prefit = True)\n",
    "        select_X_train = selection.transform(X_train)\n",
    "\n",
    "        #train model\n",
    "        selection_model = XGBClassifier()\n",
    "        selection_model.fit(select_X_train, y_train)\n",
    "\n",
    "        #evaluate model\n",
    "        select_X_test = selection.transform(X_test)\n",
    "        predictions = selection_model.predict(select_X_test)\n",
    "        accuracy = accuracy_score(y_test, predictions)\n",
    "\n",
    "\n",
    "        #print(\"Thresh = %.3f, n = %d, Accuracy = %.3f%%\" % (thresh, select_X_train.shape[1], accuracy*100.0))\n",
    "\n",
    "        thresh_limit = thresh\n",
    "\n",
    "        values = [thresh, select_X_train.shape[1], accuracy*100]\n",
    "        zipped = zip(columns, values)\n",
    "        values_dict = dict(zipped)\n",
    "        data.append(values_dict)\n",
    "\n",
    "    feature_thresh = feature_thresh.append(data, True)\n",
    "\n",
    "    best_accuracy = feature_thresh[feature_thresh['Accuracy'] == feature_thresh['Accuracy'].max()]\n",
    "    best_threshold = best_accuracy.Thresh.min()\n",
    "\n",
    "    # transform training data based on the selected feature importances\n",
    "    best_thresh = SelectFromModel(xgb, threshold = best_threshold, prefit = True)\n",
    "    \n",
    "    X_train_best = pd.DataFrame(best_thresh.transform(X_train))\n",
    "    X_test_best = pd.DataFrame(best_thresh.transform(X_test))\n",
    "\n",
    "    return X_train_best, X_test_best"
   ]
  },
  {
   "cell_type": "code",
   "execution_count": 31,
   "metadata": {},
   "outputs": [],
   "source": [
    "X_train_best, X_test_best = feat_select(X_train, y_train)"
   ]
  },
  {
   "cell_type": "code",
   "execution_count": 32,
   "metadata": {},
   "outputs": [
    {
     "data": {
      "text/plain": [
       "(398, 23)"
      ]
     },
     "execution_count": 32,
     "metadata": {},
     "output_type": "execute_result"
    }
   ],
   "source": [
    "X_train_best.shape"
   ]
  },
  {
   "cell_type": "markdown",
   "metadata": {},
   "source": [
    "# 2. MODELLING"
   ]
  },
  {
   "cell_type": "markdown",
   "metadata": {},
   "source": [
    "## a) Stack Model No. 1 using Original X_train"
   ]
  },
  {
   "cell_type": "code",
   "execution_count": 33,
   "metadata": {},
   "outputs": [],
   "source": [
    "# get a stacking ensemble of models\n",
    "def get_stacking():\n",
    "    # define the base models\n",
    "    level0 = list()\n",
    "    level0.append(('lr', LogisticRegression()))\n",
    "    level0.append(('knn', KNeighborsClassifier()))\n",
    "    level0.append(('cart', DecisionTreeClassifier()))\n",
    "    #level0.append(('lsvm', LinearSVC()))\n",
    "    #level0.append(('svm', SVC()))\n",
    "    level0.append(('et', ExtraTreesClassifier()))\n",
    "    level0.append(('bayes', GaussianNB()))\n",
    "    level0.append(('xgb', XGBClassifier()))\n",
    "    \n",
    "    \n",
    "    # define meta learner model\n",
    "    level1 = LogisticRegression()\n",
    "    # define the stacking ensemble\n",
    "    model = StackingClassifier(estimators=level0, final_estimator=level1, cv=5)\n",
    "    return model"
   ]
  },
  {
   "cell_type": "code",
   "execution_count": 34,
   "metadata": {},
   "outputs": [],
   "source": [
    "def get_models():\n",
    "    models = dict()\n",
    "    models['lr'] = LogisticRegression()\n",
    "    models['knn'] = KNeighborsClassifier()\n",
    "    models['cart'] = DecisionTreeClassifier()\n",
    "    #models['lsvm'] = LinearSVC(C=15.0, dual=False, \n",
    "                               #loss='squared_hinge', \n",
    "                               #penalty='l2', tol=0.01)\n",
    "    models['et'] = ExtraTreesClassifier(bootstrap=False, \n",
    "                     criterion = 'entropy', \n",
    "                     max_features=0.35000000000000003, \n",
    "                     min_samples_leaf=18, \n",
    "                     min_samples_split=9, \n",
    "                     n_estimators=100)\n",
    "    #models['svm'] = SVC()\n",
    "    models['bayes'] = GaussianNB()\n",
    "    models['xgb'] = XGBClassifier()\n",
    "    models['stacking'] = get_stacking()\n",
    "    return models"
   ]
  },
  {
   "cell_type": "code",
   "execution_count": 35,
   "metadata": {},
   "outputs": [],
   "source": [
    "# evaluate a given model using cross-validation\n",
    "def evaluate_model(model):\n",
    "    cv = RepeatedStratifiedKFold(n_splits=10, n_repeats=3, random_state=1)\n",
    "    scores = cross_val_score(model, X_train, y_train, \n",
    "                             #scoring='roc_auc', \n",
    "                             scoring = 'recall',\n",
    "                             cv=cv, \n",
    "                             n_jobs=-1, \n",
    "                             error_score='raise')\n",
    "    return scores"
   ]
  },
  {
   "cell_type": "code",
   "execution_count": 36,
   "metadata": {},
   "outputs": [],
   "source": [
    "# get the models to evaluate\n",
    "models = get_models()"
   ]
  },
  {
   "cell_type": "code",
   "execution_count": 37,
   "metadata": {
    "scrolled": true
   },
   "outputs": [
    {
     "name": "stdout",
     "output_type": "stream",
     "text": [
      ">lr 0.964 (0.041)\n",
      ">knn 0.928 (0.052)\n",
      ">cart 0.908 (0.071)\n",
      ">et 0.899 (0.051)\n",
      ">bayes 0.881 (0.073)\n",
      ">xgb 0.942 (0.048)\n",
      ">stacking 0.953 (0.043)\n"
     ]
    }
   ],
   "source": [
    "results, names = list(), list()\n",
    "for name, model in models.items():\n",
    "    scores = evaluate_model(model)\n",
    "    results.append(scores)\n",
    "    names.append(name)\n",
    "    print('>%s %.3f (%.3f)' % (name, mean(scores), std(scores)))"
   ]
  },
  {
   "cell_type": "code",
   "execution_count": 38,
   "metadata": {},
   "outputs": [],
   "source": [
    "# Apply Stack model\n",
    "stackmodel = models['stacking'].fit(X_train, y_train)"
   ]
  },
  {
   "cell_type": "code",
   "execution_count": 39,
   "metadata": {},
   "outputs": [],
   "source": [
    "y_pred = stackmodel.predict(X_test)"
   ]
  },
  {
   "cell_type": "code",
   "execution_count": 40,
   "metadata": {},
   "outputs": [
    {
     "name": "stdout",
     "output_type": "stream",
     "text": [
      "AUC: 0.966\n"
     ]
    }
   ],
   "source": [
    "fpr, tpr, thresholds  = metrics.roc_curve(y_test, y_pred, pos_label=1)\n",
    "print(\"AUC: %.3f\" % metrics.auc(fpr, tpr) )"
   ]
  },
  {
   "cell_type": "code",
   "execution_count": 41,
   "metadata": {},
   "outputs": [
    {
     "name": "stdout",
     "output_type": "stream",
     "text": [
      "Recall / Sensitivity: 0.969\n"
     ]
    }
   ],
   "source": [
    "recall = metrics.recall_score(y_test,y_pred,pos_label = 1)\n",
    "print(\"Recall / Sensitivity: %.3f\" % recall)"
   ]
  },
  {
   "cell_type": "code",
   "execution_count": 42,
   "metadata": {},
   "outputs": [
    {
     "name": "stdout",
     "output_type": "stream",
     "text": [
      "Specificity: 0.963\n"
     ]
    }
   ],
   "source": [
    "tn, fp, fn, tp = confusion_matrix(y_test, y_pred).ravel()\n",
    "specificity = tn / (tn+fp)\n",
    "print(\"Specificity: %.3f\" % specificity)"
   ]
  },
  {
   "cell_type": "code",
   "execution_count": 43,
   "metadata": {},
   "outputs": [],
   "source": [
    "test_data = X_test.copy()"
   ]
  },
  {
   "cell_type": "code",
   "execution_count": 44,
   "metadata": {},
   "outputs": [],
   "source": [
    "test_data['diagnosis'] = y_test"
   ]
  },
  {
   "cell_type": "code",
   "execution_count": 45,
   "metadata": {},
   "outputs": [],
   "source": [
    "test_data['pred_diagnosis'] = y_pred"
   ]
  },
  {
   "cell_type": "code",
   "execution_count": 46,
   "metadata": {},
   "outputs": [
    {
     "data": {
      "text/html": [
       "<div>\n",
       "<style scoped>\n",
       "    .dataframe tbody tr th:only-of-type {\n",
       "        vertical-align: middle;\n",
       "    }\n",
       "\n",
       "    .dataframe tbody tr th {\n",
       "        vertical-align: top;\n",
       "    }\n",
       "\n",
       "    .dataframe thead th {\n",
       "        text-align: right;\n",
       "    }\n",
       "</style>\n",
       "<table border=\"1\" class=\"dataframe\">\n",
       "  <thead>\n",
       "    <tr style=\"text-align: right;\">\n",
       "      <th></th>\n",
       "      <th>radius_mean</th>\n",
       "      <th>texture_mean</th>\n",
       "      <th>perimeter_mean</th>\n",
       "      <th>area_mean</th>\n",
       "      <th>smoothness_mean</th>\n",
       "      <th>compactness_mean</th>\n",
       "      <th>concavity_mean</th>\n",
       "      <th>concave points_mean</th>\n",
       "      <th>symmetry_mean</th>\n",
       "      <th>fractal_dimension_mean</th>\n",
       "      <th>...</th>\n",
       "      <th>perimeter_worst</th>\n",
       "      <th>area_worst</th>\n",
       "      <th>smoothness_worst</th>\n",
       "      <th>compactness_worst</th>\n",
       "      <th>concavity_worst</th>\n",
       "      <th>concave points_worst</th>\n",
       "      <th>symmetry_worst</th>\n",
       "      <th>fractal_dimension_worst</th>\n",
       "      <th>diagnosis</th>\n",
       "      <th>pred_diagnosis</th>\n",
       "    </tr>\n",
       "  </thead>\n",
       "  <tbody>\n",
       "    <tr>\n",
       "      <th>115</th>\n",
       "      <td>-0.624062</td>\n",
       "      <td>0.521345</td>\n",
       "      <td>-0.635937</td>\n",
       "      <td>-0.615148</td>\n",
       "      <td>0.093918</td>\n",
       "      <td>-0.489914</td>\n",
       "      <td>-0.697043</td>\n",
       "      <td>-0.743876</td>\n",
       "      <td>-0.451325</td>\n",
       "      <td>-0.121575</td>\n",
       "      <td>...</td>\n",
       "      <td>-0.587413</td>\n",
       "      <td>-0.523125</td>\n",
       "      <td>0.772888</td>\n",
       "      <td>-0.091382</td>\n",
       "      <td>-0.584763</td>\n",
       "      <td>-0.641591</td>\n",
       "      <td>-0.748637</td>\n",
       "      <td>0.081139</td>\n",
       "      <td>0</td>\n",
       "      <td>0</td>\n",
       "    </tr>\n",
       "    <tr>\n",
       "      <th>21</th>\n",
       "      <td>-1.313080</td>\n",
       "      <td>-1.593959</td>\n",
       "      <td>-1.302806</td>\n",
       "      <td>-1.083572</td>\n",
       "      <td>0.429819</td>\n",
       "      <td>-0.747086</td>\n",
       "      <td>-0.743748</td>\n",
       "      <td>-0.726337</td>\n",
       "      <td>0.012345</td>\n",
       "      <td>0.886341</td>\n",
       "      <td>...</td>\n",
       "      <td>-1.254913</td>\n",
       "      <td>-0.994422</td>\n",
       "      <td>0.001377</td>\n",
       "      <td>-0.887193</td>\n",
       "      <td>-0.880434</td>\n",
       "      <td>-0.796903</td>\n",
       "      <td>-0.729224</td>\n",
       "      <td>-0.344455</td>\n",
       "      <td>0</td>\n",
       "      <td>0</td>\n",
       "    </tr>\n",
       "    <tr>\n",
       "      <th>382</th>\n",
       "      <td>-0.589980</td>\n",
       "      <td>0.798266</td>\n",
       "      <td>-0.544495</td>\n",
       "      <td>-0.588983</td>\n",
       "      <td>-1.922199</td>\n",
       "      <td>0.056078</td>\n",
       "      <td>-0.117631</td>\n",
       "      <td>-0.493675</td>\n",
       "      <td>-2.222032</td>\n",
       "      <td>0.537611</td>\n",
       "      <td>...</td>\n",
       "      <td>-0.592774</td>\n",
       "      <td>-0.689424</td>\n",
       "      <td>-1.945375</td>\n",
       "      <td>0.427072</td>\n",
       "      <td>0.091208</td>\n",
       "      <td>-0.082318</td>\n",
       "      <td>-1.148229</td>\n",
       "      <td>0.528899</td>\n",
       "      <td>0</td>\n",
       "      <td>0</td>\n",
       "    </tr>\n",
       "    <tr>\n",
       "      <th>136</th>\n",
       "      <td>-0.686545</td>\n",
       "      <td>-0.609610</td>\n",
       "      <td>-0.710491</td>\n",
       "      <td>-0.657810</td>\n",
       "      <td>0.621966</td>\n",
       "      <td>-0.822323</td>\n",
       "      <td>-0.663898</td>\n",
       "      <td>-0.591176</td>\n",
       "      <td>-1.725504</td>\n",
       "      <td>-0.474559</td>\n",
       "      <td>...</td>\n",
       "      <td>-0.628517</td>\n",
       "      <td>-0.586937</td>\n",
       "      <td>-0.230954</td>\n",
       "      <td>-0.963529</td>\n",
       "      <td>-0.804010</td>\n",
       "      <td>-0.684074</td>\n",
       "      <td>-1.923146</td>\n",
       "      <td>-0.582743</td>\n",
       "      <td>0</td>\n",
       "      <td>0</td>\n",
       "    </tr>\n",
       "    <tr>\n",
       "      <th>2</th>\n",
       "      <td>1.579888</td>\n",
       "      <td>0.456187</td>\n",
       "      <td>1.566503</td>\n",
       "      <td>1.558884</td>\n",
       "      <td>0.942210</td>\n",
       "      <td>1.052926</td>\n",
       "      <td>1.363478</td>\n",
       "      <td>2.037231</td>\n",
       "      <td>0.939685</td>\n",
       "      <td>-0.398008</td>\n",
       "      <td>...</td>\n",
       "      <td>1.347475</td>\n",
       "      <td>1.456285</td>\n",
       "      <td>0.527407</td>\n",
       "      <td>1.082932</td>\n",
       "      <td>0.854974</td>\n",
       "      <td>1.955000</td>\n",
       "      <td>1.152255</td>\n",
       "      <td>0.201391</td>\n",
       "      <td>1</td>\n",
       "      <td>1</td>\n",
       "    </tr>\n",
       "    <tr>\n",
       "      <th>...</th>\n",
       "      <td>...</td>\n",
       "      <td>...</td>\n",
       "      <td>...</td>\n",
       "      <td>...</td>\n",
       "      <td>...</td>\n",
       "      <td>...</td>\n",
       "      <td>...</td>\n",
       "      <td>...</td>\n",
       "      <td>...</td>\n",
       "      <td>...</td>\n",
       "      <td>...</td>\n",
       "      <td>...</td>\n",
       "      <td>...</td>\n",
       "      <td>...</td>\n",
       "      <td>...</td>\n",
       "      <td>...</td>\n",
       "      <td>...</td>\n",
       "      <td>...</td>\n",
       "      <td>...</td>\n",
       "      <td>...</td>\n",
       "      <td>...</td>\n",
       "    </tr>\n",
       "    <tr>\n",
       "      <th>526</th>\n",
       "      <td>-0.189520</td>\n",
       "      <td>-0.125580</td>\n",
       "      <td>-0.186552</td>\n",
       "      <td>-0.295187</td>\n",
       "      <td>0.792763</td>\n",
       "      <td>0.179262</td>\n",
       "      <td>-0.587439</td>\n",
       "      <td>-0.448793</td>\n",
       "      <td>-0.323542</td>\n",
       "      <td>0.052790</td>\n",
       "      <td>...</td>\n",
       "      <td>-0.159688</td>\n",
       "      <td>-0.282643</td>\n",
       "      <td>1.316453</td>\n",
       "      <td>0.369820</td>\n",
       "      <td>-0.032568</td>\n",
       "      <td>0.427773</td>\n",
       "      <td>0.998566</td>\n",
       "      <td>0.149854</td>\n",
       "      <td>0</td>\n",
       "      <td>0</td>\n",
       "    </tr>\n",
       "    <tr>\n",
       "      <th>142</th>\n",
       "      <td>-0.766069</td>\n",
       "      <td>-0.460677</td>\n",
       "      <td>-0.754153</td>\n",
       "      <td>-0.730619</td>\n",
       "      <td>0.913744</td>\n",
       "      <td>-0.179679</td>\n",
       "      <td>-0.859881</td>\n",
       "      <td>-0.781794</td>\n",
       "      <td>-0.608315</td>\n",
       "      <td>0.400103</td>\n",
       "      <td>...</td>\n",
       "      <td>-0.732768</td>\n",
       "      <td>-0.663758</td>\n",
       "      <td>0.391516</td>\n",
       "      <td>-0.477519</td>\n",
       "      <td>-0.936038</td>\n",
       "      <td>-0.770256</td>\n",
       "      <td>-0.512441</td>\n",
       "      <td>-0.165462</td>\n",
       "      <td>0</td>\n",
       "      <td>0</td>\n",
       "    </tr>\n",
       "    <tr>\n",
       "      <th>238</th>\n",
       "      <td>0.026330</td>\n",
       "      <td>1.992051</td>\n",
       "      <td>0.023930</td>\n",
       "      <td>-0.088136</td>\n",
       "      <td>-1.005588</td>\n",
       "      <td>-0.008357</td>\n",
       "      <td>0.269940</td>\n",
       "      <td>-0.124821</td>\n",
       "      <td>-1.714551</td>\n",
       "      <td>-0.213719</td>\n",
       "      <td>...</td>\n",
       "      <td>-0.141817</td>\n",
       "      <td>-0.204943</td>\n",
       "      <td>-1.063835</td>\n",
       "      <td>-0.074206</td>\n",
       "      <td>0.164131</td>\n",
       "      <td>-0.493589</td>\n",
       "      <td>-1.635181</td>\n",
       "      <td>-0.331709</td>\n",
       "      <td>0</td>\n",
       "      <td>0</td>\n",
       "    </tr>\n",
       "    <tr>\n",
       "      <th>106</th>\n",
       "      <td>-0.706426</td>\n",
       "      <td>-0.223317</td>\n",
       "      <td>-0.691956</td>\n",
       "      <td>-0.689379</td>\n",
       "      <td>1.269571</td>\n",
       "      <td>-0.050051</td>\n",
       "      <td>-0.227236</td>\n",
       "      <td>-0.362899</td>\n",
       "      <td>-0.038768</td>\n",
       "      <td>0.340564</td>\n",
       "      <td>...</td>\n",
       "      <td>-0.647878</td>\n",
       "      <td>-0.630885</td>\n",
       "      <td>1.597003</td>\n",
       "      <td>0.074651</td>\n",
       "      <td>0.072498</td>\n",
       "      <td>0.109537</td>\n",
       "      <td>-0.153294</td>\n",
       "      <td>0.389251</td>\n",
       "      <td>0</td>\n",
       "      <td>0</td>\n",
       "    </tr>\n",
       "    <tr>\n",
       "      <th>437</th>\n",
       "      <td>-0.024792</td>\n",
       "      <td>-0.770177</td>\n",
       "      <td>-0.090167</td>\n",
       "      <td>-0.124256</td>\n",
       "      <td>-0.838349</td>\n",
       "      <td>-0.860226</td>\n",
       "      <td>-0.671180</td>\n",
       "      <td>-0.502445</td>\n",
       "      <td>-0.356400</td>\n",
       "      <td>-0.541186</td>\n",
       "      <td>...</td>\n",
       "      <td>-0.180538</td>\n",
       "      <td>-0.229554</td>\n",
       "      <td>-0.564106</td>\n",
       "      <td>-0.821034</td>\n",
       "      <td>-0.769947</td>\n",
       "      <td>-0.610225</td>\n",
       "      <td>-0.284334</td>\n",
       "      <td>-0.643146</td>\n",
       "      <td>0</td>\n",
       "      <td>0</td>\n",
       "    </tr>\n",
       "  </tbody>\n",
       "</table>\n",
       "<p>171 rows × 32 columns</p>\n",
       "</div>"
      ],
      "text/plain": [
       "     radius_mean  texture_mean  perimeter_mean  area_mean  smoothness_mean  \\\n",
       "115    -0.624062      0.521345       -0.635937  -0.615148         0.093918   \n",
       "21     -1.313080     -1.593959       -1.302806  -1.083572         0.429819   \n",
       "382    -0.589980      0.798266       -0.544495  -0.588983        -1.922199   \n",
       "136    -0.686545     -0.609610       -0.710491  -0.657810         0.621966   \n",
       "2       1.579888      0.456187        1.566503   1.558884         0.942210   \n",
       "..           ...           ...             ...        ...              ...   \n",
       "526    -0.189520     -0.125580       -0.186552  -0.295187         0.792763   \n",
       "142    -0.766069     -0.460677       -0.754153  -0.730619         0.913744   \n",
       "238     0.026330      1.992051        0.023930  -0.088136        -1.005588   \n",
       "106    -0.706426     -0.223317       -0.691956  -0.689379         1.269571   \n",
       "437    -0.024792     -0.770177       -0.090167  -0.124256        -0.838349   \n",
       "\n",
       "     compactness_mean  concavity_mean  concave points_mean  symmetry_mean  \\\n",
       "115         -0.489914       -0.697043            -0.743876      -0.451325   \n",
       "21          -0.747086       -0.743748            -0.726337       0.012345   \n",
       "382          0.056078       -0.117631            -0.493675      -2.222032   \n",
       "136         -0.822323       -0.663898            -0.591176      -1.725504   \n",
       "2            1.052926        1.363478             2.037231       0.939685   \n",
       "..                ...             ...                  ...            ...   \n",
       "526          0.179262       -0.587439            -0.448793      -0.323542   \n",
       "142         -0.179679       -0.859881            -0.781794      -0.608315   \n",
       "238         -0.008357        0.269940            -0.124821      -1.714551   \n",
       "106         -0.050051       -0.227236            -0.362899      -0.038768   \n",
       "437         -0.860226       -0.671180            -0.502445      -0.356400   \n",
       "\n",
       "     fractal_dimension_mean  ...  perimeter_worst  area_worst  \\\n",
       "115               -0.121575  ...        -0.587413   -0.523125   \n",
       "21                 0.886341  ...        -1.254913   -0.994422   \n",
       "382                0.537611  ...        -0.592774   -0.689424   \n",
       "136               -0.474559  ...        -0.628517   -0.586937   \n",
       "2                 -0.398008  ...         1.347475    1.456285   \n",
       "..                      ...  ...              ...         ...   \n",
       "526                0.052790  ...        -0.159688   -0.282643   \n",
       "142                0.400103  ...        -0.732768   -0.663758   \n",
       "238               -0.213719  ...        -0.141817   -0.204943   \n",
       "106                0.340564  ...        -0.647878   -0.630885   \n",
       "437               -0.541186  ...        -0.180538   -0.229554   \n",
       "\n",
       "     smoothness_worst  compactness_worst  concavity_worst  \\\n",
       "115          0.772888          -0.091382        -0.584763   \n",
       "21           0.001377          -0.887193        -0.880434   \n",
       "382         -1.945375           0.427072         0.091208   \n",
       "136         -0.230954          -0.963529        -0.804010   \n",
       "2            0.527407           1.082932         0.854974   \n",
       "..                ...                ...              ...   \n",
       "526          1.316453           0.369820        -0.032568   \n",
       "142          0.391516          -0.477519        -0.936038   \n",
       "238         -1.063835          -0.074206         0.164131   \n",
       "106          1.597003           0.074651         0.072498   \n",
       "437         -0.564106          -0.821034        -0.769947   \n",
       "\n",
       "     concave points_worst  symmetry_worst  fractal_dimension_worst  diagnosis  \\\n",
       "115             -0.641591       -0.748637                 0.081139          0   \n",
       "21              -0.796903       -0.729224                -0.344455          0   \n",
       "382             -0.082318       -1.148229                 0.528899          0   \n",
       "136             -0.684074       -1.923146                -0.582743          0   \n",
       "2                1.955000        1.152255                 0.201391          1   \n",
       "..                    ...             ...                      ...        ...   \n",
       "526              0.427773        0.998566                 0.149854          0   \n",
       "142             -0.770256       -0.512441                -0.165462          0   \n",
       "238             -0.493589       -1.635181                -0.331709          0   \n",
       "106              0.109537       -0.153294                 0.389251          0   \n",
       "437             -0.610225       -0.284334                -0.643146          0   \n",
       "\n",
       "     pred_diagnosis  \n",
       "115               0  \n",
       "21                0  \n",
       "382               0  \n",
       "136               0  \n",
       "2                 1  \n",
       "..              ...  \n",
       "526               0  \n",
       "142               0  \n",
       "238               0  \n",
       "106               0  \n",
       "437               0  \n",
       "\n",
       "[171 rows x 32 columns]"
      ]
     },
     "execution_count": 46,
     "metadata": {},
     "output_type": "execute_result"
    }
   ],
   "source": [
    "test_data"
   ]
  },
  {
   "cell_type": "code",
   "execution_count": 47,
   "metadata": {
    "scrolled": true
   },
   "outputs": [
    {
     "data": {
      "text/html": [
       "<div>\n",
       "<style scoped>\n",
       "    .dataframe tbody tr th:only-of-type {\n",
       "        vertical-align: middle;\n",
       "    }\n",
       "\n",
       "    .dataframe tbody tr th {\n",
       "        vertical-align: top;\n",
       "    }\n",
       "\n",
       "    .dataframe thead th {\n",
       "        text-align: right;\n",
       "    }\n",
       "</style>\n",
       "<table border=\"1\" class=\"dataframe\">\n",
       "  <thead>\n",
       "    <tr style=\"text-align: right;\">\n",
       "      <th></th>\n",
       "      <th>radius_mean</th>\n",
       "      <th>texture_mean</th>\n",
       "      <th>perimeter_mean</th>\n",
       "      <th>area_mean</th>\n",
       "      <th>smoothness_mean</th>\n",
       "      <th>compactness_mean</th>\n",
       "      <th>concavity_mean</th>\n",
       "      <th>concave points_mean</th>\n",
       "      <th>symmetry_mean</th>\n",
       "      <th>fractal_dimension_mean</th>\n",
       "      <th>...</th>\n",
       "      <th>perimeter_worst</th>\n",
       "      <th>area_worst</th>\n",
       "      <th>smoothness_worst</th>\n",
       "      <th>compactness_worst</th>\n",
       "      <th>concavity_worst</th>\n",
       "      <th>concave points_worst</th>\n",
       "      <th>symmetry_worst</th>\n",
       "      <th>fractal_dimension_worst</th>\n",
       "      <th>diagnosis</th>\n",
       "      <th>pred_diagnosis</th>\n",
       "    </tr>\n",
       "  </thead>\n",
       "  <tbody>\n",
       "    <tr>\n",
       "      <th>157</th>\n",
       "      <td>0.770448</td>\n",
       "      <td>0.039642</td>\n",
       "      <td>0.676795</td>\n",
       "      <td>0.640807</td>\n",
       "      <td>-1.559255</td>\n",
       "      <td>-0.608551</td>\n",
       "      <td>-0.468292</td>\n",
       "      <td>-0.547068</td>\n",
       "      <td>0.118223</td>\n",
       "      <td>-1.434276</td>\n",
       "      <td>...</td>\n",
       "      <td>0.388371</td>\n",
       "      <td>0.266178</td>\n",
       "      <td>-1.956334</td>\n",
       "      <td>-0.529682</td>\n",
       "      <td>-0.402937</td>\n",
       "      <td>-0.460547</td>\n",
       "      <td>-0.604655</td>\n",
       "      <td>-1.342493</td>\n",
       "      <td>0</td>\n",
       "      <td>1</td>\n",
       "    </tr>\n",
       "    <tr>\n",
       "      <th>73</th>\n",
       "      <td>-0.092956</td>\n",
       "      <td>-0.814392</td>\n",
       "      <td>-0.063393</td>\n",
       "      <td>-0.201331</td>\n",
       "      <td>0.308838</td>\n",
       "      <td>0.448373</td>\n",
       "      <td>-0.136966</td>\n",
       "      <td>0.045677</td>\n",
       "      <td>-0.546249</td>\n",
       "      <td>0.405774</td>\n",
       "      <td>...</td>\n",
       "      <td>0.090513</td>\n",
       "      <td>-0.119860</td>\n",
       "      <td>0.382749</td>\n",
       "      <td>0.635726</td>\n",
       "      <td>0.027401</td>\n",
       "      <td>0.360776</td>\n",
       "      <td>-0.504352</td>\n",
       "      <td>1.055903</td>\n",
       "      <td>1</td>\n",
       "      <td>0</td>\n",
       "    </tr>\n",
       "    <tr>\n",
       "      <th>541</th>\n",
       "      <td>0.097334</td>\n",
       "      <td>1.326510</td>\n",
       "      <td>0.158210</td>\n",
       "      <td>0.004297</td>\n",
       "      <td>-0.568632</td>\n",
       "      <td>0.353616</td>\n",
       "      <td>0.151924</td>\n",
       "      <td>-0.258434</td>\n",
       "      <td>0.220449</td>\n",
       "      <td>0.086813</td>\n",
       "      <td>...</td>\n",
       "      <td>0.185828</td>\n",
       "      <td>-0.126013</td>\n",
       "      <td>0.071514</td>\n",
       "      <td>1.055578</td>\n",
       "      <td>0.632369</td>\n",
       "      <td>0.089742</td>\n",
       "      <td>0.463080</td>\n",
       "      <td>1.017112</td>\n",
       "      <td>0</td>\n",
       "      <td>1</td>\n",
       "    </tr>\n",
       "    <tr>\n",
       "      <th>68</th>\n",
       "      <td>-1.447987</td>\n",
       "      <td>-0.456023</td>\n",
       "      <td>-1.366651</td>\n",
       "      <td>-1.150124</td>\n",
       "      <td>0.728714</td>\n",
       "      <td>0.700428</td>\n",
       "      <td>2.814833</td>\n",
       "      <td>-0.133333</td>\n",
       "      <td>1.093024</td>\n",
       "      <td>2.503828</td>\n",
       "      <td>...</td>\n",
       "      <td>-1.243893</td>\n",
       "      <td>-0.977194</td>\n",
       "      <td>0.693984</td>\n",
       "      <td>1.159269</td>\n",
       "      <td>4.700669</td>\n",
       "      <td>0.919592</td>\n",
       "      <td>2.147190</td>\n",
       "      <td>1.859432</td>\n",
       "      <td>0</td>\n",
       "      <td>1</td>\n",
       "    </tr>\n",
       "    <tr>\n",
       "      <th>81</th>\n",
       "      <td>-0.223602</td>\n",
       "      <td>-0.798102</td>\n",
       "      <td>-0.225682</td>\n",
       "      <td>-0.383638</td>\n",
       "      <td>0.814113</td>\n",
       "      <td>0.931636</td>\n",
       "      <td>0.352803</td>\n",
       "      <td>0.540406</td>\n",
       "      <td>0.476015</td>\n",
       "      <td>0.882089</td>\n",
       "      <td>...</td>\n",
       "      <td>-0.315766</td>\n",
       "      <td>-0.467048</td>\n",
       "      <td>0.930698</td>\n",
       "      <td>1.430264</td>\n",
       "      <td>1.024806</td>\n",
       "      <td>0.855640</td>\n",
       "      <td>1.013126</td>\n",
       "      <td>0.978321</td>\n",
       "      <td>0</td>\n",
       "      <td>1</td>\n",
       "    </tr>\n",
       "    <tr>\n",
       "      <th>297</th>\n",
       "      <td>-0.672344</td>\n",
       "      <td>-0.267531</td>\n",
       "      <td>-0.698958</td>\n",
       "      <td>-0.636479</td>\n",
       "      <td>0.236249</td>\n",
       "      <td>-0.856626</td>\n",
       "      <td>-0.777772</td>\n",
       "      <td>-0.355161</td>\n",
       "      <td>-0.703240</td>\n",
       "      <td>0.010262</td>\n",
       "      <td>...</td>\n",
       "      <td>-0.660090</td>\n",
       "      <td>-0.574808</td>\n",
       "      <td>-0.818354</td>\n",
       "      <td>-1.110223</td>\n",
       "      <td>-1.012222</td>\n",
       "      <td>-0.654838</td>\n",
       "      <td>-1.492816</td>\n",
       "      <td>-0.819922</td>\n",
       "      <td>1</td>\n",
       "      <td>0</td>\n",
       "    </tr>\n",
       "  </tbody>\n",
       "</table>\n",
       "<p>6 rows × 32 columns</p>\n",
       "</div>"
      ],
      "text/plain": [
       "     radius_mean  texture_mean  perimeter_mean  area_mean  smoothness_mean  \\\n",
       "157     0.770448      0.039642        0.676795   0.640807        -1.559255   \n",
       "73     -0.092956     -0.814392       -0.063393  -0.201331         0.308838   \n",
       "541     0.097334      1.326510        0.158210   0.004297        -0.568632   \n",
       "68     -1.447987     -0.456023       -1.366651  -1.150124         0.728714   \n",
       "81     -0.223602     -0.798102       -0.225682  -0.383638         0.814113   \n",
       "297    -0.672344     -0.267531       -0.698958  -0.636479         0.236249   \n",
       "\n",
       "     compactness_mean  concavity_mean  concave points_mean  symmetry_mean  \\\n",
       "157         -0.608551       -0.468292            -0.547068       0.118223   \n",
       "73           0.448373       -0.136966             0.045677      -0.546249   \n",
       "541          0.353616        0.151924            -0.258434       0.220449   \n",
       "68           0.700428        2.814833            -0.133333       1.093024   \n",
       "81           0.931636        0.352803             0.540406       0.476015   \n",
       "297         -0.856626       -0.777772            -0.355161      -0.703240   \n",
       "\n",
       "     fractal_dimension_mean  ...  perimeter_worst  area_worst  \\\n",
       "157               -1.434276  ...         0.388371    0.266178   \n",
       "73                 0.405774  ...         0.090513   -0.119860   \n",
       "541                0.086813  ...         0.185828   -0.126013   \n",
       "68                 2.503828  ...        -1.243893   -0.977194   \n",
       "81                 0.882089  ...        -0.315766   -0.467048   \n",
       "297                0.010262  ...        -0.660090   -0.574808   \n",
       "\n",
       "     smoothness_worst  compactness_worst  concavity_worst  \\\n",
       "157         -1.956334          -0.529682        -0.402937   \n",
       "73           0.382749           0.635726         0.027401   \n",
       "541          0.071514           1.055578         0.632369   \n",
       "68           0.693984           1.159269         4.700669   \n",
       "81           0.930698           1.430264         1.024806   \n",
       "297         -0.818354          -1.110223        -1.012222   \n",
       "\n",
       "     concave points_worst  symmetry_worst  fractal_dimension_worst  diagnosis  \\\n",
       "157             -0.460547       -0.604655                -1.342493          0   \n",
       "73               0.360776       -0.504352                 1.055903          1   \n",
       "541              0.089742        0.463080                 1.017112          0   \n",
       "68               0.919592        2.147190                 1.859432          0   \n",
       "81               0.855640        1.013126                 0.978321          0   \n",
       "297             -0.654838       -1.492816                -0.819922          1   \n",
       "\n",
       "     pred_diagnosis  \n",
       "157               1  \n",
       "73                0  \n",
       "541               1  \n",
       "68                1  \n",
       "81                1  \n",
       "297               0  \n",
       "\n",
       "[6 rows x 32 columns]"
      ]
     },
     "execution_count": 47,
     "metadata": {},
     "output_type": "execute_result"
    }
   ],
   "source": [
    "test_data[test_data.diagnosis != test_data.pred_diagnosis]"
   ]
  },
  {
   "cell_type": "code",
   "execution_count": null,
   "metadata": {},
   "outputs": [],
   "source": []
  },
  {
   "cell_type": "markdown",
   "metadata": {},
   "source": [
    "## b) Stack Model No. 2 - using X_train_best from XGB Feature Importance Selection"
   ]
  },
  {
   "cell_type": "code",
   "execution_count": 48,
   "metadata": {},
   "outputs": [],
   "source": [
    "# get a stacking ensemble of models\n",
    "def get_stacking2():\n",
    "    # define the base models\n",
    "    level0 = list()\n",
    "    level0.append(('lr', LogisticRegression()))\n",
    "    level0.append(('knn', KNeighborsClassifier()))\n",
    "    level0.append(('cart', DecisionTreeClassifier()))\n",
    "    #level0.append(('lsvm', LinearSVC()))\n",
    "    #level0.append(('svm', SVC()))\n",
    "    level0.append(('et', ExtraTreesClassifier()))\n",
    "    level0.append(('bayes', GaussianNB()))\n",
    "    level0.append(('xgb', XGBClassifier()))\n",
    "    #level0.append(('mlp', MLPClassifier()))\n",
    "    \n",
    "    # define meta learner model\n",
    "    level1 = LogisticRegression()\n",
    "    \n",
    "    # define the stacking ensemble\n",
    "    model = StackingClassifier(estimators=level0, final_estimator=level1, cv=5)\n",
    "    return model"
   ]
  },
  {
   "cell_type": "code",
   "execution_count": 49,
   "metadata": {},
   "outputs": [],
   "source": [
    "def get_models2():\n",
    "    models = dict()\n",
    "    models['lr'] = LogisticRegression()\n",
    "    models['knn'] = KNeighborsClassifier()\n",
    "    models['cart'] = DecisionTreeClassifier()\n",
    "    #models['lsvm'] = LinearSVC(C=15.0, dual=False, \n",
    "                               #loss='squared_hinge', \n",
    "                               #penalty='l2', tol=0.01)\n",
    "    models['et'] = ExtraTreesClassifier(bootstrap=False, \n",
    "                     criterion = 'entropy', \n",
    "                     max_features=0.35000000000000003, \n",
    "                     min_samples_leaf=18, \n",
    "                     min_samples_split=9, \n",
    "                     n_estimators=100)\n",
    "    #models['svm'] = SVC()\n",
    "    models['bayes'] = GaussianNB()\n",
    "    models['xgb'] = XGBClassifier()\n",
    "    #models['mlp'] = MLPClassifier()\n",
    "    models['stacking'] = get_stacking2()\n",
    "    return models"
   ]
  },
  {
   "cell_type": "code",
   "execution_count": 50,
   "metadata": {},
   "outputs": [],
   "source": [
    "# evaluate a given model using cross-validation\n",
    "def evaluate_model2(model, X, y):\n",
    "    cv = RepeatedStratifiedKFold(n_splits=10, n_repeats=3, random_state=1)\n",
    "    scores = cross_val_score(model, X, y, \n",
    "                             #scoring='roc_auc', \n",
    "                             scoring = 'recall',\n",
    "                             cv=cv, \n",
    "                             n_jobs=-1, \n",
    "                             error_score='raise')\n",
    "    return scores"
   ]
  },
  {
   "cell_type": "code",
   "execution_count": 51,
   "metadata": {},
   "outputs": [],
   "source": [
    "# get the models to evaluate\n",
    "models2 = get_models2()"
   ]
  },
  {
   "cell_type": "code",
   "execution_count": 52,
   "metadata": {
    "scrolled": true
   },
   "outputs": [
    {
     "name": "stdout",
     "output_type": "stream",
     "text": [
      ">lr 0.966 (0.042)\n",
      ">knn 0.944 (0.046)\n",
      ">cart 0.899 (0.062)\n",
      ">et 0.901 (0.066)\n",
      ">bayes 0.908 (0.068)\n",
      ">xgb 0.944 (0.049)\n",
      ">stacking 0.949 (0.048)\n"
     ]
    }
   ],
   "source": [
    "results, names = list(), list()\n",
    "for name, model in models2.items():\n",
    "    scores = evaluate_model2(model, X_train_best, y_train)\n",
    "    results.append(scores)\n",
    "    names.append(name)\n",
    "    print('>%s %.3f (%.3f)' % (name, mean(scores), std(scores)))"
   ]
  },
  {
   "cell_type": "code",
   "execution_count": 53,
   "metadata": {},
   "outputs": [
    {
     "data": {
      "text/plain": [
       "StackingClassifier(cv=5,\n",
       "                   estimators=[('lr', LogisticRegression()),\n",
       "                               ('knn', KNeighborsClassifier()),\n",
       "                               ('cart', DecisionTreeClassifier()),\n",
       "                               ('et', ExtraTreesClassifier()),\n",
       "                               ('bayes', GaussianNB()),\n",
       "                               ('xgb',\n",
       "                                XGBClassifier(base_score=None, booster=None,\n",
       "                                              colsample_bylevel=None,\n",
       "                                              colsample_bynode=None,\n",
       "                                              colsample_bytree=None, gamma=None,\n",
       "                                              gpu_id=None,\n",
       "                                              importance_type='gain',\n",
       "                                              inter...,\n",
       "                                              learning_rate=None,\n",
       "                                              max_delta_step=None,\n",
       "                                              max_depth=None,\n",
       "                                              min_child_weight=None,\n",
       "                                              missing=nan,\n",
       "                                              monotone_constraints=None,\n",
       "                                              n_estimators=100, n_jobs=None,\n",
       "                                              num_parallel_tree=None,\n",
       "                                              random_state=None, reg_alpha=None,\n",
       "                                              reg_lambda=None,\n",
       "                                              scale_pos_weight=None,\n",
       "                                              subsample=None, tree_method=None,\n",
       "                                              validate_parameters=None,\n",
       "                                              verbosity=None))],\n",
       "                   final_estimator=LogisticRegression())"
      ]
     },
     "execution_count": 53,
     "metadata": {},
     "output_type": "execute_result"
    }
   ],
   "source": [
    "models2['stacking'].fit(X_train_best, y_train)"
   ]
  },
  {
   "cell_type": "code",
   "execution_count": 54,
   "metadata": {},
   "outputs": [],
   "source": [
    "y_pred_best = models2['stacking'].predict(X_test_best)"
   ]
  },
  {
   "cell_type": "code",
   "execution_count": 55,
   "metadata": {},
   "outputs": [
    {
     "name": "stdout",
     "output_type": "stream",
     "text": [
      "AUC: 0.966\n"
     ]
    }
   ],
   "source": [
    "fpr, tpr, thresholds  = metrics.roc_curve(y_test, y_pred_best, pos_label=1)\n",
    "print(\"AUC: %.3f\" % metrics.auc(fpr, tpr) )"
   ]
  },
  {
   "cell_type": "code",
   "execution_count": 56,
   "metadata": {},
   "outputs": [
    {
     "name": "stdout",
     "output_type": "stream",
     "text": [
      "Recall / Sensitivity: 0.969\n"
     ]
    }
   ],
   "source": [
    "recall = metrics.recall_score(y_test,y_pred_best,pos_label = 1)\n",
    "print(\"Recall / Sensitivity: %.3f\" % recall)"
   ]
  },
  {
   "cell_type": "code",
   "execution_count": 57,
   "metadata": {},
   "outputs": [
    {
     "name": "stdout",
     "output_type": "stream",
     "text": [
      "Specificity: 0.963\n"
     ]
    }
   ],
   "source": [
    "tn, fp, fn, tp = confusion_matrix(y_test, y_pred_best).ravel()\n",
    "specificity = tn / (tn+fp)\n",
    "print(\"Specificity: %.3f\" % specificity)"
   ]
  },
  {
   "cell_type": "markdown",
   "metadata": {},
   "source": [
    "## c) Stack Model 3 - using PCA 6 principal components"
   ]
  },
  {
   "cell_type": "code",
   "execution_count": 58,
   "metadata": {},
   "outputs": [],
   "source": [
    "# get a stacking ensemble of models\n",
    "def get_stacking3(n):\n",
    "    # define the base models\n",
    "    level0 = list()\n",
    "    \n",
    "    level0.append(('lr', LogisticRegression()))\n",
    "    level0.append(('knn', KNeighborsClassifier()))\n",
    "    level0.append(('cart', DecisionTreeClassifier()))\n",
    "    #level0.append(('lsvm', LinearSVC()))\n",
    "    #level0.append(('svm', SVC()))\n",
    "    level0.append(('et', ExtraTreesClassifier()))\n",
    "    level0.append(('bayes', GaussianNB()))\n",
    "    level0.append(('xgb', XGBClassifier()))\n",
    "    #level0.append(('mlp', MLPClassifier()))\n",
    "    \n",
    "    # define meta learner model\n",
    "    level1 = LogisticRegression()\n",
    "    # define the stacking ensemble\n",
    "    model = StackingClassifier(estimators=level0, final_estimator=level1, cv=5)\n",
    "    return model"
   ]
  },
  {
   "cell_type": "code",
   "execution_count": 59,
   "metadata": {},
   "outputs": [],
   "source": [
    "def get_models3(n):\n",
    "    models = dict()\n",
    "    \n",
    "    models['lr'] = LogisticRegression()\n",
    "    models['knn'] = KNeighborsClassifier()\n",
    "    models['cart'] = DecisionTreeClassifier()\n",
    "    #models['lsvm'] = LinearSVC(C=15.0, dual=False, \n",
    "                               #loss='squared_hinge', \n",
    "                               #penalty='l2', tol=0.01)\n",
    "    models['et'] = ExtraTreesClassifier(bootstrap=False, \n",
    "                     criterion = 'entropy', \n",
    "                     max_features=0.35000000000000003, \n",
    "                     min_samples_leaf=18, \n",
    "                     min_samples_split=9, \n",
    "                     n_estimators=100)\n",
    "    #models['svm'] = SVC()\n",
    "    models['bayes'] = GaussianNB()\n",
    "    models['xgb'] = XGBClassifier()\n",
    "    #models['mlp'] = MLPClassifier()\n",
    "    \n",
    "    models['stacking'] = get_stacking3(n)\n",
    "    return models"
   ]
  },
  {
   "cell_type": "code",
   "execution_count": 60,
   "metadata": {},
   "outputs": [],
   "source": [
    "# evaluate a given model using cross-validation\n",
    "def evaluate_model3(model, X, y):\n",
    "    cv = RepeatedStratifiedKFold(n_splits=10, n_repeats=3, random_state=1)\n",
    "    scores = cross_val_score(model, X, y, \n",
    "                             #scoring='roc_auc', \n",
    "                             scoring = 'recall',\n",
    "                             cv=cv, \n",
    "                             n_jobs=-1, \n",
    "                             error_score='raise')\n",
    "    return scores"
   ]
  },
  {
   "cell_type": "code",
   "execution_count": 61,
   "metadata": {},
   "outputs": [],
   "source": [
    "# get the models with 6 Principal components to evaluate\n",
    "\n",
    "models3 = get_models3(6)"
   ]
  },
  {
   "cell_type": "code",
   "execution_count": 62,
   "metadata": {},
   "outputs": [
    {
     "name": "stdout",
     "output_type": "stream",
     "text": [
      ">lr 0.967 (0.038)\n",
      ">knn 0.915 (0.081)\n",
      ">cart 0.877 (0.073)\n",
      ">et 0.353 (0.174)\n",
      ">bayes 0.886 (0.085)\n",
      ">xgb 0.944 (0.062)\n",
      ">stacking 0.951 (0.052)\n"
     ]
    }
   ],
   "source": [
    "results, names = list(), list()\n",
    "for name, model in models3.items():\n",
    "    scores = evaluate_model3(model, pc_X_train, pc_y_train)\n",
    "    results.append(scores)\n",
    "    names.append(name)\n",
    "    print('>%s %.3f (%.3f)' % (name, mean(scores), std(scores)))"
   ]
  },
  {
   "cell_type": "code",
   "execution_count": 63,
   "metadata": {},
   "outputs": [],
   "source": [
    "models3['stacking'].fit(pc_X_train, pc_y_train.values.ravel())\n",
    "y_pred = models3['stacking'].predict(pc_X_test)"
   ]
  },
  {
   "cell_type": "code",
   "execution_count": 64,
   "metadata": {},
   "outputs": [
    {
     "name": "stdout",
     "output_type": "stream",
     "text": [
      "AUC: 0.932\n"
     ]
    }
   ],
   "source": [
    "fpr, tpr, thresholds  = metrics.roc_curve(pc_y_test, y_pred, pos_label=1)\n",
    "print(\"AUC: %.3f\" % metrics.auc(fpr, tpr) )"
   ]
  },
  {
   "cell_type": "code",
   "execution_count": 65,
   "metadata": {},
   "outputs": [
    {
     "name": "stdout",
     "output_type": "stream",
     "text": [
      "Recall / Sensitivity: 0.873\n"
     ]
    }
   ],
   "source": [
    "recall = metrics.recall_score(pc_y_test,y_pred,pos_label = 1)\n",
    "print(\"Recall / Sensitivity: %.3f\" % recall)"
   ]
  },
  {
   "cell_type": "code",
   "execution_count": 66,
   "metadata": {},
   "outputs": [
    {
     "name": "stdout",
     "output_type": "stream",
     "text": [
      "Specificity: 0.991\n"
     ]
    }
   ],
   "source": [
    "tn, fp, fn, tp = confusion_matrix(pc_y_test, y_pred).ravel()\n",
    "specificity = tn / (tn+fp)\n",
    "print(\"Specificity: %.3f\" % specificity)"
   ]
  },
  {
   "cell_type": "code",
   "execution_count": 67,
   "metadata": {},
   "outputs": [
    {
     "data": {
      "text/plain": [
       "array([[106,   1],\n",
       "       [  8,  55]], dtype=int64)"
      ]
     },
     "execution_count": 67,
     "metadata": {},
     "output_type": "execute_result"
    }
   ],
   "source": [
    "confusion_matrix(pc_y_test, y_pred)"
   ]
  },
  {
   "cell_type": "code",
   "execution_count": 68,
   "metadata": {},
   "outputs": [],
   "source": [
    "cf_matrix_stack = confusion_matrix(pc_y_test, y_pred)"
   ]
  },
  {
   "cell_type": "code",
   "execution_count": 69,
   "metadata": {},
   "outputs": [],
   "source": [
    "group_names = ['True Neg','False Pos','False Neg','True Pos']\n",
    "group_counts = [\"{0:0.0f}\".format(value) for value in\n",
    "                cf_matrix_stack.flatten()]\n",
    "group_percentages = [\"{0:.2%}\".format(value) for value in\n",
    "                     cf_matrix_stack.flatten()/np.sum(cf_matrix_stack)]\n",
    "labels = [f\"{v1}\\n{v2}\\n{v3}\" for v1, v2, v3 in\n",
    "          zip(group_names,group_counts,group_percentages)]\n",
    "labels = np.asarray(labels).reshape(2,2)"
   ]
  },
  {
   "cell_type": "code",
   "execution_count": 70,
   "metadata": {},
   "outputs": [
    {
     "data": {
      "text/plain": [
       "<AxesSubplot:>"
      ]
     },
     "execution_count": 70,
     "metadata": {},
     "output_type": "execute_result"
    },
    {
     "data": {
      "image/png": "[encoded data removed]",
      "text/plain": [
       "<Figure size 432x288 with 2 Axes>"
      ]
     },
     "metadata": {
      "needs_background": "light"
     },
     "output_type": "display_data"
    }
   ],
   "source": [
    "import seaborn as sns\n",
    "sns.heatmap(cf_matrix_stack/np.sum(cf_matrix_stack), annot=labels, \n",
    "           fmt='', cmap='Blues')"
   ]
  },
  {
   "cell_type": "markdown",
   "metadata": {},
   "source": [
    "## d) Stack Model 4 - using XGB + LR only"
   ]
  },
  {
   "cell_type": "code",
   "execution_count": 71,
   "metadata": {},
   "outputs": [],
   "source": [
    "# get a stacking ensemble of models\n",
    "def get_stacking4():\n",
    "    # define the base models\n",
    "    level0 = list()\n",
    "    \n",
    "    #level0.append(('lr', LogisticRegression()))\n",
    "    #level0.append(('knn', KNeighborsClassifier()))\n",
    "    #level0.append(('cart', DecisionTreeClassifier()))\n",
    "    #level0.append(('lsvm', LinearSVC()))\n",
    "    #level0.append(('svm', SVC()))\n",
    "    #level0.append(('et', ExtraTreesClassifier()))\n",
    "    #level0.append(('bayes', GaussianNB()))\n",
    "    level0.append(('xgb', XGBClassifier()))\n",
    "    #level0.append(('mlp', MLPClassifier()))\n",
    "    \n",
    "    # define meta learner model\n",
    "    level1 = LogisticRegression()\n",
    "    # define the stacking ensemble\n",
    "    model = StackingClassifier(estimators=level0, final_estimator=level1, cv=5)\n",
    "    return model"
   ]
  },
  {
   "cell_type": "code",
   "execution_count": 72,
   "metadata": {},
   "outputs": [],
   "source": [
    "def get_models4():\n",
    "    models = dict()\n",
    "    \n",
    "    #models['lr'] = LogisticRegression()\n",
    "    #models['knn'] = KNeighborsClassifier()\n",
    "    #models['cart'] = DecisionTreeClassifier()\n",
    "    #models['lsvm'] = LinearSVC(C=15.0, dual=False, \n",
    "                               #loss='squared_hinge', \n",
    "                               #penalty='l2', tol=0.01)\n",
    "    #models['et'] = ExtraTreesClassifier(bootstrap=False, \n",
    "    #                 criterion = 'entropy', \n",
    "    #                 max_features=0.35000000000000003, \n",
    "    #                 min_samples_leaf=18, \n",
    "    #                 min_samples_split=9, \n",
    "    #                 n_estimators=100)\n",
    "    #models['svm'] = SVC()\n",
    "    #models['bayes'] = GaussianNB()\n",
    "    models['xgb'] = XGBClassifier()\n",
    "    #models['mlp'] = MLPClassifier()\n",
    "    \n",
    "    models['stacking'] = get_stacking4()\n",
    "    return models"
   ]
  },
  {
   "cell_type": "code",
   "execution_count": 73,
   "metadata": {},
   "outputs": [],
   "source": [
    "# evaluate a given model using cross-validation\n",
    "def evaluate_model4(model, X, y):\n",
    "    cv = RepeatedStratifiedKFold(n_splits=10, n_repeats=3, random_state=1)\n",
    "    scores = cross_val_score(model, X, y, \n",
    "                             #scoring='roc_auc', \n",
    "                             scoring = 'recall',\n",
    "                             cv=cv, \n",
    "                             n_jobs=-1, \n",
    "                             error_score='raise')\n",
    "    return scores"
   ]
  },
  {
   "cell_type": "code",
   "execution_count": 74,
   "metadata": {},
   "outputs": [],
   "source": [
    "# get the models with 6 Principal components to evaluate\n",
    "\n",
    "models4 = get_models4()"
   ]
  },
  {
   "cell_type": "code",
   "execution_count": 75,
   "metadata": {},
   "outputs": [
    {
     "name": "stdout",
     "output_type": "stream",
     "text": [
      ">xgb 0.942 (0.048)\n",
      ">stacking 0.942 (0.048)\n"
     ]
    }
   ],
   "source": [
    "results, names = list(), list()\n",
    "for name, model in models4.items():\n",
    "    scores = evaluate_model4(model, X_train, y_train)\n",
    "    results.append(scores)\n",
    "    names.append(name)\n",
    "    print('>%s %.3f (%.3f)' % (name, mean(scores), std(scores)))"
   ]
  },
  {
   "cell_type": "code",
   "execution_count": 76,
   "metadata": {},
   "outputs": [],
   "source": [
    "models4['stacking'].fit(X_train, y_train.values.ravel())\n",
    "y_pred = models4['stacking'].predict(X_test)"
   ]
  },
  {
   "cell_type": "code",
   "execution_count": 77,
   "metadata": {},
   "outputs": [
    {
     "name": "stdout",
     "output_type": "stream",
     "text": [
      "AUC: 0.970\n"
     ]
    }
   ],
   "source": [
    "fpr, tpr, thresholds  = metrics.roc_curve(y_test, y_pred, pos_label=1)\n",
    "print(\"AUC: %.3f\" % metrics.auc(fpr, tpr) )"
   ]
  },
  {
   "cell_type": "code",
   "execution_count": 78,
   "metadata": {},
   "outputs": [
    {
     "name": "stdout",
     "output_type": "stream",
     "text": [
      "Recall / Sensitivity: 0.969\n"
     ]
    }
   ],
   "source": [
    "recall = metrics.recall_score(y_test,y_pred,pos_label = 1)\n",
    "print(\"Recall / Sensitivity: %.3f\" % recall)"
   ]
  },
  {
   "cell_type": "code",
   "execution_count": 79,
   "metadata": {},
   "outputs": [
    {
     "name": "stdout",
     "output_type": "stream",
     "text": [
      "Specificity: 0.972\n"
     ]
    }
   ],
   "source": [
    "tn, fp, fn, tp = confusion_matrix(y_test, y_pred).ravel()\n",
    "specificity = tn / (tn+fp)\n",
    "print(\"Specificity: %.3f\" % specificity)"
   ]
  },
  {
   "cell_type": "markdown",
   "metadata": {},
   "source": [
    "## e) XGB - default param + Original X_train"
   ]
  },
  {
   "cell_type": "code",
   "execution_count": 80,
   "metadata": {},
   "outputs": [],
   "source": [
    "xgb = XGBClassifier()"
   ]
  },
  {
   "cell_type": "code",
   "execution_count": 81,
   "metadata": {},
   "outputs": [],
   "source": [
    "xgbmod = xgb.fit(X_train, y_train)"
   ]
  },
  {
   "cell_type": "code",
   "execution_count": 82,
   "metadata": {},
   "outputs": [],
   "source": [
    "y_pred = xgbmod.predict(X_test)"
   ]
  },
  {
   "cell_type": "code",
   "execution_count": 83,
   "metadata": {},
   "outputs": [
    {
     "name": "stdout",
     "output_type": "stream",
     "text": [
      "Recall / Sensitivity: 0.969\n"
     ]
    }
   ],
   "source": [
    "recall = metrics.recall_score(y_test,y_pred,pos_label = 1)\n",
    "print(\"Recall / Sensitivity: %.3f\" % recall)"
   ]
  },
  {
   "cell_type": "code",
   "execution_count": 84,
   "metadata": {},
   "outputs": [
    {
     "name": "stdout",
     "output_type": "stream",
     "text": [
      "Specificity: 0.963\n"
     ]
    }
   ],
   "source": [
    "tn, fp, fn, tp = confusion_matrix(y_test, y_pred).ravel()\n",
    "specificity = tn / (tn+fp)\n",
    "print(\"Specificity: %.3f\" % specificity)"
   ]
  },
  {
   "cell_type": "code",
   "execution_count": 85,
   "metadata": {},
   "outputs": [
    {
     "data": {
      "text/plain": [
       "array([[103,   4],\n",
       "       [  2,  62]], dtype=int64)"
      ]
     },
     "execution_count": 85,
     "metadata": {},
     "output_type": "execute_result"
    }
   ],
   "source": [
    "confusion_matrix(y_test, y_pred)"
   ]
  },
  {
   "cell_type": "code",
   "execution_count": 86,
   "metadata": {},
   "outputs": [
    {
     "name": "stdout",
     "output_type": "stream",
     "text": [
      "AUC: 0.966\n"
     ]
    }
   ],
   "source": [
    "fpr, tpr, thresholds  = metrics.roc_curve(y_test, y_pred, pos_label=1)\n",
    "print(\"AUC: %.3f\" % metrics.auc(fpr, tpr) )"
   ]
  },
  {
   "cell_type": "code",
   "execution_count": 87,
   "metadata": {},
   "outputs": [],
   "source": [
    "cf_matrix = confusion_matrix(y_test, y_pred)"
   ]
  },
  {
   "cell_type": "code",
   "execution_count": 88,
   "metadata": {},
   "outputs": [],
   "source": [
    "group_names = ['True Neg','False Pos','False Neg','True Pos']\n",
    "group_counts = [\"{0:0.0f}\".format(value) for value in\n",
    "                cf_matrix.flatten()]\n",
    "group_percentages = [\"{0:.2%}\".format(value) for value in\n",
    "                     cf_matrix.flatten()/np.sum(cf_matrix)]\n",
    "labels = [f\"{v1}\\n{v2}\\n{v3}\" for v1, v2, v3 in\n",
    "          zip(group_names,group_counts,group_percentages)]\n",
    "labels = np.asarray(labels).reshape(2,2)"
   ]
  },
  {
   "cell_type": "code",
   "execution_count": 89,
   "metadata": {},
   "outputs": [
    {
     "data": {
      "text/plain": [
       "<AxesSubplot:>"
      ]
     },
     "execution_count": 89,
     "metadata": {},
     "output_type": "execute_result"
    },
    {
     "data": {
      "image/png": "[encoded data removed]",
      "text/plain": [
       "<Figure size 432x288 with 2 Axes>"
      ]
     },
     "metadata": {
      "needs_background": "light"
     },
     "output_type": "display_data"
    }
   ],
   "source": [
    "import seaborn as sns\n",
    "sns.heatmap(cf_matrix/np.sum(cf_matrix), annot=labels, \n",
    "           fmt='', cmap='Blues')"
   ]
  },
  {
   "cell_type": "code",
   "execution_count": 90,
   "metadata": {},
   "outputs": [],
   "source": [
    "y_pred_proba = xgbmod.predict_proba(X_test)"
   ]
  },
  {
   "cell_type": "code",
   "execution_count": 91,
   "metadata": {},
   "outputs": [
    {
     "data": {
      "image/png": "[encoded data removed]",
      "text/plain": [
       "<Figure size 432x288 with 1 Axes>"
      ]
     },
     "metadata": {
      "needs_background": "light"
     },
     "output_type": "display_data"
    }
   ],
   "source": [
    "skplt.metrics.plot_roc(y_test, y_pred_proba)\n",
    "plt.show()"
   ]
  },
  {
   "cell_type": "code",
   "execution_count": 92,
   "metadata": {},
   "outputs": [],
   "source": [
    "test_data = pd.concat([X_test, y_test], axis = 1, )"
   ]
  },
  {
   "cell_type": "code",
   "execution_count": 93,
   "metadata": {},
   "outputs": [],
   "source": [
    "test_data.reset_index(inplace = True)"
   ]
  },
  {
   "cell_type": "code",
   "execution_count": 94,
   "metadata": {},
   "outputs": [],
   "source": [
    "test_data['pred']= pd.Series(y_pred)"
   ]
  },
  {
   "cell_type": "code",
   "execution_count": 95,
   "metadata": {},
   "outputs": [
    {
     "data": {
      "text/html": [
       "<div>\n",
       "<style scoped>\n",
       "    .dataframe tbody tr th:only-of-type {\n",
       "        vertical-align: middle;\n",
       "    }\n",
       "\n",
       "    .dataframe tbody tr th {\n",
       "        vertical-align: top;\n",
       "    }\n",
       "\n",
       "    .dataframe thead th {\n",
       "        text-align: right;\n",
       "    }\n",
       "</style>\n",
       "<table border=\"1\" class=\"dataframe\">\n",
       "  <thead>\n",
       "    <tr style=\"text-align: right;\">\n",
       "      <th></th>\n",
       "      <th>index</th>\n",
       "      <th>radius_mean</th>\n",
       "      <th>texture_mean</th>\n",
       "      <th>perimeter_mean</th>\n",
       "      <th>area_mean</th>\n",
       "      <th>smoothness_mean</th>\n",
       "      <th>compactness_mean</th>\n",
       "      <th>concavity_mean</th>\n",
       "      <th>concave points_mean</th>\n",
       "      <th>symmetry_mean</th>\n",
       "      <th>...</th>\n",
       "      <th>perimeter_worst</th>\n",
       "      <th>area_worst</th>\n",
       "      <th>smoothness_worst</th>\n",
       "      <th>compactness_worst</th>\n",
       "      <th>concavity_worst</th>\n",
       "      <th>concave points_worst</th>\n",
       "      <th>symmetry_worst</th>\n",
       "      <th>fractal_dimension_worst</th>\n",
       "      <th>diagnosis</th>\n",
       "      <th>pred</th>\n",
       "    </tr>\n",
       "  </thead>\n",
       "  <tbody>\n",
       "    <tr>\n",
       "      <th>0</th>\n",
       "      <td>115</td>\n",
       "      <td>-0.624062</td>\n",
       "      <td>0.521345</td>\n",
       "      <td>-0.635937</td>\n",
       "      <td>-0.615148</td>\n",
       "      <td>0.093918</td>\n",
       "      <td>-0.489914</td>\n",
       "      <td>-0.697043</td>\n",
       "      <td>-0.743876</td>\n",
       "      <td>-0.451325</td>\n",
       "      <td>...</td>\n",
       "      <td>-0.587413</td>\n",
       "      <td>-0.523125</td>\n",
       "      <td>0.772888</td>\n",
       "      <td>-0.091382</td>\n",
       "      <td>-0.584763</td>\n",
       "      <td>-0.641591</td>\n",
       "      <td>-0.748637</td>\n",
       "      <td>0.081139</td>\n",
       "      <td>0</td>\n",
       "      <td>0</td>\n",
       "    </tr>\n",
       "    <tr>\n",
       "      <th>1</th>\n",
       "      <td>21</td>\n",
       "      <td>-1.313080</td>\n",
       "      <td>-1.593959</td>\n",
       "      <td>-1.302806</td>\n",
       "      <td>-1.083572</td>\n",
       "      <td>0.429819</td>\n",
       "      <td>-0.747086</td>\n",
       "      <td>-0.743748</td>\n",
       "      <td>-0.726337</td>\n",
       "      <td>0.012345</td>\n",
       "      <td>...</td>\n",
       "      <td>-1.254913</td>\n",
       "      <td>-0.994422</td>\n",
       "      <td>0.001377</td>\n",
       "      <td>-0.887193</td>\n",
       "      <td>-0.880434</td>\n",
       "      <td>-0.796903</td>\n",
       "      <td>-0.729224</td>\n",
       "      <td>-0.344455</td>\n",
       "      <td>0</td>\n",
       "      <td>0</td>\n",
       "    </tr>\n",
       "    <tr>\n",
       "      <th>2</th>\n",
       "      <td>382</td>\n",
       "      <td>-0.589980</td>\n",
       "      <td>0.798266</td>\n",
       "      <td>-0.544495</td>\n",
       "      <td>-0.588983</td>\n",
       "      <td>-1.922199</td>\n",
       "      <td>0.056078</td>\n",
       "      <td>-0.117631</td>\n",
       "      <td>-0.493675</td>\n",
       "      <td>-2.222032</td>\n",
       "      <td>...</td>\n",
       "      <td>-0.592774</td>\n",
       "      <td>-0.689424</td>\n",
       "      <td>-1.945375</td>\n",
       "      <td>0.427072</td>\n",
       "      <td>0.091208</td>\n",
       "      <td>-0.082318</td>\n",
       "      <td>-1.148229</td>\n",
       "      <td>0.528899</td>\n",
       "      <td>0</td>\n",
       "      <td>0</td>\n",
       "    </tr>\n",
       "    <tr>\n",
       "      <th>3</th>\n",
       "      <td>136</td>\n",
       "      <td>-0.686545</td>\n",
       "      <td>-0.609610</td>\n",
       "      <td>-0.710491</td>\n",
       "      <td>-0.657810</td>\n",
       "      <td>0.621966</td>\n",
       "      <td>-0.822323</td>\n",
       "      <td>-0.663898</td>\n",
       "      <td>-0.591176</td>\n",
       "      <td>-1.725504</td>\n",
       "      <td>...</td>\n",
       "      <td>-0.628517</td>\n",
       "      <td>-0.586937</td>\n",
       "      <td>-0.230954</td>\n",
       "      <td>-0.963529</td>\n",
       "      <td>-0.804010</td>\n",
       "      <td>-0.684074</td>\n",
       "      <td>-1.923146</td>\n",
       "      <td>-0.582743</td>\n",
       "      <td>0</td>\n",
       "      <td>0</td>\n",
       "    </tr>\n",
       "    <tr>\n",
       "      <th>4</th>\n",
       "      <td>2</td>\n",
       "      <td>1.579888</td>\n",
       "      <td>0.456187</td>\n",
       "      <td>1.566503</td>\n",
       "      <td>1.558884</td>\n",
       "      <td>0.942210</td>\n",
       "      <td>1.052926</td>\n",
       "      <td>1.363478</td>\n",
       "      <td>2.037231</td>\n",
       "      <td>0.939685</td>\n",
       "      <td>...</td>\n",
       "      <td>1.347475</td>\n",
       "      <td>1.456285</td>\n",
       "      <td>0.527407</td>\n",
       "      <td>1.082932</td>\n",
       "      <td>0.854974</td>\n",
       "      <td>1.955000</td>\n",
       "      <td>1.152255</td>\n",
       "      <td>0.201391</td>\n",
       "      <td>1</td>\n",
       "      <td>1</td>\n",
       "    </tr>\n",
       "  </tbody>\n",
       "</table>\n",
       "<p>5 rows × 33 columns</p>\n",
       "</div>"
      ],
      "text/plain": [
       "   index  radius_mean  texture_mean  perimeter_mean  area_mean  \\\n",
       "0    115    -0.624062      0.521345       -0.635937  -0.615148   \n",
       "1     21    -1.313080     -1.593959       -1.302806  -1.083572   \n",
       "2    382    -0.589980      0.798266       -0.544495  -0.588983   \n",
       "3    136    -0.686545     -0.609610       -0.710491  -0.657810   \n",
       "4      2     1.579888      0.456187        1.566503   1.558884   \n",
       "\n",
       "   smoothness_mean  compactness_mean  concavity_mean  concave points_mean  \\\n",
       "0         0.093918         -0.489914       -0.697043            -0.743876   \n",
       "1         0.429819         -0.747086       -0.743748            -0.726337   \n",
       "2        -1.922199          0.056078       -0.117631            -0.493675   \n",
       "3         0.621966         -0.822323       -0.663898            -0.591176   \n",
       "4         0.942210          1.052926        1.363478             2.037231   \n",
       "\n",
       "   symmetry_mean  ...  perimeter_worst  area_worst  smoothness_worst  \\\n",
       "0      -0.451325  ...        -0.587413   -0.523125          0.772888   \n",
       "1       0.012345  ...        -1.254913   -0.994422          0.001377   \n",
       "2      -2.222032  ...        -0.592774   -0.689424         -1.945375   \n",
       "3      -1.725504  ...        -0.628517   -0.586937         -0.230954   \n",
       "4       0.939685  ...         1.347475    1.456285          0.527407   \n",
       "\n",
       "   compactness_worst  concavity_worst  concave points_worst  symmetry_worst  \\\n",
       "0          -0.091382        -0.584763             -0.641591       -0.748637   \n",
       "1          -0.887193        -0.880434             -0.796903       -0.729224   \n",
       "2           0.427072         0.091208             -0.082318       -1.148229   \n",
       "3          -0.963529        -0.804010             -0.684074       -1.923146   \n",
       "4           1.082932         0.854974              1.955000        1.152255   \n",
       "\n",
       "   fractal_dimension_worst  diagnosis  pred  \n",
       "0                 0.081139          0     0  \n",
       "1                -0.344455          0     0  \n",
       "2                 0.528899          0     0  \n",
       "3                -0.582743          0     0  \n",
       "4                 0.201391          1     1  \n",
       "\n",
       "[5 rows x 33 columns]"
      ]
     },
     "execution_count": 95,
     "metadata": {},
     "output_type": "execute_result"
    }
   ],
   "source": [
    "test_data.head()"
   ]
  },
  {
   "cell_type": "code",
   "execution_count": 96,
   "metadata": {},
   "outputs": [],
   "source": [
    "# False Negative\n",
    "FN = test_data[(test_data['diagnosis'] == 1) & (test_data['pred'] == 0)]"
   ]
  },
  {
   "cell_type": "code",
   "execution_count": 97,
   "metadata": {},
   "outputs": [
    {
     "data": {
      "text/html": [
       "<div>\n",
       "<style scoped>\n",
       "    .dataframe tbody tr th:only-of-type {\n",
       "        vertical-align: middle;\n",
       "    }\n",
       "\n",
       "    .dataframe tbody tr th {\n",
       "        vertical-align: top;\n",
       "    }\n",
       "\n",
       "    .dataframe thead th {\n",
       "        text-align: right;\n",
       "    }\n",
       "</style>\n",
       "<table border=\"1\" class=\"dataframe\">\n",
       "  <thead>\n",
       "    <tr style=\"text-align: right;\">\n",
       "      <th></th>\n",
       "      <th>index</th>\n",
       "      <th>radius_mean</th>\n",
       "      <th>texture_mean</th>\n",
       "      <th>perimeter_mean</th>\n",
       "      <th>area_mean</th>\n",
       "      <th>smoothness_mean</th>\n",
       "      <th>compactness_mean</th>\n",
       "      <th>concavity_mean</th>\n",
       "      <th>concave points_mean</th>\n",
       "      <th>symmetry_mean</th>\n",
       "      <th>...</th>\n",
       "      <th>perimeter_worst</th>\n",
       "      <th>area_worst</th>\n",
       "      <th>smoothness_worst</th>\n",
       "      <th>compactness_worst</th>\n",
       "      <th>concavity_worst</th>\n",
       "      <th>concave points_worst</th>\n",
       "      <th>symmetry_worst</th>\n",
       "      <th>fractal_dimension_worst</th>\n",
       "      <th>diagnosis</th>\n",
       "      <th>pred</th>\n",
       "    </tr>\n",
       "  </thead>\n",
       "  <tbody>\n",
       "    <tr>\n",
       "      <th>45</th>\n",
       "      <td>73</td>\n",
       "      <td>-0.092956</td>\n",
       "      <td>-0.814392</td>\n",
       "      <td>-0.063393</td>\n",
       "      <td>-0.201331</td>\n",
       "      <td>0.308838</td>\n",
       "      <td>0.448373</td>\n",
       "      <td>-0.136966</td>\n",
       "      <td>0.045677</td>\n",
       "      <td>-0.546249</td>\n",
       "      <td>...</td>\n",
       "      <td>0.090513</td>\n",
       "      <td>-0.119860</td>\n",
       "      <td>0.382749</td>\n",
       "      <td>0.635726</td>\n",
       "      <td>0.027401</td>\n",
       "      <td>0.360776</td>\n",
       "      <td>-0.504352</td>\n",
       "      <td>1.055903</td>\n",
       "      <td>1</td>\n",
       "      <td>0</td>\n",
       "    </tr>\n",
       "    <tr>\n",
       "      <th>133</th>\n",
       "      <td>297</td>\n",
       "      <td>-0.672344</td>\n",
       "      <td>-0.267531</td>\n",
       "      <td>-0.698958</td>\n",
       "      <td>-0.636479</td>\n",
       "      <td>0.236249</td>\n",
       "      <td>-0.856626</td>\n",
       "      <td>-0.777772</td>\n",
       "      <td>-0.355161</td>\n",
       "      <td>-0.703240</td>\n",
       "      <td>...</td>\n",
       "      <td>-0.660090</td>\n",
       "      <td>-0.574808</td>\n",
       "      <td>-0.818354</td>\n",
       "      <td>-1.110223</td>\n",
       "      <td>-1.012222</td>\n",
       "      <td>-0.654838</td>\n",
       "      <td>-1.492816</td>\n",
       "      <td>-0.819922</td>\n",
       "      <td>1</td>\n",
       "      <td>0</td>\n",
       "    </tr>\n",
       "  </tbody>\n",
       "</table>\n",
       "<p>2 rows × 33 columns</p>\n",
       "</div>"
      ],
      "text/plain": [
       "     index  radius_mean  texture_mean  perimeter_mean  area_mean  \\\n",
       "45      73    -0.092956     -0.814392       -0.063393  -0.201331   \n",
       "133    297    -0.672344     -0.267531       -0.698958  -0.636479   \n",
       "\n",
       "     smoothness_mean  compactness_mean  concavity_mean  concave points_mean  \\\n",
       "45          0.308838          0.448373       -0.136966             0.045677   \n",
       "133         0.236249         -0.856626       -0.777772            -0.355161   \n",
       "\n",
       "     symmetry_mean  ...  perimeter_worst  area_worst  smoothness_worst  \\\n",
       "45       -0.546249  ...         0.090513   -0.119860          0.382749   \n",
       "133      -0.703240  ...        -0.660090   -0.574808         -0.818354   \n",
       "\n",
       "     compactness_worst  concavity_worst  concave points_worst  symmetry_worst  \\\n",
       "45            0.635726         0.027401              0.360776       -0.504352   \n",
       "133          -1.110223        -1.012222             -0.654838       -1.492816   \n",
       "\n",
       "     fractal_dimension_worst  diagnosis  pred  \n",
       "45                  1.055903          1     0  \n",
       "133                -0.819922          1     0  \n",
       "\n",
       "[2 rows x 33 columns]"
      ]
     },
     "execution_count": 97,
     "metadata": {},
     "output_type": "execute_result"
    }
   ],
   "source": [
    "FN"
   ]
  },
  {
   "cell_type": "code",
   "execution_count": 98,
   "metadata": {},
   "outputs": [],
   "source": [
    "# False Positive\n",
    "FP = test_data[(test_data['diagnosis'] == 0) & (test_data['pred'] == 1)]"
   ]
  },
  {
   "cell_type": "code",
   "execution_count": 99,
   "metadata": {},
   "outputs": [
    {
     "data": {
      "text/html": [
       "<div>\n",
       "<style scoped>\n",
       "    .dataframe tbody tr th:only-of-type {\n",
       "        vertical-align: middle;\n",
       "    }\n",
       "\n",
       "    .dataframe tbody tr th {\n",
       "        vertical-align: top;\n",
       "    }\n",
       "\n",
       "    .dataframe thead th {\n",
       "        text-align: right;\n",
       "    }\n",
       "</style>\n",
       "<table border=\"1\" class=\"dataframe\">\n",
       "  <thead>\n",
       "    <tr style=\"text-align: right;\">\n",
       "      <th></th>\n",
       "      <th>index</th>\n",
       "      <th>radius_mean</th>\n",
       "      <th>texture_mean</th>\n",
       "      <th>perimeter_mean</th>\n",
       "      <th>area_mean</th>\n",
       "      <th>smoothness_mean</th>\n",
       "      <th>compactness_mean</th>\n",
       "      <th>concavity_mean</th>\n",
       "      <th>concave points_mean</th>\n",
       "      <th>symmetry_mean</th>\n",
       "      <th>...</th>\n",
       "      <th>perimeter_worst</th>\n",
       "      <th>area_worst</th>\n",
       "      <th>smoothness_worst</th>\n",
       "      <th>compactness_worst</th>\n",
       "      <th>concavity_worst</th>\n",
       "      <th>concave points_worst</th>\n",
       "      <th>symmetry_worst</th>\n",
       "      <th>fractal_dimension_worst</th>\n",
       "      <th>diagnosis</th>\n",
       "      <th>pred</th>\n",
       "    </tr>\n",
       "  </thead>\n",
       "  <tbody>\n",
       "    <tr>\n",
       "      <th>11</th>\n",
       "      <td>148</td>\n",
       "      <td>0.088814</td>\n",
       "      <td>-0.956343</td>\n",
       "      <td>0.082420</td>\n",
       "      <td>-0.042062</td>\n",
       "      <td>0.237673</td>\n",
       "      <td>-0.042470</td>\n",
       "      <td>-0.049332</td>\n",
       "      <td>0.165104</td>\n",
       "      <td>-0.319891</td>\n",
       "      <td>...</td>\n",
       "      <td>0.039877</td>\n",
       "      <td>-0.199845</td>\n",
       "      <td>-0.033692</td>\n",
       "      <td>0.122361</td>\n",
       "      <td>0.182841</td>\n",
       "      <td>0.689670</td>\n",
       "      <td>-0.339339</td>\n",
       "      <td>-0.394329</td>\n",
       "      <td>0</td>\n",
       "      <td>1</td>\n",
       "    </tr>\n",
       "    <tr>\n",
       "      <th>13</th>\n",
       "      <td>157</td>\n",
       "      <td>0.770448</td>\n",
       "      <td>0.039642</td>\n",
       "      <td>0.676795</td>\n",
       "      <td>0.640807</td>\n",
       "      <td>-1.559255</td>\n",
       "      <td>-0.608551</td>\n",
       "      <td>-0.468292</td>\n",
       "      <td>-0.547068</td>\n",
       "      <td>0.118223</td>\n",
       "      <td>...</td>\n",
       "      <td>0.388371</td>\n",
       "      <td>0.266178</td>\n",
       "      <td>-1.956334</td>\n",
       "      <td>-0.529682</td>\n",
       "      <td>-0.402937</td>\n",
       "      <td>-0.460547</td>\n",
       "      <td>-0.604655</td>\n",
       "      <td>-1.342493</td>\n",
       "      <td>0</td>\n",
       "      <td>1</td>\n",
       "    </tr>\n",
       "    <tr>\n",
       "      <th>72</th>\n",
       "      <td>541</td>\n",
       "      <td>0.097334</td>\n",
       "      <td>1.326510</td>\n",
       "      <td>0.158210</td>\n",
       "      <td>0.004297</td>\n",
       "      <td>-0.568632</td>\n",
       "      <td>0.353616</td>\n",
       "      <td>0.151924</td>\n",
       "      <td>-0.258434</td>\n",
       "      <td>0.220449</td>\n",
       "      <td>...</td>\n",
       "      <td>0.185828</td>\n",
       "      <td>-0.126013</td>\n",
       "      <td>0.071514</td>\n",
       "      <td>1.055578</td>\n",
       "      <td>0.632369</td>\n",
       "      <td>0.089742</td>\n",
       "      <td>0.463080</td>\n",
       "      <td>1.017112</td>\n",
       "      <td>0</td>\n",
       "      <td>1</td>\n",
       "    </tr>\n",
       "    <tr>\n",
       "      <th>166</th>\n",
       "      <td>526</td>\n",
       "      <td>-0.189520</td>\n",
       "      <td>-0.125580</td>\n",
       "      <td>-0.186552</td>\n",
       "      <td>-0.295187</td>\n",
       "      <td>0.792763</td>\n",
       "      <td>0.179262</td>\n",
       "      <td>-0.587439</td>\n",
       "      <td>-0.448793</td>\n",
       "      <td>-0.323542</td>\n",
       "      <td>...</td>\n",
       "      <td>-0.159688</td>\n",
       "      <td>-0.282643</td>\n",
       "      <td>1.316453</td>\n",
       "      <td>0.369820</td>\n",
       "      <td>-0.032568</td>\n",
       "      <td>0.427773</td>\n",
       "      <td>0.998566</td>\n",
       "      <td>0.149854</td>\n",
       "      <td>0</td>\n",
       "      <td>1</td>\n",
       "    </tr>\n",
       "  </tbody>\n",
       "</table>\n",
       "<p>4 rows × 33 columns</p>\n",
       "</div>"
      ],
      "text/plain": [
       "     index  radius_mean  texture_mean  perimeter_mean  area_mean  \\\n",
       "11     148     0.088814     -0.956343        0.082420  -0.042062   \n",
       "13     157     0.770448      0.039642        0.676795   0.640807   \n",
       "72     541     0.097334      1.326510        0.158210   0.004297   \n",
       "166    526    -0.189520     -0.125580       -0.186552  -0.295187   \n",
       "\n",
       "     smoothness_mean  compactness_mean  concavity_mean  concave points_mean  \\\n",
       "11          0.237673         -0.042470       -0.049332             0.165104   \n",
       "13         -1.559255         -0.608551       -0.468292            -0.547068   \n",
       "72         -0.568632          0.353616        0.151924            -0.258434   \n",
       "166         0.792763          0.179262       -0.587439            -0.448793   \n",
       "\n",
       "     symmetry_mean  ...  perimeter_worst  area_worst  smoothness_worst  \\\n",
       "11       -0.319891  ...         0.039877   -0.199845         -0.033692   \n",
       "13        0.118223  ...         0.388371    0.266178         -1.956334   \n",
       "72        0.220449  ...         0.185828   -0.126013          0.071514   \n",
       "166      -0.323542  ...        -0.159688   -0.282643          1.316453   \n",
       "\n",
       "     compactness_worst  concavity_worst  concave points_worst  symmetry_worst  \\\n",
       "11            0.122361         0.182841              0.689670       -0.339339   \n",
       "13           -0.529682        -0.402937             -0.460547       -0.604655   \n",
       "72            1.055578         0.632369              0.089742        0.463080   \n",
       "166           0.369820        -0.032568              0.427773        0.998566   \n",
       "\n",
       "     fractal_dimension_worst  diagnosis  pred  \n",
       "11                 -0.394329          0     1  \n",
       "13                 -1.342493          0     1  \n",
       "72                  1.017112          0     1  \n",
       "166                 0.149854          0     1  \n",
       "\n",
       "[4 rows x 33 columns]"
      ]
     },
     "execution_count": 99,
     "metadata": {},
     "output_type": "execute_result"
    }
   ],
   "source": [
    "FP"
   ]
  },
  {
   "cell_type": "markdown",
   "metadata": {},
   "source": [
    "### - Optuna Tune XGB <br>\n",
    "https://medium.com/subex-ai-labs/efficient-hyperparameter-optimization-for-xgboost-model-using-optuna-3ee9a02566b1"
   ]
  },
  {
   "cell_type": "code",
   "execution_count": 100,
   "metadata": {},
   "outputs": [],
   "source": [
    "import optuna\n",
    "from optuna import Trial, visualization\n",
    "from optuna.samplers import TPESampler"
   ]
  },
  {
   "cell_type": "code",
   "execution_count": 101,
   "metadata": {},
   "outputs": [],
   "source": [
    "def objective(trial: Trial, X, y):\n",
    "    train_class = data['diagnosis'].values\n",
    "    \n",
    "    train_X, test_X, train_y, test_y = train_test_split(X, y,\n",
    "                                                        stratify = train_class,\n",
    "                                                        test_size = 0.25, \n",
    "                                                        random_state = random_seed)\n",
    "    \n",
    "    param = {\n",
    "        \"n_estimators\": trial.suggest_int('n_estimators', 0,1000),\n",
    "        \"max_depth\" : trial.suggest_int('max_depth', 2,25),\n",
    "        'reg_alpha' : trial.suggest_int('reg_alpha', 0, 5),\n",
    "        'reg_lambda': trial.suggest_int('reg_lambda', 0, 5),\n",
    "        'min_child_weight' : trial.suggest_int('min_child_weight', 0,5),\n",
    "        'gamma': trial.suggest_int('gamma', 0,5),\n",
    "        'learning_rate':trial.suggest_loguniform('learning_rate', 0.005, 0.5),\n",
    "        'colsample_bytree': trial.suggest_discrete_uniform('colsample_bytree', 0.1, 1, 0.01),\n",
    "        'nthread' : -1,\n",
    "        'objective' : 'reg:logistic'\n",
    "        }\n",
    "    \n",
    "    model = XGBClassifier(**param)\n",
    "    \n",
    "    model.fit(train_X, train_y)\n",
    "    \n",
    "    cv = RepeatedStratifiedKFold(n_splits=10, n_repeats=3, random_state= 1)\n",
    "    \n",
    "    return cross_val_score(model, \n",
    "                           test_X, \n",
    "                           test_y, \n",
    "                           cv = cv, \n",
    "                           scoring = 'recall',\n",
    "                           n_jobs=-1, \n",
    "                           error_score='raise').mean()"
   ]
  },
  {
   "cell_type": "code",
   "execution_count": 102,
   "metadata": {},
   "outputs": [
    {
     "name": "stderr",
     "output_type": "stream",
     "text": [
      "[I 2020-10-31 15:05:41,561] A new study created in memory with name: no-name-c8649e78-7984-4444-971a-c176cddf7723\n"
     ]
    }
   ],
   "source": [
    "study = optuna.create_study(direction = 'maximize', sampler = TPESampler(seed = random_seed))\n",
    "\n",
    "# the code below just to be run once\n",
    "#study.optimize(lambda trial: objective(trial, X, y), n_trials = 75)"
   ]
  },
  {
   "cell_type": "code",
   "execution_count": 103,
   "metadata": {},
   "outputs": [],
   "source": [
    "#print('Best trial: score {}, \\nparams{}'.format(study.best_trial.value, study.best_trial.params))"
   ]
  },
  {
   "cell_type": "code",
   "execution_count": 104,
   "metadata": {},
   "outputs": [],
   "source": [
    "# Optimization history\n",
    "#history = study.trials_dataframe()\n",
    "#history.tail()"
   ]
  },
  {
   "cell_type": "code",
   "execution_count": 105,
   "metadata": {},
   "outputs": [],
   "source": [
    "# Visualize Optomisation History and Best Score at each point\n",
    "#optuna.visualization.plot_optimization_history(study)\n",
    "\n",
    "#optuna.visualization.plot_slice(study)"
   ]
  },
  {
   "cell_type": "code",
   "execution_count": 106,
   "metadata": {},
   "outputs": [],
   "source": [
    "# save xgb best parameters\n",
    "#joblib.dump(study.best_trial.params, 'xgb_best.pkl', compress = 1)"
   ]
  },
  {
   "cell_type": "code",
   "execution_count": 107,
   "metadata": {},
   "outputs": [],
   "source": [
    "xgb_best_params = joblib.load('xgb_best.pkl')"
   ]
  },
  {
   "cell_type": "code",
   "execution_count": 108,
   "metadata": {},
   "outputs": [
    {
     "data": {
      "text/plain": [
       "{'n_estimators': 231,\n",
       " 'max_depth': 13,\n",
       " 'reg_alpha': 1,\n",
       " 'reg_lambda': 0,\n",
       " 'min_child_weight': 3,\n",
       " 'gamma': 0,\n",
       " 'learning_rate': 0.07869889535964729,\n",
       " 'colsample_bytree': 0.75}"
      ]
     },
     "execution_count": 108,
     "metadata": {},
     "output_type": "execute_result"
    }
   ],
   "source": [
    "xgb_best_params"
   ]
  },
  {
   "cell_type": "markdown",
   "metadata": {},
   "source": [
    "## f) XGB - Optimized Hyperparameter + Original X_train"
   ]
  },
  {
   "cell_type": "code",
   "execution_count": 181,
   "metadata": {
    "scrolled": true
   },
   "outputs": [
    {
     "data": {
      "text/plain": [
       "XGBClassifier(base_score=0.5, booster='gbtree', colsample_bylevel=1,\n",
       "              colsample_bynode=1, colsample_bytree=0.75, gamma=0, gpu_id=-1,\n",
       "              importance_type='gain', interaction_constraints='',\n",
       "              learning_rate=0.07869889535964729, max_delta_step=0, max_depth=13,\n",
       "              min_child_weight=3, missing=nan, monotone_constraints='()',\n",
       "              n_estimators=231, n_jobs=0, num_parallel_tree=1, random_state=0,\n",
       "              reg_alpha=1, reg_lambda=0, scale_pos_weight=1, subsample=1,\n",
       "              tree_method='exact', validate_parameters=1, verbosity=None)"
      ]
     },
     "execution_count": 181,
     "metadata": {},
     "output_type": "execute_result"
    }
   ],
   "source": [
    "xgb_f = XGBClassifier()\n",
    "xgb_f.set_params(**xgb_best_params)\n",
    "xgb_f.fit(X_train, y_train)"
   ]
  },
  {
   "cell_type": "code",
   "execution_count": 184,
   "metadata": {},
   "outputs": [
    {
     "data": {
      "text/plain": [
       "array([0.26194647, 0.21305577, 0.13898532, 0.12965822, 0.06571844,\n",
       "       0.02796525, 0.02069226, 0.02010356, 0.01866255, 0.01359462,\n",
       "       0.01291867, 0.01182453, 0.01097799, 0.00891096, 0.00884031,\n",
       "       0.00851765, 0.00620316, 0.00585742, 0.00582263, 0.00415516,\n",
       "       0.00341622, 0.00122842, 0.0009444 , 0.        , 0.        ,\n",
       "       0.        , 0.        , 0.        , 0.        , 0.        ],\n",
       "      dtype=float32)"
      ]
     },
     "execution_count": 184,
     "metadata": {},
     "output_type": "execute_result"
    }
   ],
   "source": [
    "from xgboost import plot_importance\n",
    "np.sort(xgb_f.feature_importances_)[::-1]"
   ]
  },
  {
   "cell_type": "code",
   "execution_count": 185,
   "metadata": {},
   "outputs": [
    {
     "data": {
      "text/plain": [
       "<AxesSubplot:title={'center':'Feature importance'}, xlabel='F score', ylabel='Features'>"
      ]
     },
     "execution_count": 185,
     "metadata": {},
     "output_type": "execute_result"
    },
    {
     "data": {
      "image/png": "[encoded data removed]",
      "text/plain": [
       "<Figure size 432x288 with 1 Axes>"
      ]
     },
     "metadata": {
      "needs_background": "light"
     },
     "output_type": "display_data"
    }
   ],
   "source": [
    "plot_importance(xgb_f)"
   ]
  },
  {
   "cell_type": "code",
   "execution_count": 194,
   "metadata": {},
   "outputs": [],
   "source": [
    "pred_y = xgb_f.predict(X_test)\n",
    "pred_y_proba = xgb_f.predict_proba(X_test)"
   ]
  },
  {
   "cell_type": "code",
   "execution_count": 195,
   "metadata": {},
   "outputs": [
    {
     "data": {
      "image/png": "[encoded data removed]",
      "text/plain": [
       "<Figure size 432x288 with 1 Axes>"
      ]
     },
     "metadata": {
      "needs_background": "light"
     },
     "output_type": "display_data"
    }
   ],
   "source": [
    "skplt.metrics.plot_roc(y_test, pred_y_proba)\n",
    "plt.show()"
   ]
  },
  {
   "cell_type": "code",
   "execution_count": 188,
   "metadata": {},
   "outputs": [
    {
     "name": "stdout",
     "output_type": "stream",
     "text": [
      "Recall / Sensitivity / True Positive Rate: 0.969\n"
     ]
    }
   ],
   "source": [
    "recall = metrics.recall_score(y_test, pred_y,pos_label = 1)\n",
    "print(\"Recall / Sensitivity / True Positive Rate: %.3f\" % recall)"
   ]
  },
  {
   "cell_type": "code",
   "execution_count": 189,
   "metadata": {},
   "outputs": [
    {
     "name": "stdout",
     "output_type": "stream",
     "text": [
      "Specificity / True Negative Rate: 0.972\n"
     ]
    }
   ],
   "source": [
    "tn, fp, fn, tp = confusion_matrix(y_test, pred_y).ravel()\n",
    "specificity = tn / (tn+fp)\n",
    "print(\"Specificity / True Negative Rate: %.3f\" % specificity)"
   ]
  },
  {
   "cell_type": "code",
   "execution_count": 190,
   "metadata": {},
   "outputs": [
    {
     "name": "stdout",
     "output_type": "stream",
     "text": [
      "AUC: 0.970\n"
     ]
    }
   ],
   "source": [
    "fpr, tpr, thresholds  = metrics.roc_curve(y_test, pred_y, pos_label=1)\n",
    "print(\"AUC: %.3f\" % metrics.auc(fpr, tpr) )"
   ]
  },
  {
   "cell_type": "code",
   "execution_count": 191,
   "metadata": {},
   "outputs": [],
   "source": [
    "cf_matrix = confusion_matrix(y_test, pred_y)"
   ]
  },
  {
   "cell_type": "code",
   "execution_count": 192,
   "metadata": {},
   "outputs": [],
   "source": [
    "group_names = ['True Neg','False Pos','False Neg','True Pos']\n",
    "group_counts = [\"{0:0.0f}\".format(value) for value in\n",
    "                cf_matrix.flatten()]\n",
    "group_percentages = [\"{0:.2%}\".format(value) for value in\n",
    "                     cf_matrix.flatten()/np.sum(cf_matrix)]\n",
    "labels = [f\"{v1}\\n{v2}\\n{v3}\" for v1, v2, v3 in\n",
    "          zip(group_names,group_counts,group_percentages)]\n",
    "labels = np.asarray(labels).reshape(2,2)"
   ]
  },
  {
   "cell_type": "code",
   "execution_count": 193,
   "metadata": {},
   "outputs": [
    {
     "data": {
      "text/plain": [
       "<AxesSubplot:>"
      ]
     },
     "execution_count": 193,
     "metadata": {},
     "output_type": "execute_result"
    },
    {
     "data": {
      "image/png": "[encoded data removed]",
      "text/plain": [
       "<Figure size 432x288 with 2 Axes>"
      ]
     },
     "metadata": {
      "needs_background": "light"
     },
     "output_type": "display_data"
    }
   ],
   "source": [
    "import seaborn as sns\n",
    "sns.heatmap(cf_matrix/np.sum(cf_matrix), annot=labels, \n",
    "           fmt='', cmap='Blues')"
   ]
  },
  {
   "cell_type": "code",
   "execution_count": 118,
   "metadata": {},
   "outputs": [],
   "source": [
    "pred_y_df = pd.DataFrame(pred_y, index= y_test.index)"
   ]
  },
  {
   "cell_type": "code",
   "execution_count": 119,
   "metadata": {},
   "outputs": [],
   "source": [
    "test_data = X_test.join(y_test)\n",
    "test_data = test_data.join(pred_y_df)"
   ]
  },
  {
   "cell_type": "code",
   "execution_count": 120,
   "metadata": {},
   "outputs": [],
   "source": [
    "test_data.rename(columns = {0:'prediction'}, inplace = True)"
   ]
  },
  {
   "cell_type": "code",
   "execution_count": 121,
   "metadata": {},
   "outputs": [
    {
     "data": {
      "text/html": [
       "<div>\n",
       "<style scoped>\n",
       "    .dataframe tbody tr th:only-of-type {\n",
       "        vertical-align: middle;\n",
       "    }\n",
       "\n",
       "    .dataframe tbody tr th {\n",
       "        vertical-align: top;\n",
       "    }\n",
       "\n",
       "    .dataframe thead th {\n",
       "        text-align: right;\n",
       "    }\n",
       "</style>\n",
       "<table border=\"1\" class=\"dataframe\">\n",
       "  <thead>\n",
       "    <tr style=\"text-align: right;\">\n",
       "      <th></th>\n",
       "      <th>radius_mean</th>\n",
       "      <th>texture_mean</th>\n",
       "      <th>perimeter_mean</th>\n",
       "      <th>area_mean</th>\n",
       "      <th>smoothness_mean</th>\n",
       "      <th>compactness_mean</th>\n",
       "      <th>concavity_mean</th>\n",
       "      <th>concave points_mean</th>\n",
       "      <th>symmetry_mean</th>\n",
       "      <th>fractal_dimension_mean</th>\n",
       "      <th>...</th>\n",
       "      <th>perimeter_worst</th>\n",
       "      <th>area_worst</th>\n",
       "      <th>smoothness_worst</th>\n",
       "      <th>compactness_worst</th>\n",
       "      <th>concavity_worst</th>\n",
       "      <th>concave points_worst</th>\n",
       "      <th>symmetry_worst</th>\n",
       "      <th>fractal_dimension_worst</th>\n",
       "      <th>diagnosis</th>\n",
       "      <th>prediction</th>\n",
       "    </tr>\n",
       "  </thead>\n",
       "  <tbody>\n",
       "    <tr>\n",
       "      <th>115</th>\n",
       "      <td>-0.624062</td>\n",
       "      <td>0.521345</td>\n",
       "      <td>-0.635937</td>\n",
       "      <td>-0.615148</td>\n",
       "      <td>0.093918</td>\n",
       "      <td>-0.489914</td>\n",
       "      <td>-0.697043</td>\n",
       "      <td>-0.743876</td>\n",
       "      <td>-0.451325</td>\n",
       "      <td>-0.121575</td>\n",
       "      <td>...</td>\n",
       "      <td>-0.587413</td>\n",
       "      <td>-0.523125</td>\n",
       "      <td>0.772888</td>\n",
       "      <td>-0.091382</td>\n",
       "      <td>-0.584763</td>\n",
       "      <td>-0.641591</td>\n",
       "      <td>-0.748637</td>\n",
       "      <td>0.081139</td>\n",
       "      <td>0</td>\n",
       "      <td>0</td>\n",
       "    </tr>\n",
       "    <tr>\n",
       "      <th>21</th>\n",
       "      <td>-1.313080</td>\n",
       "      <td>-1.593959</td>\n",
       "      <td>-1.302806</td>\n",
       "      <td>-1.083572</td>\n",
       "      <td>0.429819</td>\n",
       "      <td>-0.747086</td>\n",
       "      <td>-0.743748</td>\n",
       "      <td>-0.726337</td>\n",
       "      <td>0.012345</td>\n",
       "      <td>0.886341</td>\n",
       "      <td>...</td>\n",
       "      <td>-1.254913</td>\n",
       "      <td>-0.994422</td>\n",
       "      <td>0.001377</td>\n",
       "      <td>-0.887193</td>\n",
       "      <td>-0.880434</td>\n",
       "      <td>-0.796903</td>\n",
       "      <td>-0.729224</td>\n",
       "      <td>-0.344455</td>\n",
       "      <td>0</td>\n",
       "      <td>0</td>\n",
       "    </tr>\n",
       "    <tr>\n",
       "      <th>382</th>\n",
       "      <td>-0.589980</td>\n",
       "      <td>0.798266</td>\n",
       "      <td>-0.544495</td>\n",
       "      <td>-0.588983</td>\n",
       "      <td>-1.922199</td>\n",
       "      <td>0.056078</td>\n",
       "      <td>-0.117631</td>\n",
       "      <td>-0.493675</td>\n",
       "      <td>-2.222032</td>\n",
       "      <td>0.537611</td>\n",
       "      <td>...</td>\n",
       "      <td>-0.592774</td>\n",
       "      <td>-0.689424</td>\n",
       "      <td>-1.945375</td>\n",
       "      <td>0.427072</td>\n",
       "      <td>0.091208</td>\n",
       "      <td>-0.082318</td>\n",
       "      <td>-1.148229</td>\n",
       "      <td>0.528899</td>\n",
       "      <td>0</td>\n",
       "      <td>0</td>\n",
       "    </tr>\n",
       "    <tr>\n",
       "      <th>136</th>\n",
       "      <td>-0.686545</td>\n",
       "      <td>-0.609610</td>\n",
       "      <td>-0.710491</td>\n",
       "      <td>-0.657810</td>\n",
       "      <td>0.621966</td>\n",
       "      <td>-0.822323</td>\n",
       "      <td>-0.663898</td>\n",
       "      <td>-0.591176</td>\n",
       "      <td>-1.725504</td>\n",
       "      <td>-0.474559</td>\n",
       "      <td>...</td>\n",
       "      <td>-0.628517</td>\n",
       "      <td>-0.586937</td>\n",
       "      <td>-0.230954</td>\n",
       "      <td>-0.963529</td>\n",
       "      <td>-0.804010</td>\n",
       "      <td>-0.684074</td>\n",
       "      <td>-1.923146</td>\n",
       "      <td>-0.582743</td>\n",
       "      <td>0</td>\n",
       "      <td>0</td>\n",
       "    </tr>\n",
       "    <tr>\n",
       "      <th>2</th>\n",
       "      <td>1.579888</td>\n",
       "      <td>0.456187</td>\n",
       "      <td>1.566503</td>\n",
       "      <td>1.558884</td>\n",
       "      <td>0.942210</td>\n",
       "      <td>1.052926</td>\n",
       "      <td>1.363478</td>\n",
       "      <td>2.037231</td>\n",
       "      <td>0.939685</td>\n",
       "      <td>-0.398008</td>\n",
       "      <td>...</td>\n",
       "      <td>1.347475</td>\n",
       "      <td>1.456285</td>\n",
       "      <td>0.527407</td>\n",
       "      <td>1.082932</td>\n",
       "      <td>0.854974</td>\n",
       "      <td>1.955000</td>\n",
       "      <td>1.152255</td>\n",
       "      <td>0.201391</td>\n",
       "      <td>1</td>\n",
       "      <td>1</td>\n",
       "    </tr>\n",
       "    <tr>\n",
       "      <th>...</th>\n",
       "      <td>...</td>\n",
       "      <td>...</td>\n",
       "      <td>...</td>\n",
       "      <td>...</td>\n",
       "      <td>...</td>\n",
       "      <td>...</td>\n",
       "      <td>...</td>\n",
       "      <td>...</td>\n",
       "      <td>...</td>\n",
       "      <td>...</td>\n",
       "      <td>...</td>\n",
       "      <td>...</td>\n",
       "      <td>...</td>\n",
       "      <td>...</td>\n",
       "      <td>...</td>\n",
       "      <td>...</td>\n",
       "      <td>...</td>\n",
       "      <td>...</td>\n",
       "      <td>...</td>\n",
       "      <td>...</td>\n",
       "      <td>...</td>\n",
       "    </tr>\n",
       "    <tr>\n",
       "      <th>526</th>\n",
       "      <td>-0.189520</td>\n",
       "      <td>-0.125580</td>\n",
       "      <td>-0.186552</td>\n",
       "      <td>-0.295187</td>\n",
       "      <td>0.792763</td>\n",
       "      <td>0.179262</td>\n",
       "      <td>-0.587439</td>\n",
       "      <td>-0.448793</td>\n",
       "      <td>-0.323542</td>\n",
       "      <td>0.052790</td>\n",
       "      <td>...</td>\n",
       "      <td>-0.159688</td>\n",
       "      <td>-0.282643</td>\n",
       "      <td>1.316453</td>\n",
       "      <td>0.369820</td>\n",
       "      <td>-0.032568</td>\n",
       "      <td>0.427773</td>\n",
       "      <td>0.998566</td>\n",
       "      <td>0.149854</td>\n",
       "      <td>0</td>\n",
       "      <td>0</td>\n",
       "    </tr>\n",
       "    <tr>\n",
       "      <th>142</th>\n",
       "      <td>-0.766069</td>\n",
       "      <td>-0.460677</td>\n",
       "      <td>-0.754153</td>\n",
       "      <td>-0.730619</td>\n",
       "      <td>0.913744</td>\n",
       "      <td>-0.179679</td>\n",
       "      <td>-0.859881</td>\n",
       "      <td>-0.781794</td>\n",
       "      <td>-0.608315</td>\n",
       "      <td>0.400103</td>\n",
       "      <td>...</td>\n",
       "      <td>-0.732768</td>\n",
       "      <td>-0.663758</td>\n",
       "      <td>0.391516</td>\n",
       "      <td>-0.477519</td>\n",
       "      <td>-0.936038</td>\n",
       "      <td>-0.770256</td>\n",
       "      <td>-0.512441</td>\n",
       "      <td>-0.165462</td>\n",
       "      <td>0</td>\n",
       "      <td>0</td>\n",
       "    </tr>\n",
       "    <tr>\n",
       "      <th>238</th>\n",
       "      <td>0.026330</td>\n",
       "      <td>1.992051</td>\n",
       "      <td>0.023930</td>\n",
       "      <td>-0.088136</td>\n",
       "      <td>-1.005588</td>\n",
       "      <td>-0.008357</td>\n",
       "      <td>0.269940</td>\n",
       "      <td>-0.124821</td>\n",
       "      <td>-1.714551</td>\n",
       "      <td>-0.213719</td>\n",
       "      <td>...</td>\n",
       "      <td>-0.141817</td>\n",
       "      <td>-0.204943</td>\n",
       "      <td>-1.063835</td>\n",
       "      <td>-0.074206</td>\n",
       "      <td>0.164131</td>\n",
       "      <td>-0.493589</td>\n",
       "      <td>-1.635181</td>\n",
       "      <td>-0.331709</td>\n",
       "      <td>0</td>\n",
       "      <td>0</td>\n",
       "    </tr>\n",
       "    <tr>\n",
       "      <th>106</th>\n",
       "      <td>-0.706426</td>\n",
       "      <td>-0.223317</td>\n",
       "      <td>-0.691956</td>\n",
       "      <td>-0.689379</td>\n",
       "      <td>1.269571</td>\n",
       "      <td>-0.050051</td>\n",
       "      <td>-0.227236</td>\n",
       "      <td>-0.362899</td>\n",
       "      <td>-0.038768</td>\n",
       "      <td>0.340564</td>\n",
       "      <td>...</td>\n",
       "      <td>-0.647878</td>\n",
       "      <td>-0.630885</td>\n",
       "      <td>1.597003</td>\n",
       "      <td>0.074651</td>\n",
       "      <td>0.072498</td>\n",
       "      <td>0.109537</td>\n",
       "      <td>-0.153294</td>\n",
       "      <td>0.389251</td>\n",
       "      <td>0</td>\n",
       "      <td>0</td>\n",
       "    </tr>\n",
       "    <tr>\n",
       "      <th>437</th>\n",
       "      <td>-0.024792</td>\n",
       "      <td>-0.770177</td>\n",
       "      <td>-0.090167</td>\n",
       "      <td>-0.124256</td>\n",
       "      <td>-0.838349</td>\n",
       "      <td>-0.860226</td>\n",
       "      <td>-0.671180</td>\n",
       "      <td>-0.502445</td>\n",
       "      <td>-0.356400</td>\n",
       "      <td>-0.541186</td>\n",
       "      <td>...</td>\n",
       "      <td>-0.180538</td>\n",
       "      <td>-0.229554</td>\n",
       "      <td>-0.564106</td>\n",
       "      <td>-0.821034</td>\n",
       "      <td>-0.769947</td>\n",
       "      <td>-0.610225</td>\n",
       "      <td>-0.284334</td>\n",
       "      <td>-0.643146</td>\n",
       "      <td>0</td>\n",
       "      <td>0</td>\n",
       "    </tr>\n",
       "  </tbody>\n",
       "</table>\n",
       "<p>171 rows × 32 columns</p>\n",
       "</div>"
      ],
      "text/plain": [
       "     radius_mean  texture_mean  perimeter_mean  area_mean  smoothness_mean  \\\n",
       "115    -0.624062      0.521345       -0.635937  -0.615148         0.093918   \n",
       "21     -1.313080     -1.593959       -1.302806  -1.083572         0.429819   \n",
       "382    -0.589980      0.798266       -0.544495  -0.588983        -1.922199   \n",
       "136    -0.686545     -0.609610       -0.710491  -0.657810         0.621966   \n",
       "2       1.579888      0.456187        1.566503   1.558884         0.942210   \n",
       "..           ...           ...             ...        ...              ...   \n",
       "526    -0.189520     -0.125580       -0.186552  -0.295187         0.792763   \n",
       "142    -0.766069     -0.460677       -0.754153  -0.730619         0.913744   \n",
       "238     0.026330      1.992051        0.023930  -0.088136        -1.005588   \n",
       "106    -0.706426     -0.223317       -0.691956  -0.689379         1.269571   \n",
       "437    -0.024792     -0.770177       -0.090167  -0.124256        -0.838349   \n",
       "\n",
       "     compactness_mean  concavity_mean  concave points_mean  symmetry_mean  \\\n",
       "115         -0.489914       -0.697043            -0.743876      -0.451325   \n",
       "21          -0.747086       -0.743748            -0.726337       0.012345   \n",
       "382          0.056078       -0.117631            -0.493675      -2.222032   \n",
       "136         -0.822323       -0.663898            -0.591176      -1.725504   \n",
       "2            1.052926        1.363478             2.037231       0.939685   \n",
       "..                ...             ...                  ...            ...   \n",
       "526          0.179262       -0.587439            -0.448793      -0.323542   \n",
       "142         -0.179679       -0.859881            -0.781794      -0.608315   \n",
       "238         -0.008357        0.269940            -0.124821      -1.714551   \n",
       "106         -0.050051       -0.227236            -0.362899      -0.038768   \n",
       "437         -0.860226       -0.671180            -0.502445      -0.356400   \n",
       "\n",
       "     fractal_dimension_mean  ...  perimeter_worst  area_worst  \\\n",
       "115               -0.121575  ...        -0.587413   -0.523125   \n",
       "21                 0.886341  ...        -1.254913   -0.994422   \n",
       "382                0.537611  ...        -0.592774   -0.689424   \n",
       "136               -0.474559  ...        -0.628517   -0.586937   \n",
       "2                 -0.398008  ...         1.347475    1.456285   \n",
       "..                      ...  ...              ...         ...   \n",
       "526                0.052790  ...        -0.159688   -0.282643   \n",
       "142                0.400103  ...        -0.732768   -0.663758   \n",
       "238               -0.213719  ...        -0.141817   -0.204943   \n",
       "106                0.340564  ...        -0.647878   -0.630885   \n",
       "437               -0.541186  ...        -0.180538   -0.229554   \n",
       "\n",
       "     smoothness_worst  compactness_worst  concavity_worst  \\\n",
       "115          0.772888          -0.091382        -0.584763   \n",
       "21           0.001377          -0.887193        -0.880434   \n",
       "382         -1.945375           0.427072         0.091208   \n",
       "136         -0.230954          -0.963529        -0.804010   \n",
       "2            0.527407           1.082932         0.854974   \n",
       "..                ...                ...              ...   \n",
       "526          1.316453           0.369820        -0.032568   \n",
       "142          0.391516          -0.477519        -0.936038   \n",
       "238         -1.063835          -0.074206         0.164131   \n",
       "106          1.597003           0.074651         0.072498   \n",
       "437         -0.564106          -0.821034        -0.769947   \n",
       "\n",
       "     concave points_worst  symmetry_worst  fractal_dimension_worst  diagnosis  \\\n",
       "115             -0.641591       -0.748637                 0.081139          0   \n",
       "21              -0.796903       -0.729224                -0.344455          0   \n",
       "382             -0.082318       -1.148229                 0.528899          0   \n",
       "136             -0.684074       -1.923146                -0.582743          0   \n",
       "2                1.955000        1.152255                 0.201391          1   \n",
       "..                    ...             ...                      ...        ...   \n",
       "526              0.427773        0.998566                 0.149854          0   \n",
       "142             -0.770256       -0.512441                -0.165462          0   \n",
       "238             -0.493589       -1.635181                -0.331709          0   \n",
       "106              0.109537       -0.153294                 0.389251          0   \n",
       "437             -0.610225       -0.284334                -0.643146          0   \n",
       "\n",
       "     prediction  \n",
       "115           0  \n",
       "21            0  \n",
       "382           0  \n",
       "136           0  \n",
       "2             1  \n",
       "..          ...  \n",
       "526           0  \n",
       "142           0  \n",
       "238           0  \n",
       "106           0  \n",
       "437           0  \n",
       "\n",
       "[171 rows x 32 columns]"
      ]
     },
     "execution_count": 121,
     "metadata": {},
     "output_type": "execute_result"
    }
   ],
   "source": [
    "test_data"
   ]
  },
  {
   "cell_type": "markdown",
   "metadata": {},
   "source": [
    "## g) XGB - Optimized Params + X_best from feature importance"
   ]
  },
  {
   "cell_type": "code",
   "execution_count": 122,
   "metadata": {},
   "outputs": [
    {
     "data": {
      "text/plain": [
       "XGBClassifier(base_score=0.5, booster='gbtree', colsample_bylevel=1,\n",
       "              colsample_bynode=1, colsample_bytree=0.75, gamma=0, gpu_id=-1,\n",
       "              importance_type='gain', interaction_constraints='',\n",
       "              learning_rate=0.07869889535964729, max_delta_step=0, max_depth=13,\n",
       "              min_child_weight=3, missing=nan, monotone_constraints='()',\n",
       "              n_estimators=231, n_jobs=0, num_parallel_tree=1, random_state=0,\n",
       "              reg_alpha=1, reg_lambda=0, scale_pos_weight=1, subsample=1,\n",
       "              tree_method='exact', validate_parameters=1, verbosity=None)"
      ]
     },
     "execution_count": 122,
     "metadata": {},
     "output_type": "execute_result"
    }
   ],
   "source": [
    "xgb.fit(X_train_best, y_train)"
   ]
  },
  {
   "cell_type": "code",
   "execution_count": 123,
   "metadata": {},
   "outputs": [],
   "source": [
    "pred_y_best = xgb.predict(X_test_best)\n"
   ]
  },
  {
   "cell_type": "code",
   "execution_count": 124,
   "metadata": {},
   "outputs": [
    {
     "name": "stdout",
     "output_type": "stream",
     "text": [
      "Recall / Sensitivity: 0.969\n"
     ]
    }
   ],
   "source": [
    "recall = metrics.recall_score(y_test, pred_y_best,pos_label = 1)\n",
    "print(\"Recall / Sensitivity: %.3f\" % recall)"
   ]
  },
  {
   "cell_type": "code",
   "execution_count": 125,
   "metadata": {},
   "outputs": [
    {
     "name": "stdout",
     "output_type": "stream",
     "text": [
      "Specificity: 0.963\n"
     ]
    }
   ],
   "source": [
    "tn, fp, fn, tp = confusion_matrix(y_test, pred_y_best).ravel()\n",
    "specificity = tn / (tn+fp)\n",
    "print(\"Specificity: %.3f\" % specificity)"
   ]
  },
  {
   "cell_type": "code",
   "execution_count": 126,
   "metadata": {},
   "outputs": [
    {
     "name": "stdout",
     "output_type": "stream",
     "text": [
      "AUC: 0.966\n"
     ]
    }
   ],
   "source": [
    "fpr, tpr, thresholds  = metrics.roc_curve(y_test, pred_y_best, pos_label=1)\n",
    "print(\"AUC: %.3f\" % metrics.auc(fpr, tpr) )"
   ]
  },
  {
   "cell_type": "markdown",
   "metadata": {},
   "source": [
    "## h) XGB - Optimized Params + PCA"
   ]
  },
  {
   "cell_type": "code",
   "execution_count": 127,
   "metadata": {},
   "outputs": [],
   "source": [
    "xgb_pca = XGBClassifier().set_params(**xgb_best_params)"
   ]
  },
  {
   "cell_type": "code",
   "execution_count": 128,
   "metadata": {
    "scrolled": true
   },
   "outputs": [
    {
     "data": {
      "text/plain": [
       "XGBClassifier(base_score=0.5, booster='gbtree', colsample_bylevel=1,\n",
       "              colsample_bynode=1, colsample_bytree=0.75, gamma=0, gpu_id=-1,\n",
       "              importance_type='gain', interaction_constraints='',\n",
       "              learning_rate=0.07869889535964729, max_delta_step=0, max_depth=13,\n",
       "              min_child_weight=3, missing=nan, monotone_constraints='()',\n",
       "              n_estimators=231, n_jobs=0, num_parallel_tree=1, random_state=0,\n",
       "              reg_alpha=1, reg_lambda=0, scale_pos_weight=1, subsample=1,\n",
       "              tree_method='exact', validate_parameters=1, verbosity=None)"
      ]
     },
     "execution_count": 128,
     "metadata": {},
     "output_type": "execute_result"
    }
   ],
   "source": [
    "xgb_pca.fit(pc_X_train, pc_y_train.values.ravel())"
   ]
  },
  {
   "cell_type": "code",
   "execution_count": 129,
   "metadata": {},
   "outputs": [
    {
     "data": {
      "text/plain": [
       "0.976"
      ]
     },
     "execution_count": 129,
     "metadata": {},
     "output_type": "execute_result"
    }
   ],
   "source": [
    "cval_spec = cross_val_score(xgb_pca, pc_X_train, pc_y_train.values.ravel(), cv= 10, scoring = spec_score).mean()\n",
    "cval_spec"
   ]
  },
  {
   "cell_type": "code",
   "execution_count": 130,
   "metadata": {},
   "outputs": [],
   "source": [
    "pred_y_pca = xgb_pca.predict(pc_X_test)"
   ]
  },
  {
   "cell_type": "code",
   "execution_count": 131,
   "metadata": {},
   "outputs": [
    {
     "name": "stdout",
     "output_type": "stream",
     "text": [
      "Recall / Sensitivity: 0.889\n"
     ]
    }
   ],
   "source": [
    "recall = metrics.recall_score(pc_y_test, pred_y_pca,pos_label = 1)\n",
    "print(\"Recall / Sensitivity: %.3f\" % recall)"
   ]
  },
  {
   "cell_type": "code",
   "execution_count": 132,
   "metadata": {},
   "outputs": [
    {
     "name": "stdout",
     "output_type": "stream",
     "text": [
      "Specificity: 0.991\n"
     ]
    }
   ],
   "source": [
    "tn, fp, fn, tp = confusion_matrix(pc_y_test, pred_y_pca).ravel()\n",
    "specificity = tn / (tn+fp)\n",
    "print(\"Specificity: %.3f\" % specificity)"
   ]
  },
  {
   "cell_type": "code",
   "execution_count": 133,
   "metadata": {},
   "outputs": [
    {
     "name": "stdout",
     "output_type": "stream",
     "text": [
      "AUC: 0.940\n"
     ]
    }
   ],
   "source": [
    "fpr, tpr, thresholds  = metrics.roc_curve(pc_y_test, pred_y_pca, pos_label=1)\n",
    "print(\"AUC: %.3f\" % metrics.auc(fpr, tpr) )"
   ]
  },
  {
   "cell_type": "code",
   "execution_count": 134,
   "metadata": {},
   "outputs": [],
   "source": [
    "cf_matrix = confusion_matrix(pc_y_test, pred_y_pca)"
   ]
  },
  {
   "cell_type": "code",
   "execution_count": 135,
   "metadata": {},
   "outputs": [],
   "source": [
    "group_names = ['True Neg','False Pos','False Neg','True Pos']\n",
    "group_counts = [\"{0:0.0f}\".format(value) for value in\n",
    "                cf_matrix.flatten()]\n",
    "group_percentages = [\"{0:.2%}\".format(value) for value in\n",
    "                     cf_matrix.flatten()/np.sum(cf_matrix)]\n",
    "labels = [f\"{v1}\\n{v2}\\n{v3}\" for v1, v2, v3 in\n",
    "          zip(group_names,group_counts,group_percentages)]\n",
    "labels = np.asarray(labels).reshape(2,2)"
   ]
  },
  {
   "cell_type": "code",
   "execution_count": 136,
   "metadata": {},
   "outputs": [
    {
     "data": {
      "text/plain": [
       "<AxesSubplot:>"
      ]
     },
     "execution_count": 136,
     "metadata": {},
     "output_type": "execute_result"
    },
    {
     "data": {
      "image/png": "[encoded data removed]",
      "text/plain": [
       "<Figure size 432x288 with 2 Axes>"
      ]
     },
     "metadata": {
      "needs_background": "light"
     },
     "output_type": "display_data"
    }
   ],
   "source": [
    "import seaborn as sns\n",
    "sns.heatmap(cf_matrix/np.sum(cf_matrix), annot=labels, \n",
    "           fmt='', cmap='Blues')"
   ]
  },
  {
   "cell_type": "markdown",
   "metadata": {},
   "source": [
    "## i) Neural Network + Original X_train"
   ]
  },
  {
   "cell_type": "code",
   "execution_count": 137,
   "metadata": {},
   "outputs": [
    {
     "data": {
      "text/plain": [
       "(398, 30)"
      ]
     },
     "execution_count": 137,
     "metadata": {},
     "output_type": "execute_result"
    }
   ],
   "source": [
    "X_train.shape"
   ]
  },
  {
   "cell_type": "code",
   "execution_count": 138,
   "metadata": {
    "scrolled": true
   },
   "outputs": [
    {
     "name": "stderr",
     "output_type": "stream",
     "text": [
      "Using TensorFlow backend.\n",
      "C:\\ProgramData\\Anaconda3\\lib\\site-packages\\tensorflow\\python\\framework\\dtypes.py:516: FutureWarning: Passing (type, 1) or '1type' as a synonym of type is deprecated; in a future version of numpy, it will be understood as (type, (1,)) / '(1,)type'.\n",
      "  _np_qint8 = np.dtype([(\"qint8\", np.int8, 1)])\n",
      "C:\\ProgramData\\Anaconda3\\lib\\site-packages\\tensorflow\\python\\framework\\dtypes.py:517: FutureWarning: Passing (type, 1) or '1type' as a synonym of type is deprecated; in a future version of numpy, it will be understood as (type, (1,)) / '(1,)type'.\n",
      "  _np_quint8 = np.dtype([(\"quint8\", np.uint8, 1)])\n",
      "C:\\ProgramData\\Anaconda3\\lib\\site-packages\\tensorflow\\python\\framework\\dtypes.py:518: FutureWarning: Passing (type, 1) or '1type' as a synonym of type is deprecated; in a future version of numpy, it will be understood as (type, (1,)) / '(1,)type'.\n",
      "  _np_qint16 = np.dtype([(\"qint16\", np.int16, 1)])\n",
      "C:\\ProgramData\\Anaconda3\\lib\\site-packages\\tensorflow\\python\\framework\\dtypes.py:519: FutureWarning: Passing (type, 1) or '1type' as a synonym of type is deprecated; in a future version of numpy, it will be understood as (type, (1,)) / '(1,)type'.\n",
      "  _np_quint16 = np.dtype([(\"quint16\", np.uint16, 1)])\n",
      "C:\\ProgramData\\Anaconda3\\lib\\site-packages\\tensorflow\\python\\framework\\dtypes.py:520: FutureWarning: Passing (type, 1) or '1type' as a synonym of type is deprecated; in a future version of numpy, it will be understood as (type, (1,)) / '(1,)type'.\n",
      "  _np_qint32 = np.dtype([(\"qint32\", np.int32, 1)])\n",
      "C:\\ProgramData\\Anaconda3\\lib\\site-packages\\tensorflow\\python\\framework\\dtypes.py:525: FutureWarning: Passing (type, 1) or '1type' as a synonym of type is deprecated; in a future version of numpy, it will be understood as (type, (1,)) / '(1,)type'.\n",
      "  np_resource = np.dtype([(\"resource\", np.ubyte, 1)])\n",
      "C:\\ProgramData\\Anaconda3\\lib\\site-packages\\tensorboard\\compat\\tensorflow_stub\\dtypes.py:541: FutureWarning: Passing (type, 1) or '1type' as a synonym of type is deprecated; in a future version of numpy, it will be understood as (type, (1,)) / '(1,)type'.\n",
      "  _np_qint8 = np.dtype([(\"qint8\", np.int8, 1)])\n",
      "C:\\ProgramData\\Anaconda3\\lib\\site-packages\\tensorboard\\compat\\tensorflow_stub\\dtypes.py:542: FutureWarning: Passing (type, 1) or '1type' as a synonym of type is deprecated; in a future version of numpy, it will be understood as (type, (1,)) / '(1,)type'.\n",
      "  _np_quint8 = np.dtype([(\"quint8\", np.uint8, 1)])\n",
      "C:\\ProgramData\\Anaconda3\\lib\\site-packages\\tensorboard\\compat\\tensorflow_stub\\dtypes.py:543: FutureWarning: Passing (type, 1) or '1type' as a synonym of type is deprecated; in a future version of numpy, it will be understood as (type, (1,)) / '(1,)type'.\n",
      "  _np_qint16 = np.dtype([(\"qint16\", np.int16, 1)])\n",
      "C:\\ProgramData\\Anaconda3\\lib\\site-packages\\tensorboard\\compat\\tensorflow_stub\\dtypes.py:544: FutureWarning: Passing (type, 1) or '1type' as a synonym of type is deprecated; in a future version of numpy, it will be understood as (type, (1,)) / '(1,)type'.\n",
      "  _np_quint16 = np.dtype([(\"quint16\", np.uint16, 1)])\n",
      "C:\\ProgramData\\Anaconda3\\lib\\site-packages\\tensorboard\\compat\\tensorflow_stub\\dtypes.py:545: FutureWarning: Passing (type, 1) or '1type' as a synonym of type is deprecated; in a future version of numpy, it will be understood as (type, (1,)) / '(1,)type'.\n",
      "  _np_qint32 = np.dtype([(\"qint32\", np.int32, 1)])\n",
      "C:\\ProgramData\\Anaconda3\\lib\\site-packages\\tensorboard\\compat\\tensorflow_stub\\dtypes.py:550: FutureWarning: Passing (type, 1) or '1type' as a synonym of type is deprecated; in a future version of numpy, it will be understood as (type, (1,)) / '(1,)type'.\n",
      "  np_resource = np.dtype([(\"resource\", np.ubyte, 1)])\n"
     ]
    }
   ],
   "source": [
    "from keras import Input\n",
    "from keras.models import Model, Sequential\n",
    "from keras.callbacks import ReduceLROnPlateau, ModelCheckpoint, EarlyStopping\n",
    "from keras.layers import Input, Dense, Conv2D, Flatten, MaxPooling2D, UpSampling2D, Cropping2D, ZeroPadding2D, Dropout"
   ]
  },
  {
   "cell_type": "code",
   "execution_count": 139,
   "metadata": {},
   "outputs": [
    {
     "name": "stdout",
     "output_type": "stream",
     "text": [
      "WARNING:tensorflow:From C:\\ProgramData\\Anaconda3\\lib\\site-packages\\keras\\backend\\tensorflow_backend.py:66: The name tf.get_default_graph is deprecated. Please use tf.compat.v1.get_default_graph instead.\n",
      "\n",
      "WARNING:tensorflow:From C:\\ProgramData\\Anaconda3\\lib\\site-packages\\keras\\backend\\tensorflow_backend.py:541: The name tf.placeholder is deprecated. Please use tf.compat.v1.placeholder instead.\n",
      "\n",
      "WARNING:tensorflow:From C:\\ProgramData\\Anaconda3\\lib\\site-packages\\keras\\backend\\tensorflow_backend.py:4432: The name tf.random_uniform is deprecated. Please use tf.random.uniform instead.\n",
      "\n",
      "WARNING:tensorflow:From C:\\ProgramData\\Anaconda3\\lib\\site-packages\\keras\\backend\\tensorflow_backend.py:148: The name tf.placeholder_with_default is deprecated. Please use tf.compat.v1.placeholder_with_default instead.\n",
      "\n",
      "WARNING:tensorflow:From C:\\ProgramData\\Anaconda3\\lib\\site-packages\\keras\\backend\\tensorflow_backend.py:3733: calling dropout (from tensorflow.python.ops.nn_ops) with keep_prob is deprecated and will be removed in a future version.\n",
      "Instructions for updating:\n",
      "Please use `rate` instead of `keep_prob`. Rate should be set to `rate = 1 - keep_prob`.\n"
     ]
    }
   ],
   "source": [
    "model = Sequential()\n",
    "model.add(Dense(12, input_dim = X_train.shape[1], activation='relu'))\n",
    "model.add(Dropout(0.5))\n",
    "model.add(Dense(8, activation='relu'))\n",
    "model.add(Dropout(0.5))\n",
    "model.add(Dense(1, activation='sigmoid'))"
   ]
  },
  {
   "cell_type": "code",
   "execution_count": 140,
   "metadata": {},
   "outputs": [
    {
     "name": "stdout",
     "output_type": "stream",
     "text": [
      "WARNING:tensorflow:From C:\\ProgramData\\Anaconda3\\lib\\site-packages\\keras\\optimizers.py:793: The name tf.train.Optimizer is deprecated. Please use tf.compat.v1.train.Optimizer instead.\n",
      "\n",
      "WARNING:tensorflow:From C:\\ProgramData\\Anaconda3\\lib\\site-packages\\keras\\backend\\tensorflow_backend.py:3657: The name tf.log is deprecated. Please use tf.math.log instead.\n",
      "\n",
      "WARNING:tensorflow:From C:\\ProgramData\\Anaconda3\\lib\\site-packages\\tensorflow\\python\\ops\\nn_impl.py:180: add_dispatch_support.<locals>.wrapper (from tensorflow.python.ops.array_ops) is deprecated and will be removed in a future version.\n",
      "Instructions for updating:\n",
      "Use tf.where in 2.0, which has the same broadcast rule as np.where\n"
     ]
    }
   ],
   "source": [
    "model.compile(loss='binary_crossentropy', optimizer='adam', metrics=['accuracy'])"
   ]
  },
  {
   "cell_type": "code",
   "execution_count": 141,
   "metadata": {},
   "outputs": [
    {
     "name": "stdout",
     "output_type": "stream",
     "text": [
      "Epoch 1/150\n",
      "398/398 [==============================] - ETA: 9s - loss: 1.3273 - acc: 0.600 - 0s 741us/step - loss: 0.8230 - acc: 0.5829\n",
      "Epoch 2/150\n",
      "398/398 [==============================] - ETA: 0s - loss: 0.7108 - acc: 0.600 - 0s 106us/step - loss: 0.6598 - acc: 0.6608\n",
      "Epoch 3/150\n",
      "398/398 [==============================] - ETA: 0s - loss: 0.5017 - acc: 0.700 - 0s 116us/step - loss: 0.5480 - acc: 0.7337\n",
      "Epoch 4/150\n",
      "398/398 [==============================] - ETA: 0s - loss: 0.4830 - acc: 0.800 - 0s 113us/step - loss: 0.5220 - acc: 0.7462\n",
      "Epoch 5/150\n",
      "398/398 [==============================] - ETA: 0s - loss: 0.4612 - acc: 0.800 - 0s 118us/step - loss: 0.4881 - acc: 0.7513\n",
      "Epoch 6/150\n",
      "398/398 [==============================] - ETA: 0s - loss: 0.3221 - acc: 0.900 - 0s 116us/step - loss: 0.4119 - acc: 0.8317\n",
      "Epoch 7/150\n",
      "398/398 [==============================] - ETA: 0s - loss: 0.3881 - acc: 0.800 - 0s 116us/step - loss: 0.4290 - acc: 0.7714\n",
      "Epoch 8/150\n",
      "398/398 [==============================] - ETA: 0s - loss: 0.4492 - acc: 0.800 - 0s 126us/step - loss: 0.3862 - acc: 0.7940\n",
      "Epoch 9/150\n",
      "398/398 [==============================] - ETA: 0s - loss: 0.3433 - acc: 0.800 - 0s 131us/step - loss: 0.3350 - acc: 0.8266\n",
      "Epoch 10/150\n",
      "398/398 [==============================] - ETA: 0s - loss: 0.6769 - acc: 0.900 - 0s 118us/step - loss: 0.3469 - acc: 0.8191\n",
      "Epoch 11/150\n",
      "398/398 [==============================] - ETA: 0s - loss: 0.3161 - acc: 0.900 - 0s 121us/step - loss: 0.2988 - acc: 0.8618\n",
      "Epoch 12/150\n",
      "398/398 [==============================] - ETA: 0s - loss: 0.2158 - acc: 1.000 - 0s 113us/step - loss: 0.2919 - acc: 0.8543\n",
      "Epoch 13/150\n",
      "398/398 [==============================] - ETA: 0s - loss: 0.2522 - acc: 0.900 - 0s 116us/step - loss: 0.2787 - acc: 0.8719\n",
      "Epoch 14/150\n",
      "398/398 [==============================] - ETA: 0s - loss: 0.4766 - acc: 0.800 - 0s 131us/step - loss: 0.2806 - acc: 0.8367\n",
      "Epoch 15/150\n",
      "398/398 [==============================] - ETA: 0s - loss: 0.2901 - acc: 0.800 - 0s 131us/step - loss: 0.2517 - acc: 0.8618\n",
      "Epoch 16/150\n",
      "398/398 [==============================] - ETA: 0s - loss: 0.4799 - acc: 0.900 - 0s 123us/step - loss: 0.2190 - acc: 0.8970\n",
      "Epoch 17/150\n",
      "398/398 [==============================] - ETA: 0s - loss: 0.2706 - acc: 1.000 - 0s 131us/step - loss: 0.2066 - acc: 0.9020\n",
      "Epoch 18/150\n",
      "398/398 [==============================] - ETA: 0s - loss: 0.1054 - acc: 1.000 - 0s 126us/step - loss: 0.2129 - acc: 0.9196\n",
      "Epoch 19/150\n",
      "398/398 [==============================] - ETA: 0s - loss: 0.1423 - acc: 1.000 - 0s 128us/step - loss: 0.2040 - acc: 0.9246\n",
      "Epoch 20/150\n",
      "398/398 [==============================] - ETA: 0s - loss: 0.1276 - acc: 1.000 - 0s 131us/step - loss: 0.1839 - acc: 0.9196\n",
      "Epoch 21/150\n",
      "398/398 [==============================] - ETA: 0s - loss: 0.1093 - acc: 1.000 - 0s 123us/step - loss: 0.1796 - acc: 0.9246\n",
      "Epoch 22/150\n",
      "398/398 [==============================] - ETA: 0s - loss: 0.1644 - acc: 1.000 - 0s 126us/step - loss: 0.1980 - acc: 0.9221\n",
      "Epoch 23/150\n",
      "398/398 [==============================] - ETA: 0s - loss: 0.3296 - acc: 0.700 - 0s 118us/step - loss: 0.1490 - acc: 0.9372\n",
      "Epoch 24/150\n",
      "398/398 [==============================] - ETA: 0s - loss: 0.1251 - acc: 1.000 - 0s 123us/step - loss: 0.1557 - acc: 0.9548\n",
      "Epoch 25/150\n",
      "398/398 [==============================] - ETA: 0s - loss: 0.2508 - acc: 0.900 - 0s 123us/step - loss: 0.1801 - acc: 0.9246\n",
      "Epoch 26/150\n",
      "398/398 [==============================] - ETA: 0s - loss: 0.1071 - acc: 1.000 - 0s 121us/step - loss: 0.1353 - acc: 0.9397\n",
      "Epoch 27/150\n",
      "398/398 [==============================] - ETA: 0s - loss: 0.1357 - acc: 0.900 - 0s 118us/step - loss: 0.1759 - acc: 0.9296\n",
      "Epoch 28/150\n",
      "398/398 [==============================] - ETA: 0s - loss: 0.1194 - acc: 0.900 - 0s 116us/step - loss: 0.1612 - acc: 0.9070\n",
      "Epoch 29/150\n",
      "398/398 [==============================] - ETA: 0s - loss: 0.2755 - acc: 0.900 - 0s 121us/step - loss: 0.1378 - acc: 0.9397\n",
      "Epoch 30/150\n",
      "398/398 [==============================] - ETA: 0s - loss: 0.0065 - acc: 1.000 - 0s 118us/step - loss: 0.1426 - acc: 0.9447\n",
      "Epoch 31/150\n",
      "398/398 [==============================] - ETA: 0s - loss: 0.1275 - acc: 0.900 - 0s 118us/step - loss: 0.1658 - acc: 0.9196\n",
      "Epoch 32/150\n",
      "398/398 [==============================] - ETA: 0s - loss: 0.0033 - acc: 1.000 - 0s 118us/step - loss: 0.1465 - acc: 0.9322\n",
      "Epoch 33/150\n",
      "398/398 [==============================] - ETA: 0s - loss: 0.2272 - acc: 0.900 - 0s 121us/step - loss: 0.1558 - acc: 0.9221\n",
      "Epoch 34/150\n",
      "398/398 [==============================] - ETA: 0s - loss: 0.1066 - acc: 0.900 - 0s 128us/step - loss: 0.1484 - acc: 0.9472\n",
      "Epoch 35/150\n",
      "398/398 [==============================] - ETA: 0s - loss: 0.1536 - acc: 0.900 - 0s 121us/step - loss: 0.1463 - acc: 0.9322\n",
      "Epoch 36/150\n",
      "398/398 [==============================] - ETA: 0s - loss: 0.0133 - acc: 1.000 - 0s 128us/step - loss: 0.1433 - acc: 0.9221\n",
      "Epoch 37/150\n",
      "398/398 [==============================] - ETA: 0s - loss: 0.0030 - acc: 1.000 - 0s 121us/step - loss: 0.1275 - acc: 0.9447\n",
      "Epoch 38/150\n",
      "398/398 [==============================] - ETA: 0s - loss: 0.0030 - acc: 1.000 - 0s 121us/step - loss: 0.1282 - acc: 0.9372\n",
      "Epoch 39/150\n",
      "398/398 [==============================] - ETA: 0s - loss: 0.0758 - acc: 1.000 - 0s 116us/step - loss: 0.1163 - acc: 0.9523\n",
      "Epoch 40/150\n",
      "398/398 [==============================] - ETA: 0s - loss: 0.1465 - acc: 1.000 - 0s 118us/step - loss: 0.1184 - acc: 0.9673\n",
      "Epoch 41/150\n",
      "398/398 [==============================] - ETA: 0s - loss: 0.1491 - acc: 0.900 - 0s 126us/step - loss: 0.1552 - acc: 0.9523\n",
      "Epoch 42/150\n",
      "398/398 [==============================] - ETA: 0s - loss: 0.0798 - acc: 1.000 - 0s 123us/step - loss: 0.1139 - acc: 0.9548\n",
      "Epoch 43/150\n",
      "398/398 [==============================] - ETA: 0s - loss: 0.1065 - acc: 0.900 - 0s 121us/step - loss: 0.1289 - acc: 0.9447\n",
      "Epoch 44/150\n",
      "398/398 [==============================] - ETA: 0s - loss: 0.0804 - acc: 0.900 - 0s 121us/step - loss: 0.1034 - acc: 0.9523\n",
      "Epoch 45/150\n",
      "398/398 [==============================] - ETA: 0s - loss: 0.1810 - acc: 0.900 - 0s 123us/step - loss: 0.1094 - acc: 0.9397\n",
      "Epoch 46/150\n",
      "398/398 [==============================] - ETA: 0s - loss: 0.0720 - acc: 1.000 - 0s 121us/step - loss: 0.1376 - acc: 0.9472\n",
      "Epoch 47/150\n",
      "398/398 [==============================] - ETA: 0s - loss: 0.0471 - acc: 1.000 - 0s 121us/step - loss: 0.1305 - acc: 0.9623\n",
      "Epoch 48/150\n",
      "398/398 [==============================] - ETA: 0s - loss: 0.0872 - acc: 1.000 - 0s 131us/step - loss: 0.0958 - acc: 0.9548\n",
      "Epoch 49/150\n",
      "398/398 [==============================] - ETA: 0s - loss: 0.1757 - acc: 0.900 - 0s 124us/step - loss: 0.1188 - acc: 0.9497\n",
      "Epoch 50/150\n",
      "398/398 [==============================] - ETA: 0s - loss: 0.3101 - acc: 0.800 - ETA: 0s - loss: 0.1339 - acc: 0.939 - 0s 146us/step - loss: 0.1302 - acc: 0.9422\n",
      "Epoch 51/150\n",
      "398/398 [==============================] - ETA: 0s - loss: 0.1824 - acc: 0.900 - 0s 121us/step - loss: 0.1388 - acc: 0.9322\n",
      "Epoch 52/150\n",
      "398/398 [==============================] - ETA: 0s - loss: 0.1461 - acc: 1.000 - 0s 121us/step - loss: 0.1311 - acc: 0.9447\n",
      "Epoch 53/150\n",
      "398/398 [==============================] - ETA: 0s - loss: 0.1483 - acc: 0.900 - 0s 123us/step - loss: 0.0891 - acc: 0.9598\n",
      "Epoch 54/150\n",
      "398/398 [==============================] - ETA: 0s - loss: 0.0380 - acc: 1.000 - 0s 116us/step - loss: 0.1128 - acc: 0.9497\n",
      "Epoch 55/150\n",
      "398/398 [==============================] - ETA: 0s - loss: 0.0743 - acc: 0.900 - ETA: 0s - loss: 0.1289 - acc: 0.951 - 0s 146us/step - loss: 0.1266 - acc: 0.9523\n",
      "Epoch 56/150\n",
      "398/398 [==============================] - ETA: 0s - loss: 0.4068 - acc: 0.800 - 0s 108us/step - loss: 0.1065 - acc: 0.9523\n",
      "Epoch 57/150\n",
      "398/398 [==============================] - ETA: 0s - loss: 0.0925 - acc: 0.900 - 0s 113us/step - loss: 0.1131 - acc: 0.9397\n",
      "Epoch 58/150\n",
      "398/398 [==============================] - ETA: 0s - loss: 0.1247 - acc: 0.900 - 0s 111us/step - loss: 0.0997 - acc: 0.9447\n",
      "Epoch 59/150\n",
      "398/398 [==============================] - ETA: 0s - loss: 0.0870 - acc: 0.900 - 0s 116us/step - loss: 0.1000 - acc: 0.9447\n",
      "Epoch 60/150\n",
      "398/398 [==============================] - ETA: 0s - loss: 2.4206e-04 - acc: 1.000 - 0s 118us/step - loss: 0.0742 - acc: 0.9673\n",
      "Epoch 61/150\n",
      "398/398 [==============================] - ETA: 0s - loss: 0.0081 - acc: 1.000 - 0s 106us/step - loss: 0.1023 - acc: 0.9548\n",
      "Epoch 62/150\n",
      "398/398 [==============================] - ETA: 0s - loss: 6.0849e-04 - acc: 1.000 - 0s 108us/step - loss: 0.0902 - acc: 0.9598\n",
      "Epoch 63/150\n",
      "398/398 [==============================] - ETA: 0s - loss: 0.0470 - acc: 1.000 - 0s 111us/step - loss: 0.0996 - acc: 0.9523\n",
      "Epoch 64/150\n",
      "398/398 [==============================] - ETA: 0s - loss: 1.3391e-04 - acc: 1.000 - 0s 118us/step - loss: 0.1055 - acc: 0.9573\n",
      "Epoch 65/150\n",
      "398/398 [==============================] - ETA: 0s - loss: 0.1528 - acc: 0.900 - 0s 113us/step - loss: 0.1072 - acc: 0.9497\n",
      "Epoch 66/150\n",
      "398/398 [==============================] - ETA: 0s - loss: 0.4308 - acc: 0.800 - 0s 111us/step - loss: 0.1065 - acc: 0.9447\n",
      "Epoch 67/150\n",
      "398/398 [==============================] - ETA: 0s - loss: 0.1384 - acc: 0.900 - 0s 108us/step - loss: 0.0921 - acc: 0.9422\n",
      "Epoch 68/150\n",
      "398/398 [==============================] - ETA: 0s - loss: 0.0985 - acc: 0.900 - 0s 111us/step - loss: 0.0857 - acc: 0.9648\n",
      "Epoch 69/150\n",
      "398/398 [==============================] - ETA: 0s - loss: 0.0763 - acc: 1.000 - 0s 106us/step - loss: 0.1150 - acc: 0.9447\n",
      "Epoch 70/150\n",
      "398/398 [==============================] - ETA: 0s - loss: 0.3682 - acc: 0.800 - 0s 106us/step - loss: 0.1045 - acc: 0.9573\n",
      "Epoch 71/150\n",
      "398/398 [==============================] - ETA: 0s - loss: 0.0724 - acc: 1.000 - 0s 108us/step - loss: 0.0857 - acc: 0.9648\n",
      "Epoch 72/150\n",
      "398/398 [==============================] - ETA: 0s - loss: 0.0866 - acc: 1.000 - 0s 111us/step - loss: 0.0940 - acc: 0.9548\n",
      "Epoch 73/150\n",
      "398/398 [==============================] - ETA: 0s - loss: 0.0896 - acc: 0.900 - 0s 111us/step - loss: 0.0824 - acc: 0.9497\n",
      "Epoch 74/150\n",
      "398/398 [==============================] - ETA: 0s - loss: 0.0790 - acc: 0.900 - 0s 108us/step - loss: 0.0897 - acc: 0.9573\n",
      "Epoch 75/150\n",
      "398/398 [==============================] - ETA: 0s - loss: 3.2193e-04 - acc: 1.000 - 0s 113us/step - loss: 0.1155 - acc: 0.9472\n",
      "Epoch 76/150\n",
      "398/398 [==============================] - ETA: 0s - loss: 0.0297 - acc: 1.000 - 0s 98us/step - loss: 0.0993 - acc: 0.9573\n",
      "Epoch 77/150\n",
      "398/398 [==============================] - ETA: 0s - loss: 0.0639 - acc: 1.000 - 0s 108us/step - loss: 0.0879 - acc: 0.9648\n",
      "Epoch 78/150\n",
      "398/398 [==============================] - ETA: 0s - loss: 0.0035 - acc: 1.000 - 0s 106us/step - loss: 0.0736 - acc: 0.9824\n",
      "Epoch 79/150\n",
      "398/398 [==============================] - ETA: 0s - loss: 0.0106 - acc: 1.000 - 0s 108us/step - loss: 0.0887 - acc: 0.9548\n",
      "Epoch 80/150\n",
      "398/398 [==============================] - ETA: 0s - loss: 0.0821 - acc: 1.000 - 0s 108us/step - loss: 0.1064 - acc: 0.9573\n",
      "Epoch 81/150\n",
      "398/398 [==============================] - ETA: 0s - loss: 0.0615 - acc: 1.000 - 0s 105us/step - loss: 0.0988 - acc: 0.9623\n",
      "Epoch 82/150\n",
      "398/398 [==============================] - ETA: 0s - loss: 0.0081 - acc: 1.000 - 0s 110us/step - loss: 0.1045 - acc: 0.9422\n",
      "Epoch 83/150\n",
      "398/398 [==============================] - ETA: 0s - loss: 0.0666 - acc: 1.000 - 0s 107us/step - loss: 0.0781 - acc: 0.9648\n",
      "Epoch 84/150\n",
      "398/398 [==============================] - ETA: 0s - loss: 5.4837e-04 - acc: 1.000 - 0s 111us/step - loss: 0.0980 - acc: 0.9523\n",
      "Epoch 85/150\n",
      "398/398 [==============================] - ETA: 0s - loss: 0.0593 - acc: 1.000 - 0s 118us/step - loss: 0.0832 - acc: 0.9623\n",
      "Epoch 86/150\n",
      "398/398 [==============================] - ETA: 0s - loss: 0.1461 - acc: 0.900 - 0s 121us/step - loss: 0.1058 - acc: 0.9347\n",
      "Epoch 87/150\n",
      "398/398 [==============================] - ETA: 0s - loss: 0.0030 - acc: 1.000 - 0s 104us/step - loss: 0.0749 - acc: 0.9698\n",
      "Epoch 88/150\n",
      "398/398 [==============================] - ETA: 0s - loss: 0.0017 - acc: 1.000 - 0s 108us/step - loss: 0.0795 - acc: 0.9724\n",
      "Epoch 89/150\n",
      "398/398 [==============================] - ETA: 0s - loss: 0.0043 - acc: 1.000 - 0s 108us/step - loss: 0.0984 - acc: 0.9447\n",
      "Epoch 90/150\n",
      "398/398 [==============================] - ETA: 0s - loss: 1.9843e-05 - acc: 1.000 - 0s 108us/step - loss: 0.0963 - acc: 0.9598\n",
      "Epoch 91/150\n",
      "398/398 [==============================] - ETA: 0s - loss: 0.0812 - acc: 0.900 - 0s 113us/step - loss: 0.0877 - acc: 0.9548\n",
      "Epoch 92/150\n",
      "398/398 [==============================] - ETA: 0s - loss: 0.0857 - acc: 0.900 - 0s 111us/step - loss: 0.0903 - acc: 0.9472\n",
      "Epoch 93/150\n",
      "398/398 [==============================] - ETA: 0s - loss: 0.0305 - acc: 1.000 - 0s 108us/step - loss: 0.0924 - acc: 0.9497\n",
      "Epoch 94/150\n",
      "398/398 [==============================] - ETA: 0s - loss: 0.0739 - acc: 1.000 - ETA: 0s - loss: 0.0909 - acc: 0.958 - 0s 166us/step - loss: 0.0935 - acc: 0.9548\n",
      "Epoch 95/150\n",
      "398/398 [==============================] - ETA: 0s - loss: 0.0592 - acc: 1.000 - 0s 123us/step - loss: 0.0983 - acc: 0.9573\n",
      "Epoch 96/150\n",
      "398/398 [==============================] - ETA: 0s - loss: 0.0311 - acc: 1.000 - 0s 118us/step - loss: 0.0797 - acc: 0.9648\n",
      "Epoch 97/150\n",
      "398/398 [==============================] - ETA: 0s - loss: 0.0549 - acc: 1.000 - 0s 119us/step - loss: 0.0699 - acc: 0.9774\n",
      "Epoch 98/150\n",
      "398/398 [==============================] - ETA: 0s - loss: 0.1143 - acc: 1.000 - 0s 116us/step - loss: 0.0659 - acc: 0.9799\n",
      "Epoch 99/150\n",
      "398/398 [==============================] - ETA: 0s - loss: 0.0568 - acc: 1.000 - 0s 108us/step - loss: 0.0847 - acc: 0.9698\n",
      "Epoch 100/150\n",
      "398/398 [==============================] - ETA: 0s - loss: 0.1445 - acc: 0.900 - 0s 108us/step - loss: 0.0804 - acc: 0.9472\n",
      "Epoch 101/150\n",
      "398/398 [==============================] - ETA: 0s - loss: 0.0696 - acc: 0.900 - 0s 113us/step - loss: 0.0810 - acc: 0.9548\n",
      "Epoch 102/150\n",
      "398/398 [==============================] - ETA: 0s - loss: 0.1655 - acc: 1.000 - 0s 111us/step - loss: 0.0887 - acc: 0.9623\n",
      "Epoch 103/150\n",
      "398/398 [==============================] - ETA: 0s - loss: 0.0115 - acc: 1.000 - 0s 111us/step - loss: 0.1080 - acc: 0.9497\n",
      "Epoch 104/150\n",
      "398/398 [==============================] - ETA: 0s - loss: 0.0557 - acc: 1.000 - 0s 111us/step - loss: 0.0838 - acc: 0.9698\n",
      "Epoch 105/150\n",
      "398/398 [==============================] - ETA: 0s - loss: 7.1735e-04 - acc: 1.000 - 0s 106us/step - loss: 0.0862 - acc: 0.9523\n",
      "Epoch 106/150\n",
      "398/398 [==============================] - ETA: 0s - loss: 0.0272 - acc: 1.000 - 0s 111us/step - loss: 0.0616 - acc: 0.9648\n",
      "Epoch 107/150\n",
      "398/398 [==============================] - ETA: 0s - loss: 0.0088 - acc: 1.000 - 0s 106us/step - loss: 0.0726 - acc: 0.9724\n",
      "Epoch 108/150\n",
      "398/398 [==============================] - ETA: 0s - loss: 0.1732 - acc: 0.800 - 0s 103us/step - loss: 0.0871 - acc: 0.9548\n",
      "Epoch 109/150\n",
      "398/398 [==============================] - ETA: 0s - loss: 0.1334 - acc: 1.000 - 0s 108us/step - loss: 0.0758 - acc: 0.9573\n",
      "Epoch 110/150\n",
      "398/398 [==============================] - ETA: 0s - loss: 0.0425 - acc: 1.000 - 0s 103us/step - loss: 0.0732 - acc: 0.9698\n",
      "Epoch 111/150\n",
      "398/398 [==============================] - ETA: 0s - loss: 0.0572 - acc: 1.000 - 0s 106us/step - loss: 0.0875 - acc: 0.9523\n",
      "Epoch 112/150\n",
      "398/398 [==============================] - ETA: 0s - loss: 0.0544 - acc: 1.000 - 0s 100us/step - loss: 0.0697 - acc: 0.9749\n",
      "Epoch 113/150\n",
      "398/398 [==============================] - ETA: 0s - loss: 0.0099 - acc: 1.000 - 0s 106us/step - loss: 0.0592 - acc: 0.9799\n",
      "Epoch 114/150\n",
      "398/398 [==============================] - ETA: 0s - loss: 0.0928 - acc: 0.900 - 0s 111us/step - loss: 0.0681 - acc: 0.9698\n",
      "Epoch 115/150\n",
      "398/398 [==============================] - ETA: 0s - loss: 0.1319 - acc: 0.900 - 0s 108us/step - loss: 0.0757 - acc: 0.9623\n",
      "Epoch 116/150\n",
      "398/398 [==============================] - ETA: 0s - loss: 0.0350 - acc: 1.000 - 0s 108us/step - loss: 0.0727 - acc: 0.9874\n",
      "Epoch 117/150\n",
      "398/398 [==============================] - ETA: 0s - loss: 0.0100 - acc: 1.000 - 0s 106us/step - loss: 0.0843 - acc: 0.9698\n",
      "Epoch 118/150\n",
      "398/398 [==============================] - ETA: 0s - loss: 0.0574 - acc: 1.000 - 0s 111us/step - loss: 0.0665 - acc: 0.9698\n",
      "Epoch 119/150\n"
     ]
    },
    {
     "name": "stdout",
     "output_type": "stream",
     "text": [
      "398/398 [==============================] - ETA: 0s - loss: 0.0517 - acc: 1.000 - 0s 113us/step - loss: 0.0810 - acc: 0.9573\n",
      "Epoch 120/150\n",
      "398/398 [==============================] - ETA: 0s - loss: 0.0683 - acc: 1.000 - 0s 113us/step - loss: 0.0854 - acc: 0.9648\n",
      "Epoch 121/150\n",
      "398/398 [==============================] - ETA: 0s - loss: 5.8576e-06 - acc: 1.000 - 0s 101us/step - loss: 0.0744 - acc: 0.9623\n",
      "Epoch 122/150\n",
      "398/398 [==============================] - ETA: 0s - loss: 0.0832 - acc: 1.000 - 0s 106us/step - loss: 0.0801 - acc: 0.9648\n",
      "Epoch 123/150\n",
      "398/398 [==============================] - ETA: 0s - loss: 0.1645 - acc: 0.800 - 0s 108us/step - loss: 0.0820 - acc: 0.9573\n",
      "Epoch 124/150\n",
      "398/398 [==============================] - ETA: 0s - loss: 0.1517 - acc: 0.900 - 0s 108us/step - loss: 0.0697 - acc: 0.9749\n",
      "Epoch 125/150\n",
      "398/398 [==============================] - ETA: 0s - loss: 0.1604 - acc: 1.000 - 0s 111us/step - loss: 0.0823 - acc: 0.9648\n",
      "Epoch 126/150\n",
      "398/398 [==============================] - ETA: 0s - loss: 0.1383 - acc: 1.000 - 0s 118us/step - loss: 0.0695 - acc: 0.9698\n",
      "Epoch 127/150\n",
      "398/398 [==============================] - ETA: 0s - loss: 0.1783 - acc: 0.800 - 0s 106us/step - loss: 0.0715 - acc: 0.9598\n",
      "Epoch 128/150\n",
      "398/398 [==============================] - ETA: 0s - loss: 1.2987e-05 - acc: 1.000 - 0s 104us/step - loss: 0.0652 - acc: 0.9698\n",
      "Epoch 129/150\n",
      "398/398 [==============================] - ETA: 0s - loss: 0.1433 - acc: 0.900 - 0s 107us/step - loss: 0.0643 - acc: 0.9648\n",
      "Epoch 130/150\n",
      "398/398 [==============================] - ETA: 0s - loss: 0.1002 - acc: 1.000 - 0s 106us/step - loss: 0.0877 - acc: 0.9573\n",
      "Epoch 131/150\n",
      "398/398 [==============================] - ETA: 0s - loss: 0.0552 - acc: 1.000 - 0s 106us/step - loss: 0.0568 - acc: 0.9749\n",
      "Epoch 132/150\n",
      "398/398 [==============================] - ETA: 0s - loss: 0.2804 - acc: 0.900 - 0s 106us/step - loss: 0.0676 - acc: 0.9749\n",
      "Epoch 133/150\n",
      "398/398 [==============================] - ETA: 0s - loss: 0.1007 - acc: 0.900 - 0s 103us/step - loss: 0.0643 - acc: 0.9598\n",
      "Epoch 134/150\n",
      "398/398 [==============================] - ETA: 0s - loss: 0.0721 - acc: 1.000 - 0s 106us/step - loss: 0.0701 - acc: 0.9648\n",
      "Epoch 135/150\n",
      "398/398 [==============================] - ETA: 0s - loss: 0.0515 - acc: 1.000 - 0s 106us/step - loss: 0.0761 - acc: 0.9573\n",
      "Epoch 136/150\n",
      "398/398 [==============================] - ETA: 0s - loss: 0.0948 - acc: 0.900 - 0s 106us/step - loss: 0.0789 - acc: 0.9598\n",
      "Epoch 137/150\n",
      "398/398 [==============================] - ETA: 0s - loss: 0.0497 - acc: 1.000 - 0s 106us/step - loss: 0.0652 - acc: 0.9673\n",
      "Epoch 138/150\n",
      "398/398 [==============================] - ETA: 0s - loss: 0.1436 - acc: 0.900 - 0s 108us/step - loss: 0.0769 - acc: 0.9548\n",
      "Epoch 139/150\n",
      "398/398 [==============================] - ETA: 0s - loss: 0.2729 - acc: 0.800 - 0s 106us/step - loss: 0.0661 - acc: 0.9724\n",
      "Epoch 140/150\n",
      "398/398 [==============================] - ETA: 0s - loss: 3.8867e-06 - acc: 1.000 - 0s 106us/step - loss: 0.0678 - acc: 0.9698\n",
      "Epoch 141/150\n",
      "398/398 [==============================] - ETA: 0s - loss: 0.1144 - acc: 1.000 - 0s 105us/step - loss: 0.0694 - acc: 0.9648\n",
      "Epoch 142/150\n",
      "398/398 [==============================] - ETA: 0s - loss: 0.0489 - acc: 1.000 - 0s 113us/step - loss: 0.0658 - acc: 0.9673\n",
      "Epoch 143/150\n",
      "398/398 [==============================] - ETA: 0s - loss: 1.0844e-04 - acc: 1.000 - 0s 108us/step - loss: 0.0782 - acc: 0.9573\n",
      "Epoch 144/150\n",
      "398/398 [==============================] - ETA: 0s - loss: 0.0575 - acc: 1.000 - 0s 110us/step - loss: 0.0737 - acc: 0.9648\n",
      "Epoch 145/150\n",
      "398/398 [==============================] - ETA: 0s - loss: 2.0915e-04 - acc: 1.000 - 0s 111us/step - loss: 0.0682 - acc: 0.9648\n",
      "Epoch 146/150\n",
      "398/398 [==============================] - ETA: 0s - loss: 0.0040 - acc: 1.000 - 0s 108us/step - loss: 0.0737 - acc: 0.9598\n",
      "Epoch 147/150\n",
      "398/398 [==============================] - ETA: 0s - loss: 0.0487 - acc: 1.000 - 0s 111us/step - loss: 0.0603 - acc: 0.9698\n",
      "Epoch 148/150\n",
      "398/398 [==============================] - ETA: 0s - loss: 0.0485 - acc: 1.000 - 0s 116us/step - loss: 0.0754 - acc: 0.9749\n",
      "Epoch 149/150\n",
      "398/398 [==============================] - ETA: 0s - loss: 0.0011 - acc: 1.000 - 0s 111us/step - loss: 0.0824 - acc: 0.9598\n",
      "Epoch 150/150\n",
      "398/398 [==============================] - ETA: 0s - loss: 0.1242 - acc: 0.900 - 0s 111us/step - loss: 0.0567 - acc: 0.9749\n"
     ]
    },
    {
     "data": {
      "text/plain": [
       "<keras.callbacks.History at 0x1bce032cbc8>"
      ]
     },
     "execution_count": 141,
     "metadata": {},
     "output_type": "execute_result"
    }
   ],
   "source": [
    "# fit the keras model on the dataset\n",
    "model.fit(X_train, y_train, epochs=150, batch_size=10)"
   ]
  },
  {
   "cell_type": "code",
   "execution_count": 142,
   "metadata": {},
   "outputs": [
    {
     "name": "stdout",
     "output_type": "stream",
     "text": [
      "398/398 [==============================] - ETA:  - 0s 131us/step\n"
     ]
    },
    {
     "data": {
      "text/plain": [
       "1.0"
      ]
     },
     "execution_count": 142,
     "metadata": {},
     "output_type": "execute_result"
    }
   ],
   "source": [
    "# evaluate the keras model\n",
    "_, accuracy = model.evaluate(X_train, y_train)\n",
    "accuracy\n",
    "#print('Accuracy: %.3f' % (accuracy*100))"
   ]
  },
  {
   "cell_type": "code",
   "execution_count": 143,
   "metadata": {},
   "outputs": [],
   "source": [
    "y_pred = model.predict(X_test)"
   ]
  },
  {
   "cell_type": "code",
   "execution_count": 144,
   "metadata": {},
   "outputs": [],
   "source": [
    "#y_pred = y_pred.reshape(-1)"
   ]
  },
  {
   "cell_type": "code",
   "execution_count": 145,
   "metadata": {},
   "outputs": [],
   "source": [
    "y_pred = (y_pred[:, 0] > 0.5).astype(np.int8)    "
   ]
  },
  {
   "cell_type": "code",
   "execution_count": 146,
   "metadata": {},
   "outputs": [
    {
     "name": "stdout",
     "output_type": "stream",
     "text": [
      "Recall / Sensitivity: 0.953\n"
     ]
    }
   ],
   "source": [
    "recall = metrics.recall_score(y_test, y_pred,pos_label = 1)\n",
    "print(\"Recall / Sensitivity: %.3f\" % recall)"
   ]
  },
  {
   "cell_type": "code",
   "execution_count": 147,
   "metadata": {},
   "outputs": [
    {
     "name": "stdout",
     "output_type": "stream",
     "text": [
      "Specificity: 0.972\n"
     ]
    }
   ],
   "source": [
    "tn, fp, fn, tp = confusion_matrix(y_test, y_pred).ravel()\n",
    "specificity = tn / (tn+fp)\n",
    "print(\"Specificity: %.3f\" % specificity)"
   ]
  },
  {
   "cell_type": "code",
   "execution_count": 148,
   "metadata": {},
   "outputs": [
    {
     "data": {
      "text/plain": [
       "array([[104,   3],\n",
       "       [  3,  61]], dtype=int64)"
      ]
     },
     "execution_count": 148,
     "metadata": {},
     "output_type": "execute_result"
    }
   ],
   "source": [
    "confusion_matrix(y_test, y_pred)"
   ]
  },
  {
   "cell_type": "code",
   "execution_count": 149,
   "metadata": {},
   "outputs": [
    {
     "name": "stdout",
     "output_type": "stream",
     "text": [
      "AUC: 0.963\n"
     ]
    }
   ],
   "source": [
    "auc = roc_auc_score(y_test, y_pred)\n",
    "print(\"AUC: %.3f\" % auc)"
   ]
  },
  {
   "cell_type": "markdown",
   "metadata": {},
   "source": [
    "## j) KNN + PCA"
   ]
  },
  {
   "cell_type": "code",
   "execution_count": 150,
   "metadata": {},
   "outputs": [],
   "source": [
    "# Create specificity scoring function\n",
    "from sklearn.metrics import make_scorer\n",
    "spec_score = make_scorer(metrics.recall_score,pos_label=0)"
   ]
  },
  {
   "cell_type": "code",
   "execution_count": 151,
   "metadata": {},
   "outputs": [],
   "source": [
    "knn_pca = KNeighborsClassifier().fit(pc_X_train, pc_y_train.values.ravel())"
   ]
  },
  {
   "cell_type": "code",
   "execution_count": 152,
   "metadata": {},
   "outputs": [
    {
     "name": "stdout",
     "output_type": "stream",
     "text": [
      "Cross Validated Specificity: 0.988\n"
     ]
    }
   ],
   "source": [
    "cval_spec = cross_val_score(knn_pca, pc_X_train, pc_y_train.values.ravel(), cv= 10, scoring = spec_score).mean()\n",
    "print(\"Cross Validated Specificity: %.3f\" % cval_spec)"
   ]
  },
  {
   "cell_type": "code",
   "execution_count": 153,
   "metadata": {},
   "outputs": [],
   "source": [
    "y_pred = knn_pca.predict(pc_X_test)\n",
    "y_pred_proba = knn_pca.predict_proba(pc_X_test)"
   ]
  },
  {
   "cell_type": "code",
   "execution_count": 154,
   "metadata": {},
   "outputs": [
    {
     "name": "stdout",
     "output_type": "stream",
     "text": [
      "Recall / Sensitivity: 0.857\n"
     ]
    }
   ],
   "source": [
    "recall = metrics.recall_score(pc_y_test, y_pred,pos_label = 1)\n",
    "print(\"Recall / Sensitivity: %.3f\" % recall)"
   ]
  },
  {
   "cell_type": "code",
   "execution_count": 155,
   "metadata": {},
   "outputs": [
    {
     "name": "stdout",
     "output_type": "stream",
     "text": [
      "Specificity: 0.981\n"
     ]
    }
   ],
   "source": [
    "tn, fp, fn, tp = confusion_matrix(pc_y_test, y_pred).ravel()\n",
    "specificity = tn / (tn+fp)\n",
    "print(\"Specificity: %.3f\" % specificity)"
   ]
  },
  {
   "cell_type": "code",
   "execution_count": 156,
   "metadata": {},
   "outputs": [
    {
     "name": "stdout",
     "output_type": "stream",
     "text": [
      "AUC: 0.919\n"
     ]
    }
   ],
   "source": [
    "auc = roc_auc_score(pc_y_test, y_pred)\n",
    "print(\"AUC: %.3f\" % auc)"
   ]
  },
  {
   "cell_type": "code",
   "execution_count": 157,
   "metadata": {},
   "outputs": [
    {
     "data": {
      "text/plain": [
       "array([[105,   2],\n",
       "       [  9,  54]], dtype=int64)"
      ]
     },
     "execution_count": 157,
     "metadata": {},
     "output_type": "execute_result"
    }
   ],
   "source": [
    "confusion_matrix(pc_y_test, y_pred)"
   ]
  },
  {
   "cell_type": "code",
   "execution_count": 158,
   "metadata": {},
   "outputs": [
    {
     "data": {
      "image/png": "[encoded data removed]",
      "text/plain": [
       "<Figure size 432x288 with 1 Axes>"
      ]
     },
     "metadata": {
      "needs_background": "light"
     },
     "output_type": "display_data"
    }
   ],
   "source": [
    "skplt.metrics.plot_roc(pc_y_test, y_pred_proba)\n",
    "plt.show()"
   ]
  },
  {
   "cell_type": "markdown",
   "metadata": {},
   "source": [
    "## k) KNN + X_best from feature importance"
   ]
  },
  {
   "cell_type": "code",
   "execution_count": 159,
   "metadata": {},
   "outputs": [
    {
     "data": {
      "text/plain": [
       "KNeighborsClassifier()"
      ]
     },
     "execution_count": 159,
     "metadata": {},
     "output_type": "execute_result"
    }
   ],
   "source": [
    "knn_best = KNeighborsClassifier()\n",
    "knn_best.fit(X_train_best, y_train)"
   ]
  },
  {
   "cell_type": "code",
   "execution_count": 160,
   "metadata": {},
   "outputs": [],
   "source": [
    "y_pred = knn_best.predict(X_test_best)"
   ]
  },
  {
   "cell_type": "code",
   "execution_count": 161,
   "metadata": {},
   "outputs": [
    {
     "name": "stdout",
     "output_type": "stream",
     "text": [
      "Recall / Sensitivity: 0.953\n"
     ]
    }
   ],
   "source": [
    "recall = metrics.recall_score(y_test, y_pred,pos_label = 1)\n",
    "print(\"Recall / Sensitivity: %.3f\" % recall)"
   ]
  },
  {
   "cell_type": "code",
   "execution_count": 162,
   "metadata": {},
   "outputs": [
    {
     "name": "stdout",
     "output_type": "stream",
     "text": [
      "Specificity: 0.972\n"
     ]
    }
   ],
   "source": [
    "tn, fp, fn, tp = confusion_matrix(y_test, y_pred).ravel()\n",
    "specificity = tn / (tn+fp)\n",
    "print(\"Specificity: %.3f\" % specificity)"
   ]
  },
  {
   "cell_type": "code",
   "execution_count": 163,
   "metadata": {},
   "outputs": [
    {
     "name": "stdout",
     "output_type": "stream",
     "text": [
      "AUC: 0.963\n"
     ]
    }
   ],
   "source": [
    "auc = roc_auc_score(y_test, y_pred)\n",
    "print(\"AUC: %.3f\" % auc)"
   ]
  },
  {
   "cell_type": "code",
   "execution_count": 164,
   "metadata": {},
   "outputs": [
    {
     "data": {
      "text/plain": [
       "array([[104,   3],\n",
       "       [  3,  61]], dtype=int64)"
      ]
     },
     "execution_count": 164,
     "metadata": {},
     "output_type": "execute_result"
    }
   ],
   "source": [
    "confusion_matrix(y_test, y_pred)"
   ]
  },
  {
   "cell_type": "markdown",
   "metadata": {},
   "source": [
    "### - KNN PCA Hyperparameter Tuning using Optuna"
   ]
  },
  {
   "cell_type": "code",
   "execution_count": 165,
   "metadata": {},
   "outputs": [
    {
     "data": {
      "text/plain": [
       "{'algorithm': 'auto',\n",
       " 'leaf_size': 30,\n",
       " 'metric': 'minkowski',\n",
       " 'metric_params': None,\n",
       " 'n_jobs': None,\n",
       " 'n_neighbors': 5,\n",
       " 'p': 2,\n",
       " 'weights': 'uniform'}"
      ]
     },
     "execution_count": 165,
     "metadata": {},
     "output_type": "execute_result"
    }
   ],
   "source": [
    "KNeighborsClassifier().get_params()"
   ]
  },
  {
   "cell_type": "code",
   "execution_count": 166,
   "metadata": {},
   "outputs": [],
   "source": [
    "def objective_knn(trial: Trial, X, y):\n",
    "    #train_class = data['diagnosis'].values\n",
    "    \n",
    "    #train_X, test_X, train_y, test_y = train_test_split(X, y,\n",
    "    #                                                    stratify = train_class,\n",
    "    #                                                    test_size = 0.25, \n",
    "    #                                                    random_state = random_seed)\n",
    "    \n",
    "    param = {\n",
    "        \"n_neighbors\": trial.suggest_int('n_neighbors', 1,20),\n",
    "        \"weights\" : trial.suggest_categorical('weights', ['uniform', 'distance']),\n",
    "        'p' : trial.suggest_int('p', 1, 2),\n",
    "        'n_jobs':-1\n",
    "        }\n",
    "    \n",
    "    \n",
    "       \n",
    "    model = KNeighborsClassifier()\n",
    "    \n",
    "    cv = RepeatedStratifiedKFold(n_splits=10, n_repeats=3, random_state= 1)\n",
    "    \n",
    "    return cross_val_score(model,\n",
    "                           X, \n",
    "                           y, \n",
    "                           cv = cv, \n",
    "                           scoring = 'recall',\n",
    "                           n_jobs=-1, \n",
    "                           error_score='raise').mean()"
   ]
  },
  {
   "cell_type": "code",
   "execution_count": 167,
   "metadata": {},
   "outputs": [
    {
     "name": "stderr",
     "output_type": "stream",
     "text": [
      "[I 2020-10-31 15:05:54,234] A new study created in memory with name: no-name-8198480c-f205-47a9-b503-6e0ace3ce8aa\n",
      "[I 2020-10-31 15:05:54,368] Trial 0 finished with value: 0.9152380952380953 and parameters: {'n_neighbors': 14, 'weights': 'uniform', 'p': 1}. Best is trial 0 with value: 0.9152380952380953.\n",
      "[I 2020-10-31 15:05:54,507] Trial 1 finished with value: 0.9152380952380953 and parameters: {'n_neighbors': 3, 'weights': 'uniform', 'p': 2}. Best is trial 0 with value: 0.9152380952380953.\n",
      "[I 2020-10-31 15:05:54,642] Trial 2 finished with value: 0.9152380952380953 and parameters: {'n_neighbors': 20, 'weights': 'uniform', 'p': 2}. Best is trial 0 with value: 0.9152380952380953.\n",
      "[I 2020-10-31 15:05:54,816] Trial 3 finished with value: 0.9152380952380953 and parameters: {'n_neighbors': 2, 'weights': 'uniform', 'p': 2}. Best is trial 0 with value: 0.9152380952380953.\n",
      "[I 2020-10-31 15:05:54,959] Trial 4 finished with value: 0.9152380952380953 and parameters: {'n_neighbors': 16, 'weights': 'distance', 'p': 1}. Best is trial 0 with value: 0.9152380952380953.\n",
      "[I 2020-10-31 15:05:55,107] Trial 5 finished with value: 0.9152380952380953 and parameters: {'n_neighbors': 15, 'weights': 'uniform', 'p': 2}. Best is trial 0 with value: 0.9152380952380953.\n",
      "[I 2020-10-31 15:05:55,258] Trial 6 finished with value: 0.9152380952380953 and parameters: {'n_neighbors': 20, 'weights': 'uniform', 'p': 2}. Best is trial 0 with value: 0.9152380952380953.\n",
      "[I 2020-10-31 15:05:55,431] Trial 7 finished with value: 0.9152380952380953 and parameters: {'n_neighbors': 5, 'weights': 'uniform', 'p': 1}. Best is trial 0 with value: 0.9152380952380953.\n",
      "[I 2020-10-31 15:05:55,575] Trial 8 finished with value: 0.9152380952380953 and parameters: {'n_neighbors': 5, 'weights': 'distance', 'p': 2}. Best is trial 0 with value: 0.9152380952380953.\n",
      "[I 2020-10-31 15:05:55,723] Trial 9 finished with value: 0.9152380952380953 and parameters: {'n_neighbors': 4, 'weights': 'uniform', 'p': 1}. Best is trial 0 with value: 0.9152380952380953.\n",
      "[I 2020-10-31 15:05:55,872] Trial 10 finished with value: 0.9152380952380953 and parameters: {'n_neighbors': 10, 'weights': 'distance', 'p': 1}. Best is trial 0 with value: 0.9152380952380953.\n",
      "[I 2020-10-31 15:05:56,023] Trial 11 finished with value: 0.9152380952380953 and parameters: {'n_neighbors': 10, 'weights': 'uniform', 'p': 1}. Best is trial 0 with value: 0.9152380952380953.\n",
      "[I 2020-10-31 15:05:56,173] Trial 12 finished with value: 0.9152380952380953 and parameters: {'n_neighbors': 14, 'weights': 'uniform', 'p': 1}. Best is trial 0 with value: 0.9152380952380953.\n",
      "[I 2020-10-31 15:05:56,325] Trial 13 finished with value: 0.9152380952380953 and parameters: {'n_neighbors': 12, 'weights': 'uniform', 'p': 2}. Best is trial 0 with value: 0.9152380952380953.\n",
      "[I 2020-10-31 15:05:56,492] Trial 14 finished with value: 0.9152380952380953 and parameters: {'n_neighbors': 8, 'weights': 'uniform', 'p': 2}. Best is trial 0 with value: 0.9152380952380953.\n",
      "[I 2020-10-31 15:05:56,640] Trial 15 finished with value: 0.9152380952380953 and parameters: {'n_neighbors': 17, 'weights': 'uniform', 'p': 1}. Best is trial 0 with value: 0.9152380952380953.\n",
      "[I 2020-10-31 15:05:56,808] Trial 16 finished with value: 0.9152380952380953 and parameters: {'n_neighbors': 1, 'weights': 'uniform', 'p': 1}. Best is trial 0 with value: 0.9152380952380953.\n",
      "[I 2020-10-31 15:05:56,957] Trial 17 finished with value: 0.9152380952380953 and parameters: {'n_neighbors': 7, 'weights': 'distance', 'p': 2}. Best is trial 0 with value: 0.9152380952380953.\n",
      "[I 2020-10-31 15:05:57,108] Trial 18 finished with value: 0.9152380952380953 and parameters: {'n_neighbors': 18, 'weights': 'uniform', 'p': 1}. Best is trial 0 with value: 0.9152380952380953.\n",
      "[I 2020-10-31 15:05:57,258] Trial 19 finished with value: 0.9152380952380953 and parameters: {'n_neighbors': 12, 'weights': 'uniform', 'p': 1}. Best is trial 0 with value: 0.9152380952380953.\n",
      "[I 2020-10-31 15:05:57,424] Trial 20 finished with value: 0.9152380952380953 and parameters: {'n_neighbors': 6, 'weights': 'distance', 'p': 2}. Best is trial 0 with value: 0.9152380952380953.\n",
      "[I 2020-10-31 15:05:57,575] Trial 21 finished with value: 0.9152380952380953 and parameters: {'n_neighbors': 18, 'weights': 'distance', 'p': 1}. Best is trial 0 with value: 0.9152380952380953.\n",
      "[I 2020-10-31 15:05:57,725] Trial 22 finished with value: 0.9152380952380953 and parameters: {'n_neighbors': 13, 'weights': 'uniform', 'p': 1}. Best is trial 0 with value: 0.9152380952380953.\n",
      "[I 2020-10-31 15:05:57,875] Trial 23 finished with value: 0.9152380952380953 and parameters: {'n_neighbors': 12, 'weights': 'distance', 'p': 1}. Best is trial 0 with value: 0.9152380952380953.\n",
      "[I 2020-10-31 15:05:58,042] Trial 24 finished with value: 0.9152380952380953 and parameters: {'n_neighbors': 18, 'weights': 'distance', 'p': 1}. Best is trial 0 with value: 0.9152380952380953.\n",
      "[I 2020-10-31 15:05:58,192] Trial 25 finished with value: 0.9152380952380953 and parameters: {'n_neighbors': 14, 'weights': 'distance', 'p': 1}. Best is trial 0 with value: 0.9152380952380953.\n",
      "[I 2020-10-31 15:05:58,340] Trial 26 finished with value: 0.9152380952380953 and parameters: {'n_neighbors': 12, 'weights': 'distance', 'p': 1}. Best is trial 0 with value: 0.9152380952380953.\n",
      "[I 2020-10-31 15:05:58,503] Trial 27 finished with value: 0.9152380952380953 and parameters: {'n_neighbors': 9, 'weights': 'distance', 'p': 1}. Best is trial 0 with value: 0.9152380952380953.\n",
      "[I 2020-10-31 15:05:58,657] Trial 28 finished with value: 0.9152380952380953 and parameters: {'n_neighbors': 15, 'weights': 'distance', 'p': 1}. Best is trial 0 with value: 0.9152380952380953.\n",
      "[I 2020-10-31 15:05:58,813] Trial 29 finished with value: 0.9152380952380953 and parameters: {'n_neighbors': 14, 'weights': 'distance', 'p': 1}. Best is trial 0 with value: 0.9152380952380953.\n",
      "[I 2020-10-31 15:05:58,977] Trial 30 finished with value: 0.9152380952380953 and parameters: {'n_neighbors': 9, 'weights': 'distance', 'p': 1}. Best is trial 0 with value: 0.9152380952380953.\n",
      "[I 2020-10-31 15:05:59,132] Trial 31 finished with value: 0.9152380952380953 and parameters: {'n_neighbors': 11, 'weights': 'distance', 'p': 1}. Best is trial 0 with value: 0.9152380952380953.\n",
      "[I 2020-10-31 15:05:59,292] Trial 32 finished with value: 0.9152380952380953 and parameters: {'n_neighbors': 16, 'weights': 'distance', 'p': 1}. Best is trial 0 with value: 0.9152380952380953.\n",
      "[I 2020-10-31 15:05:59,441] Trial 33 finished with value: 0.9152380952380953 and parameters: {'n_neighbors': 14, 'weights': 'distance', 'p': 1}. Best is trial 0 with value: 0.9152380952380953.\n",
      "[I 2020-10-31 15:05:59,594] Trial 34 finished with value: 0.9152380952380953 and parameters: {'n_neighbors': 11, 'weights': 'distance', 'p': 1}. Best is trial 0 with value: 0.9152380952380953.\n",
      "[I 2020-10-31 15:05:59,758] Trial 35 finished with value: 0.9152380952380953 and parameters: {'n_neighbors': 20, 'weights': 'uniform', 'p': 2}. Best is trial 0 with value: 0.9152380952380953.\n",
      "[I 2020-10-31 15:05:59,917] Trial 36 finished with value: 0.9152380952380953 and parameters: {'n_neighbors': 18, 'weights': 'uniform', 'p': 2}. Best is trial 0 with value: 0.9152380952380953.\n",
      "[I 2020-10-31 15:06:00,054] Trial 37 finished with value: 0.9152380952380953 and parameters: {'n_neighbors': 19, 'weights': 'uniform', 'p': 2}. Best is trial 0 with value: 0.9152380952380953.\n",
      "[I 2020-10-31 15:06:00,221] Trial 38 finished with value: 0.9152380952380953 and parameters: {'n_neighbors': 13, 'weights': 'uniform', 'p': 1}. Best is trial 0 with value: 0.9152380952380953.\n",
      "[I 2020-10-31 15:06:00,375] Trial 39 finished with value: 0.9152380952380953 and parameters: {'n_neighbors': 16, 'weights': 'uniform', 'p': 1}. Best is trial 0 with value: 0.9152380952380953.\n",
      "[I 2020-10-31 15:06:00,542] Trial 40 finished with value: 0.9152380952380953 and parameters: {'n_neighbors': 13, 'weights': 'distance', 'p': 1}. Best is trial 0 with value: 0.9152380952380953.\n",
      "[I 2020-10-31 15:06:00,698] Trial 41 finished with value: 0.9152380952380953 and parameters: {'n_neighbors': 15, 'weights': 'distance', 'p': 1}. Best is trial 0 with value: 0.9152380952380953.\n",
      "[I 2020-10-31 15:06:00,861] Trial 42 finished with value: 0.9152380952380953 and parameters: {'n_neighbors': 11, 'weights': 'distance', 'p': 1}. Best is trial 0 with value: 0.9152380952380953.\n",
      "[I 2020-10-31 15:06:01,009] Trial 43 finished with value: 0.9152380952380953 and parameters: {'n_neighbors': 12, 'weights': 'distance', 'p': 1}. Best is trial 0 with value: 0.9152380952380953.\n",
      "[I 2020-10-31 15:06:01,161] Trial 44 finished with value: 0.9152380952380953 and parameters: {'n_neighbors': 9, 'weights': 'distance', 'p': 1}. Best is trial 0 with value: 0.9152380952380953.\n",
      "[I 2020-10-31 15:06:01,321] Trial 45 finished with value: 0.9152380952380953 and parameters: {'n_neighbors': 10, 'weights': 'distance', 'p': 1}. Best is trial 0 with value: 0.9152380952380953.\n",
      "[I 2020-10-31 15:06:01,473] Trial 46 finished with value: 0.9152380952380953 and parameters: {'n_neighbors': 15, 'weights': 'distance', 'p': 1}. Best is trial 0 with value: 0.9152380952380953.\n",
      "[I 2020-10-31 15:06:01,640] Trial 47 finished with value: 0.9152380952380953 and parameters: {'n_neighbors': 16, 'weights': 'distance', 'p': 1}. Best is trial 0 with value: 0.9152380952380953.\n",
      "[I 2020-10-31 15:06:01,828] Trial 48 finished with value: 0.9152380952380953 and parameters: {'n_neighbors': 15, 'weights': 'distance', 'p': 1}. Best is trial 0 with value: 0.9152380952380953.\n",
      "[I 2020-10-31 15:06:02,009] Trial 49 finished with value: 0.9152380952380953 and parameters: {'n_neighbors': 8, 'weights': 'distance', 'p': 1}. Best is trial 0 with value: 0.9152380952380953.\n",
      "[I 2020-10-31 15:06:02,190] Trial 50 finished with value: 0.9152380952380953 and parameters: {'n_neighbors': 9, 'weights': 'distance', 'p': 1}. Best is trial 0 with value: 0.9152380952380953.\n",
      "[I 2020-10-31 15:06:02,373] Trial 51 finished with value: 0.9152380952380953 and parameters: {'n_neighbors': 9, 'weights': 'distance', 'p': 1}. Best is trial 0 with value: 0.9152380952380953.\n",
      "[I 2020-10-31 15:06:02,559] Trial 52 finished with value: 0.9152380952380953 and parameters: {'n_neighbors': 17, 'weights': 'distance', 'p': 1}. Best is trial 0 with value: 0.9152380952380953.\n",
      "[I 2020-10-31 15:06:02,747] Trial 53 finished with value: 0.9152380952380953 and parameters: {'n_neighbors': 14, 'weights': 'distance', 'p': 1}. Best is trial 0 with value: 0.9152380952380953.\n",
      "[I 2020-10-31 15:06:02,907] Trial 54 finished with value: 0.9152380952380953 and parameters: {'n_neighbors': 14, 'weights': 'distance', 'p': 1}. Best is trial 0 with value: 0.9152380952380953.\n",
      "[I 2020-10-31 15:06:03,072] Trial 55 finished with value: 0.9152380952380953 and parameters: {'n_neighbors': 13, 'weights': 'distance', 'p': 1}. Best is trial 0 with value: 0.9152380952380953.\n",
      "[I 2020-10-31 15:06:03,220] Trial 56 finished with value: 0.9152380952380953 and parameters: {'n_neighbors': 11, 'weights': 'distance', 'p': 1}. Best is trial 0 with value: 0.9152380952380953.\n",
      "[I 2020-10-31 15:06:03,355] Trial 57 finished with value: 0.9152380952380953 and parameters: {'n_neighbors': 11, 'weights': 'distance', 'p': 1}. Best is trial 0 with value: 0.9152380952380953.\n",
      "[I 2020-10-31 15:06:03,516] Trial 58 finished with value: 0.9152380952380953 and parameters: {'n_neighbors': 20, 'weights': 'uniform', 'p': 2}. Best is trial 0 with value: 0.9152380952380953.\n",
      "[I 2020-10-31 15:06:03,668] Trial 59 finished with value: 0.9152380952380953 and parameters: {'n_neighbors': 19, 'weights': 'uniform', 'p': 2}. Best is trial 0 with value: 0.9152380952380953.\n",
      "[I 2020-10-31 15:06:03,838] Trial 60 finished with value: 0.9152380952380953 and parameters: {'n_neighbors': 17, 'weights': 'uniform', 'p': 2}. Best is trial 0 with value: 0.9152380952380953.\n",
      "[I 2020-10-31 15:06:03,968] Trial 61 finished with value: 0.9152380952380953 and parameters: {'n_neighbors': 19, 'weights': 'uniform', 'p': 2}. Best is trial 0 with value: 0.9152380952380953.\n",
      "[I 2020-10-31 15:06:04,121] Trial 62 finished with value: 0.9152380952380953 and parameters: {'n_neighbors': 20, 'weights': 'uniform', 'p': 2}. Best is trial 0 with value: 0.9152380952380953.\n",
      "[I 2020-10-31 15:06:04,280] Trial 63 finished with value: 0.9152380952380953 and parameters: {'n_neighbors': 19, 'weights': 'uniform', 'p': 2}. Best is trial 0 with value: 0.9152380952380953.\n",
      "[I 2020-10-31 15:06:04,427] Trial 64 finished with value: 0.9152380952380953 and parameters: {'n_neighbors': 16, 'weights': 'uniform', 'p': 2}. Best is trial 0 with value: 0.9152380952380953.\n",
      "[I 2020-10-31 15:06:04,572] Trial 65 finished with value: 0.9152380952380953 and parameters: {'n_neighbors': 18, 'weights': 'uniform', 'p': 2}. Best is trial 0 with value: 0.9152380952380953.\n",
      "[I 2020-10-31 15:06:04,731] Trial 66 finished with value: 0.9152380952380953 and parameters: {'n_neighbors': 13, 'weights': 'uniform', 'p': 2}. Best is trial 0 with value: 0.9152380952380953.\n",
      "[I 2020-10-31 15:06:04,891] Trial 67 finished with value: 0.9152380952380953 and parameters: {'n_neighbors': 19, 'weights': 'uniform', 'p': 2}. Best is trial 0 with value: 0.9152380952380953.\n",
      "[I 2020-10-31 15:06:05,039] Trial 68 finished with value: 0.9152380952380953 and parameters: {'n_neighbors': 17, 'weights': 'uniform', 'p': 1}. Best is trial 0 with value: 0.9152380952380953.\n",
      "[I 2020-10-31 15:06:05,187] Trial 69 finished with value: 0.9152380952380953 and parameters: {'n_neighbors': 13, 'weights': 'uniform', 'p': 1}. Best is trial 0 with value: 0.9152380952380953.\n",
      "[I 2020-10-31 15:06:05,339] Trial 70 finished with value: 0.9152380952380953 and parameters: {'n_neighbors': 13, 'weights': 'uniform', 'p': 1}. Best is trial 0 with value: 0.9152380952380953.\n",
      "[I 2020-10-31 15:06:05,490] Trial 71 finished with value: 0.9152380952380953 and parameters: {'n_neighbors': 8, 'weights': 'distance', 'p': 1}. Best is trial 0 with value: 0.9152380952380953.\n",
      "[I 2020-10-31 15:06:05,630] Trial 72 finished with value: 0.9152380952380953 and parameters: {'n_neighbors': 7, 'weights': 'distance', 'p': 1}. Best is trial 0 with value: 0.9152380952380953.\n",
      "[I 2020-10-31 15:06:05,773] Trial 73 finished with value: 0.9152380952380953 and parameters: {'n_neighbors': 8, 'weights': 'distance', 'p': 1}. Best is trial 0 with value: 0.9152380952380953.\n",
      "[I 2020-10-31 15:06:05,917] Trial 74 finished with value: 0.9152380952380953 and parameters: {'n_neighbors': 6, 'weights': 'distance', 'p': 1}. Best is trial 0 with value: 0.9152380952380953.\n"
     ]
    }
   ],
   "source": [
    "study_knn = optuna.create_study(direction = 'maximize', sampler = TPESampler(seed = random_seed))\n",
    "\n",
    "# the code below just to be run once\n",
    "study_knn.optimize(lambda trial: objective_knn(trial, pc_X_train, pc_y_train), n_trials = 75)"
   ]
  },
  {
   "cell_type": "code",
   "execution_count": 168,
   "metadata": {},
   "outputs": [
    {
     "name": "stdout",
     "output_type": "stream",
     "text": [
      "Best trial: score 0.9152380952380953, \n",
      "params{'n_neighbors': 14, 'weights': 'uniform', 'p': 1}\n"
     ]
    }
   ],
   "source": [
    "print('Best trial: score {}, \\nparams{}'.format(study_knn.best_trial.value, study_knn.best_trial.params))"
   ]
  },
  {
   "cell_type": "code",
   "execution_count": 169,
   "metadata": {},
   "outputs": [
    {
     "data": {
      "text/plain": [
       "['knnpca_best.pkl']"
      ]
     },
     "execution_count": 169,
     "metadata": {},
     "output_type": "execute_result"
    }
   ],
   "source": [
    "# save knn best parameters\n",
    "joblib.dump(study_knn.best_trial.params, 'knnpca_best.pkl', compress = 1)"
   ]
  },
  {
   "cell_type": "markdown",
   "metadata": {},
   "source": [
    "## l) KNN - Optimized Param + PCA"
   ]
  },
  {
   "cell_type": "code",
   "execution_count": 170,
   "metadata": {},
   "outputs": [],
   "source": [
    "knn_pca_param = joblib.load('knnpca_best.pkl')"
   ]
  },
  {
   "cell_type": "code",
   "execution_count": 171,
   "metadata": {},
   "outputs": [],
   "source": [
    "knn_pca_opt = KNeighborsClassifier().set_params(**knn_pca_param)"
   ]
  },
  {
   "cell_type": "code",
   "execution_count": 172,
   "metadata": {},
   "outputs": [
    {
     "data": {
      "text/plain": [
       "KNeighborsClassifier(n_neighbors=14, p=1)"
      ]
     },
     "execution_count": 172,
     "metadata": {},
     "output_type": "execute_result"
    }
   ],
   "source": [
    "knn_pca_opt.fit(pc_X_train, pc_y_train.values.ravel())"
   ]
  },
  {
   "cell_type": "code",
   "execution_count": 173,
   "metadata": {},
   "outputs": [],
   "source": [
    "y_pred = knn_pca.predict(pc_X_test)\n",
    "y_pred_proba = knn_pca.predict_proba(pc_X_test)"
   ]
  },
  {
   "cell_type": "code",
   "execution_count": 174,
   "metadata": {},
   "outputs": [
    {
     "name": "stdout",
     "output_type": "stream",
     "text": [
      "Recall / Sensitivity: 0.857\n"
     ]
    }
   ],
   "source": [
    "recall = metrics.recall_score(pc_y_test, y_pred,pos_label = 1)\n",
    "print(\"Recall / Sensitivity: %.3f\" % recall)"
   ]
  },
  {
   "cell_type": "code",
   "execution_count": 175,
   "metadata": {},
   "outputs": [
    {
     "name": "stdout",
     "output_type": "stream",
     "text": [
      "Specificity: 0.981\n"
     ]
    }
   ],
   "source": [
    "tn, fp, fn, tp = confusion_matrix(pc_y_test, y_pred).ravel()\n",
    "specificity = tn / (tn+fp)\n",
    "print(\"Specificity: %.3f\" % specificity)"
   ]
  },
  {
   "cell_type": "code",
   "execution_count": 176,
   "metadata": {},
   "outputs": [
    {
     "name": "stdout",
     "output_type": "stream",
     "text": [
      "AUC: 0.919\n"
     ]
    }
   ],
   "source": [
    "auc = roc_auc_score(pc_y_test, y_pred)\n",
    "print(\"AUC: %.3f\" % auc)"
   ]
  },
  {
   "cell_type": "code",
   "execution_count": 177,
   "metadata": {},
   "outputs": [
    {
     "data": {
      "text/plain": [
       "array([[105,   2],\n",
       "       [  9,  54]], dtype=int64)"
      ]
     },
     "execution_count": 177,
     "metadata": {},
     "output_type": "execute_result"
    }
   ],
   "source": [
    "confusion_matrix(pc_y_test, y_pred)"
   ]
  },
  {
   "cell_type": "code",
   "execution_count": 178,
   "metadata": {
    "scrolled": true
   },
   "outputs": [
    {
     "data": {
      "image/png": "[encoded data removed]",
      "text/plain": [
       "<Figure size 432x288 with 1 Axes>"
      ]
     },
     "metadata": {
      "needs_background": "light"
     },
     "output_type": "display_data"
    }
   ],
   "source": [
    "skplt.metrics.plot_roc(pc_y_test, y_pred_proba)\n",
    "plt.show()"
   ]
  },
  {
   "cell_type": "code",
   "execution_count": null,
   "metadata": {},
   "outputs": [],
   "source": []
  },
  {
   "cell_type": "code",
   "execution_count": null,
   "metadata": {},
   "outputs": [],
   "source": []
  }
 ],
 "metadata": {
  "kernelspec": {
   "display_name": "Python 3",
   "language": "python",
   "name": "python3"
  },
  "language_info": {
   "codemirror_mode": {
    "name": "ipython",
    "version": 3
   },
   "file_extension": ".py",
   "mimetype": "text/x-python",
   "name": "python",
   "nbconvert_exporter": "python",
   "pygments_lexer": "ipython3",
   "version": "3.7.9"
  }
 },
 "nbformat": 4,
 "nbformat_minor": 4
}
